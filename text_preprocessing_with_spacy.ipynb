{
 "cells": [
  {
   "cell_type": "markdown",
   "id": "90c63030-b0a1-4186-be6f-3702702018b6",
   "metadata": {},
   "source": [
    "# Librairies"
   ]
  },
  {
   "cell_type": "code",
   "execution_count": 1,
   "id": "83d5e759-7489-445f-8949-8bf9aa15b058",
   "metadata": {},
   "outputs": [],
   "source": [
    "import pandas as pd\n",
    "import numpy as np\n",
    "import matplotlib.pyplot as plt\n",
    "\n",
    "from sklearn import feature_extraction\n",
    "import nltk\n",
    "from nltk import sent_tokenize \n",
    "from nltk.tokenize import word_tokenize,MWETokenizer \n",
    "from nltk.tag import pos_tag\n",
    "from nltk.stem import WordNetLemmatizer\n",
    "from nltk.corpus import stopwords\n",
    "import string\n",
    "import spacy\n",
    "from spacy.util import filter_spans\n",
    "from spacy.tokens import Span\n",
    "from spacy.matcher import Matcher\n",
    "from spacy import displacy\n",
    "from IPython.display import HTML, display\n",
    "import gensim\n",
    "# nltk.download('all')\n",
    "# nltk.download('maxent_ne_chunker')\n",
    "# nltk.download('words')\n",
    "# nltk.download('punkt')\n",
    "# nltk.download('stopwords')\n",
    "# nltk.download('wordnet')"
   ]
  },
  {
   "cell_type": "code",
   "execution_count": 2,
   "id": "b0b0a4c9-2e25-4b86-8b65-65d25b55c7a5",
   "metadata": {},
   "outputs": [],
   "source": [
    "nlp = spacy.load(\"en_core_web_lg\")\n",
    "nlp.Defaults.stop_words |= {\"or\",\"per\",\"like\",'-','_','','–','[]','\\n','\\n\\n','\\n\\n ','i.e.'}\n",
    "stopWords= spacy.lang.en.stop_words.STOP_WORDS #set(stopwords.words('english'))\n",
    "# stop_words"
   ]
  },
  {
   "cell_type": "markdown",
   "id": "e41a1c22-4fe5-49fc-8e95-36f92c914a40",
   "metadata": {},
   "source": [
    "# Read data"
   ]
  },
  {
   "cell_type": "code",
   "execution_count": 3,
   "id": "5c5eb67d-13d0-4ea7-8cbd-466a45e3b0f8",
   "metadata": {},
   "outputs": [
    {
     "data": {
      "text/html": [
       "<div>\n",
       "<style scoped>\n",
       "    .dataframe tbody tr th:only-of-type {\n",
       "        vertical-align: middle;\n",
       "    }\n",
       "\n",
       "    .dataframe tbody tr th {\n",
       "        vertical-align: top;\n",
       "    }\n",
       "\n",
       "    .dataframe thead th {\n",
       "        text-align: right;\n",
       "    }\n",
       "</style>\n",
       "<table border=\"1\" class=\"dataframe\">\n",
       "  <thead>\n",
       "    <tr style=\"text-align: right;\">\n",
       "      <th></th>\n",
       "      <th>Content</th>\n",
       "      <th>source</th>\n",
       "      <th>job_title</th>\n",
       "      <th>label</th>\n",
       "    </tr>\n",
       "  </thead>\n",
       "  <tbody>\n",
       "    <tr>\n",
       "      <th>0</th>\n",
       "      <td>Infoserv LLC\\nData Scientist\\nRemote\\nEmployer...</td>\n",
       "      <td>glassdoor</td>\n",
       "      <td>Data Scientist</td>\n",
       "      <td>job_description</td>\n",
       "    </tr>\n",
       "    <tr>\n",
       "      <th>1</th>\n",
       "      <td>ExxonMobil\\n3.1\\nData Scientist\\nClinton, NJ\\n...</td>\n",
       "      <td>glassdoor</td>\n",
       "      <td>Data Scientist</td>\n",
       "      <td>job_description</td>\n",
       "    </tr>\n",
       "    <tr>\n",
       "      <th>2</th>\n",
       "      <td>eBay Inc.\\n4.1\\nData Scientist/Applied Researc...</td>\n",
       "      <td>glassdoor</td>\n",
       "      <td>Data Scientist</td>\n",
       "      <td>job_description</td>\n",
       "    </tr>\n",
       "    <tr>\n",
       "      <th>3</th>\n",
       "      <td>TikTok\\n3.7\\nData Scientist, University Gradua...</td>\n",
       "      <td>glassdoor</td>\n",
       "      <td>Data Scientist</td>\n",
       "      <td>job_description</td>\n",
       "    </tr>\n",
       "    <tr>\n",
       "      <th>4</th>\n",
       "      <td>Mastercard\\n4.3\\nData Scientist, AI Services -...</td>\n",
       "      <td>glassdoor</td>\n",
       "      <td>Data Scientist</td>\n",
       "      <td>job_description</td>\n",
       "    </tr>\n",
       "  </tbody>\n",
       "</table>\n",
       "</div>"
      ],
      "text/plain": [
       "                                             Content     source  \\\n",
       "0  Infoserv LLC\\nData Scientist\\nRemote\\nEmployer...  glassdoor   \n",
       "1  ExxonMobil\\n3.1\\nData Scientist\\nClinton, NJ\\n...  glassdoor   \n",
       "2  eBay Inc.\\n4.1\\nData Scientist/Applied Researc...  glassdoor   \n",
       "3  TikTok\\n3.7\\nData Scientist, University Gradua...  glassdoor   \n",
       "4  Mastercard\\n4.3\\nData Scientist, AI Services -...  glassdoor   \n",
       "\n",
       "        job_title            label  \n",
       "0  Data Scientist  job_description  \n",
       "1  Data Scientist  job_description  \n",
       "2  Data Scientist  job_description  \n",
       "3  Data Scientist  job_description  \n",
       "4  Data Scientist  job_description  "
      ]
     },
     "execution_count": 3,
     "metadata": {},
     "output_type": "execute_result"
    }
   ],
   "source": [
    "job_description = pd.read_csv(\"data/unbalanced.csv\")\n",
    "job_description.head()"
   ]
  },
  {
   "cell_type": "markdown",
   "id": "8c649a10-f6e6-464e-a44c-116f59dfb63a",
   "metadata": {},
   "source": [
    "# Tokenisation"
   ]
  },
  {
   "cell_type": "code",
   "execution_count": 61,
   "id": "b0738879-157c-4994-8f57-09a3c139b050",
   "metadata": {},
   "outputs": [],
   "source": [
    "def nlp_spacy(text):\n",
    "        \"\"\"\n",
    "        Tokenize the text\n",
    "        Args: text\n",
    "            text:\n",
    "\n",
    "        Returns: list of tokens\n",
    "\n",
    "        \"\"\"\n",
    "        return nlp(text)"
   ]
  },
  {
   "cell_type": "code",
   "execution_count": 4,
   "id": "ce64b32f-041b-4c2f-9e6c-5629d2b06011",
   "metadata": {},
   "outputs": [
    {
     "data": {
      "text/plain": [
       "str"
      ]
     },
     "execution_count": 4,
     "metadata": {},
     "output_type": "execute_result"
    }
   ],
   "source": [
    "first_job = job_description['Content'][0]\n",
    "type(first_job)"
   ]
  },
  {
   "cell_type": "code",
   "execution_count": 63,
   "id": "1108b1ba-2649-44d9-babc-7f63459c691c",
   "metadata": {},
   "outputs": [
    {
     "name": "stdout",
     "output_type": "stream",
     "text": [
      "Infoserv LLC\n",
      "Data Scientist\n",
      "Remote\n",
      "Employer Provided Salary:$30.00 - $35.00 Per Hour\n",
      "\n",
      " Only W2 candidates right now we are unable to work with the employer\n",
      "Programming Skills – knowledge of statistical programming languages like R, Python, and database query languages like SQL, Hive, Pig is desirable. Familiarity with Scala, Java, or C++ is an added advantage.\n",
      "Job Type: Contract\n",
      "Pay: $30.00 - $35.00 per hour\n",
      "Schedule:\n",
      "8 hour shift\n",
      "Supplemental pay types:\n",
      "Bonus pay\n",
      "Work Location: Remote\n"
     ]
    }
   ],
   "source": [
    "first_token = nlp(first_job)\n",
    "# first_token=list(str(first_token).split())\n",
    "print(first_token)"
   ]
  },
  {
   "cell_type": "code",
   "execution_count": 6,
   "id": "86ad9f5a-9c5b-4dc4-933b-01cb2aec380d",
   "metadata": {},
   "outputs": [],
   "source": [
    "# tokens = [tok.text for tok in first_token if not tok.is_punct]\n",
    "# tokens"
   ]
  },
  {
   "cell_type": "markdown",
   "id": "d5a99a77-025a-4115-919a-73eb81418f91",
   "metadata": {},
   "source": [
    "# Text Normalization using spaCy"
   ]
  },
  {
   "cell_type": "code",
   "execution_count": 7,
   "id": "a7e4b8ca-e473-4750-ab4a-3ae74b63535e",
   "metadata": {},
   "outputs": [],
   "source": [
    "def lemmatize_word(text):\n",
    "    \"\"\" lemmatise words to give his root for example did becomes do\n",
    "        input: text that contains Tokens\n",
    "        output: A list of lemmatized tokens\n",
    "        \"\"\"\n",
    "    lemma_word = [] \n",
    "    for token in text:\n",
    "        lemma_word.append(token.lemma_)\n",
    "    return lemma_word"
   ]
  },
  {
   "cell_type": "code",
   "execution_count": 8,
   "id": "162395f2-4247-4e60-a391-cc3d7fad479b",
   "metadata": {},
   "outputs": [],
   "source": [
    "lemmatize_text = lemmatize_word(first_token)\n",
    "# lemmatize_text"
   ]
  },
  {
   "cell_type": "markdown",
   "id": "a1cb7b2a-7b9f-407f-95b3-2685d4fb6fdf",
   "metadata": {},
   "source": [
    "# Split words that ontains character"
   ]
  },
  {
   "cell_type": "code",
   "execution_count": 9,
   "id": "92bc7c27-60db-4947-9fd3-8d0c2d32a18e",
   "metadata": {},
   "outputs": [],
   "source": [
    "def check_character_in_words(text):\n",
    "     \"\"\" Split words that ontains character and correct them \n",
    "    input: A list of tokens with characters\n",
    "    output: A list of tokens splitted on the character\n",
    "    \"\"\"\n",
    "    checked_text =[]\n",
    "    charact = [\"\\n\", \":\", '$']\n",
    "    for words in text:\n",
    "        for chars in charact:\n",
    "            if chars in words:\n",
    "                text.remove(words)\n",
    "                words = words.replace(chars,\" \")\n",
    "                words = words.split()\n",
    "                \n",
    "#                 if len(words[1]<1)\n",
    "                text.extend(words)\n",
    "#     text = str(text).strip()\n",
    "#     text = remove_stopword(text,stopWords)\n",
    "    return text #checked_text"
   ]
  },
  {
   "cell_type": "code",
   "execution_count": 10,
   "id": "41fe5f1a-aa6f-4dec-820b-8f1af2d9d2eb",
   "metadata": {},
   "outputs": [],
   "source": [
    "checked_text = check_character_in_words(lemmatize_text)"
   ]
  },
  {
   "cell_type": "markdown",
   "id": "5b1eef5e-7a44-4c37-9da2-806915ca631d",
   "metadata": {},
   "source": [
    "# Remove Punctuation"
   ]
  },
  {
   "cell_type": "code",
   "execution_count": 11,
   "id": "37f0e080-ba8e-43ae-85d0-5deceb4e2153",
   "metadata": {},
   "outputs": [],
   "source": [
    "def remove_punct(text):\n",
    "\"\"\"\n",
    "Remove punctuation from text (List of tokens)\n",
    "input: A list of tokens with punctuation\n",
    "output: A list of tokens without punctuation\n",
    "\"\"\"\n",
    "#     str_tokens = str(text).split()\n",
    "#     text = list(map(lambda s: s.strip(r'\\n $'), text))\n",
    "    l=[]\n",
    "    for word in text:\n",
    "        if not word in string.punctuation:\n",
    "            l.append(word)\n",
    "    resultat=\" \".join(l)  \n",
    "   \n",
    "    return l"
   ]
  },
  {
   "cell_type": "code",
   "execution_count": 12,
   "id": "d9b33ad1-267f-4b3a-81b6-121acd7b5430",
   "metadata": {},
   "outputs": [
    {
     "name": "stdout",
     "output_type": "stream",
     "text": [
      "['Infoserv', 'LLC', 'Data', 'Scientist', 'Remote', 'Employer', 'provide', '35.00', 'per', 'hour', 'Only', 'W2', 'candidate', 'right', 'now', 'we', 'be', 'unable', 'to', 'work', 'with', 'the', 'employer', 'Programming', 'skill', '–', 'knowledge', 'of', 'statistical', 'programming', 'language', 'like', 'R', 'Python', 'and', 'database', 'query', 'language', 'like', 'SQL', 'Hive', 'Pig', 'be', 'desirable', 'familiarity', 'with', 'Scala', 'Java', 'or', 'C++', 'be', 'an', 'add', 'advantage', 'job', 'type', 'contract', 'pay', '30.00', '35.00', 'per', 'hour', 'schedule', '8', 'hour', 'shift', 'supplemental', 'pay', 'type', '\\n', 'bonus', 'pay', '\\n', 'work', 'location', 'remote', 'salary', '30.00']\n"
     ]
    }
   ],
   "source": [
    "removed_punctuation_text = remove_punct(checked_text)\n",
    "print(removed_punctuation_text)"
   ]
  },
  {
   "cell_type": "code",
   "execution_count": 13,
   "id": "9aefe4f8-83d8-4d16-928b-e9039e8b0f87",
   "metadata": {},
   "outputs": [],
   "source": [
    "# checked_text"
   ]
  },
  {
   "cell_type": "markdown",
   "id": "4c9bdb21-04e9-4f96-8ccf-2af9e359e425",
   "metadata": {},
   "source": [
    "# Remove stop words"
   ]
  },
  {
   "cell_type": "code",
   "execution_count": 14,
   "id": "dd5f1527-19a7-4618-b7ed-365e92e1b77f",
   "metadata": {},
   "outputs": [],
   "source": [
    "def remove_stopword(liste,stopWords):\n",
    "    \"\"\"\n",
    "        Remove stopwords from a list of tokens\n",
    "        input:A list of tokens with stopwords\n",
    "        output:A list of tokens without stopwords\n",
    "        \"\"\"\n",
    "#     str_tokens = str(text).split()\n",
    "    list_tokens = [tok.lower() for tok in liste]\n",
    "    l=[]\n",
    "    for word in list_tokens:\n",
    "#         if  word not in string.punctuation:   \n",
    "        if word not in stopWords:\n",
    "            l.append(word)\n",
    "    resultat=\" \".join(l) \n",
    "#     l = list(map(lambda s: s.strip(), l))\n",
    "    return l"
   ]
  },
  {
   "cell_type": "code",
   "execution_count": 15,
   "id": "4a7be1cc-8e0f-4b25-a8c9-a2fc150a0c5b",
   "metadata": {},
   "outputs": [
    {
     "data": {
      "text/plain": [
       "['infoserv',\n",
       " 'llc',\n",
       " 'data',\n",
       " 'scientist',\n",
       " 'remote',\n",
       " 'employer',\n",
       " 'provide',\n",
       " '35.00',\n",
       " 'hour',\n",
       " 'w2',\n",
       " 'candidate',\n",
       " 'right',\n",
       " 'unable',\n",
       " 'work',\n",
       " 'employer',\n",
       " 'programming',\n",
       " 'skill',\n",
       " 'knowledge',\n",
       " 'statistical',\n",
       " 'programming',\n",
       " 'language',\n",
       " 'r',\n",
       " 'python',\n",
       " 'database',\n",
       " 'query',\n",
       " 'language',\n",
       " 'sql',\n",
       " 'hive',\n",
       " 'pig',\n",
       " 'desirable',\n",
       " 'familiarity',\n",
       " 'scala',\n",
       " 'java',\n",
       " 'c++',\n",
       " 'add',\n",
       " 'advantage',\n",
       " 'job',\n",
       " 'type',\n",
       " 'contract',\n",
       " 'pay',\n",
       " '30.00',\n",
       " '35.00',\n",
       " 'hour',\n",
       " 'schedule',\n",
       " '8',\n",
       " 'hour',\n",
       " 'shift',\n",
       " 'supplemental',\n",
       " 'pay',\n",
       " 'type',\n",
       " 'bonus',\n",
       " 'pay',\n",
       " 'work',\n",
       " 'location',\n",
       " 'remote',\n",
       " 'salary',\n",
       " '30.00']"
      ]
     },
     "execution_count": 15,
     "metadata": {},
     "output_type": "execute_result"
    }
   ],
   "source": [
    "removed_stopwords_punctuation = remove_stopword(removed_punctuation_text,stopWords)\n",
    "removed_stopwords_punctuation"
   ]
  },
  {
   "cell_type": "markdown",
   "id": "3f2e3813-c6f0-4a0b-8616-f4b356ce6006",
   "metadata": {},
   "source": [
    "# Remove duplicated strings"
   ]
  },
  {
   "cell_type": "code",
   "execution_count": 16,
   "id": "2da15278-9c28-4e44-86ba-8570941d89e9",
   "metadata": {},
   "outputs": [],
   "source": [
    "def remove_duplicates(text):\n",
    "            \n",
    "        \"\"\"Remove duplicated words in each elements of the list\n",
    "        input: list\n",
    "        output: list\n",
    "        \"\"\"\n",
    "#     str_tokens = str(text).split()\n",
    "#     list_tokens = list(tok.lower() for tok in str_tokens)\n",
    "    l=[]\n",
    "    [l.append(x) for x in text if x not in l]\n",
    "#     resultat=\" \".join(l) \n",
    "    return l"
   ]
  },
  {
   "cell_type": "code",
   "execution_count": 17,
   "id": "f6f75b31-7c89-4826-8ceb-ffc8ac4daf47",
   "metadata": {},
   "outputs": [
    {
     "data": {
      "text/plain": [
       "['infoserv',\n",
       " 'llc',\n",
       " 'data',\n",
       " 'scientist',\n",
       " 'remote',\n",
       " 'employer',\n",
       " 'provide',\n",
       " '35.00',\n",
       " 'hour',\n",
       " 'w2',\n",
       " 'candidate',\n",
       " 'right',\n",
       " 'unable',\n",
       " 'work',\n",
       " 'programming',\n",
       " 'skill',\n",
       " 'knowledge',\n",
       " 'statistical',\n",
       " 'language',\n",
       " 'r',\n",
       " 'python',\n",
       " 'database',\n",
       " 'query',\n",
       " 'sql',\n",
       " 'hive',\n",
       " 'pig',\n",
       " 'desirable',\n",
       " 'familiarity',\n",
       " 'scala',\n",
       " 'java',\n",
       " 'c++',\n",
       " 'add',\n",
       " 'advantage',\n",
       " 'job',\n",
       " 'type',\n",
       " 'contract',\n",
       " 'pay',\n",
       " '30.00',\n",
       " 'schedule',\n",
       " '8',\n",
       " 'shift',\n",
       " 'supplemental',\n",
       " 'bonus',\n",
       " 'location',\n",
       " 'salary']"
      ]
     },
     "execution_count": 17,
     "metadata": {},
     "output_type": "execute_result"
    }
   ],
   "source": [
    "clean_text = remove_duplicates(removed_stopwords_punctuation)\n",
    "clean_text"
   ]
  },
  {
   "cell_type": "markdown",
   "id": "36ccb199-684b-402a-9658-fad2c90e8442",
   "metadata": {},
   "source": [
    "# Function for preprocessing"
   ]
  },
  {
   "cell_type": "code",
   "execution_count": 46,
   "id": "b2806dc6-2171-4a30-874d-cf1fbf8b6f03",
   "metadata": {},
   "outputs": [],
   "source": [
    "def text_preprocess(text):\n",
    "    nlp.max_length = 2030000\n",
    "    # Transform str text to list\n",
    "#     text = str(list(text))\n",
    "# Tokenization\n",
    "    doc = text.app\n",
    "# Lemmatization\n",
    "    lemmatize_text = lemmatize_word(doc)\n",
    "# split words that cotains character\n",
    "    checked_text = check_character_in_words(lemmatize_text)\n",
    "# Remove punctuation\n",
    "    removed_punctuation_text = remove_punct(checked_text)\n",
    "# Remove stopwords\n",
    "    removed_stopwords_punctuation = remove_stopword(removed_punctuation_text,\n",
    "                                                    stopWords)\n",
    "# Remove duplicated wods \n",
    "    clean_text = remove_duplicates(removed_stopwords_punctuation)\n",
    "#     resultat=\" \".join(clean_text)\n",
    "    return(clean_text) \n",
    "    \n",
    "    "
   ]
  },
  {
   "cell_type": "code",
   "execution_count": 47,
   "id": "3ef66307-1e95-4aef-9c6e-4aa02891d0e1",
   "metadata": {},
   "outputs": [
    {
     "data": {
      "text/plain": [
       "0    [infoserv, llc, data, scientist, remote, emplo...\n",
       "1    [exxonmobil, 3.1, data, scientist, clinton, nj...\n",
       "2    [ebay, inc., 4.1, data, scientist, applied, re...\n",
       "3    [tiktok, 3.7, data, scientist, university, gra...\n",
       "4    [mastercard, 4.3, data, scientist, ai, service...\n",
       "5    [infotree, global, solutions, 4.4, data, scien...\n",
       "6    [e, solutions, service, pvt, ltd, 3.9, data, s...\n",
       "7    [unilever, 4.1, data, scientist, remote, apply...\n",
       "8    [edify, technologies, inc., senior, data, scie...\n",
       "9    [whirlwind, technologies, llc, 4.8, jr., data,...\n",
       "Name: Content, dtype: object"
      ]
     },
     "execution_count": 47,
     "metadata": {},
     "output_type": "execute_result"
    }
   ],
   "source": [
    "clean_text = job_description['Content'][:10].apply(text_preprocess)\n",
    "clean_text"
   ]
  },
  {
   "cell_type": "code",
   "execution_count": 59,
   "id": "f6effedd-93dc-4506-a1bf-74ed64018d64",
   "metadata": {},
   "outputs": [],
   "source": [
    "corpus = []\n",
    "for i in clean_text[:]:\n",
    "    corpus.extend(i)\n",
    "# corpus"
   ]
  },
  {
   "cell_type": "code",
   "execution_count": 60,
   "id": "6e9c472e-7011-4594-876d-5b2668dcbcb9",
   "metadata": {},
   "outputs": [
    {
     "name": "stdout",
     "output_type": "stream",
     "text": [
      "1208\n"
     ]
    },
    {
     "data": {
      "image/png": "[encoded data removed]",
      "text/plain": [
       "<Figure size 720x720 with 1 Axes>"
      ]
     },
     "metadata": {
      "needs_background": "light"
     },
     "output_type": "display_data"
    }
   ],
   "source": [
    "import seaborn as sns\n",
    "from collections import  Counter\n",
    "\n",
    "def plot_top_words_barchart(corpus):\n",
    "\n",
    "    counter=Counter(corpus)\n",
    "    most=counter.most_common()\n",
    "    x, y=[], []\n",
    "    for word,count in most[15:40]:\n",
    "        x.append(word)\n",
    "        y.append(count)\n",
    "    plt.figure(figsize=(10,10))\n",
    "    sns.barplot(x=y,y=x)\n",
    "    print(len(counter))\n",
    "plot_top_words_barchart(corpus)"
   ]
  },
  {
   "cell_type": "code",
   "execution_count": null,
   "id": "177d20b0-5c6e-4a7b-9ba4-58ea14f700d7",
   "metadata": {},
   "outputs": [],
   "source": []
  }
 ],
 "metadata": {
  "kernelspec": {
   "display_name": "Python 3",
   "language": "python",
   "name": "python3"
  },
  "language_info": {
   "codemirror_mode": {
    "name": "ipython",
    "version": 3
   },
   "file_extension": ".py",
   "mimetype": "text/x-python",
   "name": "python",
   "nbconvert_exporter": "python",
   "pygments_lexer": "ipython3",
   "version": "3.8.8"
  }
 },
 "nbformat": 4,
 "nbformat_minor": 5
}
