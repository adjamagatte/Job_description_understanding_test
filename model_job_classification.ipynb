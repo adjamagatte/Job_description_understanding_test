{
 "cells": [
  {
   "cell_type": "markdown",
   "id": "b002274c-07ed-4891-8149-0b7cabbee574",
   "metadata": {},
   "source": [
    "# Creation of a model to classify the type of job from a given text job description"
   ]
  },
  {
   "cell_type": "markdown",
   "id": "e6a06e89-b3ce-48f9-86e0-268c70c89e58",
   "metadata": {},
   "source": [
    "## Introduction\n",
    "The goal of this project is:\n",
    "* Sort emails in these classes: Job description, Alert and Others. (Asma's model)\n",
    "* Classify jobs descriptions in jobs\n",
    "* Rate cv and skills.\n",
    "\n",
    "We will focus on the following:\n",
    "* jobs: Data Scientist, Data Engineer,Big data developper,Data Analyst and Others(mix of other type of job)\n",
    "* datasets: Glassdoors, job_emails1 from Assan and  Kaggle "
   ]
  },
  {
   "cell_type": "markdown",
   "id": "f2a67f05-9c1f-41cf-a17f-54dbdbc0bcdc",
   "metadata": {},
   "source": [
    "## Libriries"
   ]
  },
  {
   "cell_type": "code",
   "execution_count": 1,
   "id": "d34cae63-fd29-43bd-83be-4b3ba272aa70",
   "metadata": {},
   "outputs": [
    {
     "name": "stdout",
     "output_type": "stream",
     "text": [
      "Requirement already satisfied: ipynb in c:\\users\\user\\anaconda3\\lib\\site-packages (0.5.1)\n"
     ]
    }
   ],
   "source": [
    "!pip install ipynb"
   ]
  },
  {
   "cell_type": "code",
   "execution_count": 2,
   "id": "f823f702-3fdd-4894-a217-14dcfb4f7b91",
   "metadata": {},
   "outputs": [],
   "source": [
    "import pandas as pd\n",
    "import numpy as np\n",
    "import string\n",
    "import spacy\n",
    "from sklearn.feature_extraction.text import CountVectorizer,TfidfVectorizer\n",
    "from sklearn.model_selection import train_test_split\n",
    "from sklearn.pipeline import Pipeline\n",
    "from sklearn import tree\n",
    "from sklearn.metrics import confusion_matrix, classification_report\n",
    "\n",
    "import joblib\n",
    "# from ipynb.fs.full.text_preprocessing_with_spacy import text_preprocess"
   ]
  },
  {
   "cell_type": "code",
   "execution_count": 3,
   "id": "1fa7bd1c-4266-483f-8708-c9e89e858531",
   "metadata": {},
   "outputs": [],
   "source": [
    "# load a new spacy model\n",
    "nlp = spacy.load(\"en_core_web_lg\")\n",
    "\n",
    "# add somes stopwords in the default list of spacy\n",
    "nlp.Defaults.stop_words |= {\"or\",\"per\",\"like\",'-','_','',\n",
    "                            '–','[]','\\n','\\n\\n','\\n\\n ','i.e.'}\n",
    "\n",
    "# Create our list of stopwords\n",
    "stopWords= spacy.lang.en.stop_words.STOP_WORDS #set(stopwords.words('english'))\n"
   ]
  },
  {
   "cell_type": "markdown",
   "id": "0784aab4-ad1f-43d0-85d0-aa897c9ad0bc",
   "metadata": {},
   "source": [
    "## Read Data"
   ]
  },
  {
   "cell_type": "code",
   "execution_count": 4,
   "id": "3ac8aeea-9ae4-4e52-86e9-8283edffda5e",
   "metadata": {},
   "outputs": [
    {
     "data": {
      "text/html": [
       "<div>\n",
       "<style scoped>\n",
       "    .dataframe tbody tr th:only-of-type {\n",
       "        vertical-align: middle;\n",
       "    }\n",
       "\n",
       "    .dataframe tbody tr th {\n",
       "        vertical-align: top;\n",
       "    }\n",
       "\n",
       "    .dataframe thead th {\n",
       "        text-align: right;\n",
       "    }\n",
       "</style>\n",
       "<table border=\"1\" class=\"dataframe\">\n",
       "  <thead>\n",
       "    <tr style=\"text-align: right;\">\n",
       "      <th></th>\n",
       "      <th>Content</th>\n",
       "      <th>source</th>\n",
       "      <th>job_title</th>\n",
       "      <th>label</th>\n",
       "    </tr>\n",
       "  </thead>\n",
       "  <tbody>\n",
       "    <tr>\n",
       "      <th>0</th>\n",
       "      <td>Infoserv LLC\\nData Scientist\\nRemote\\nEmployer...</td>\n",
       "      <td>glassdoor</td>\n",
       "      <td>Data Scientist</td>\n",
       "      <td>job_description</td>\n",
       "    </tr>\n",
       "    <tr>\n",
       "      <th>1</th>\n",
       "      <td>ExxonMobil\\n3.1\\nData Scientist\\nClinton, NJ\\n...</td>\n",
       "      <td>glassdoor</td>\n",
       "      <td>Data Scientist</td>\n",
       "      <td>job_description</td>\n",
       "    </tr>\n",
       "    <tr>\n",
       "      <th>2</th>\n",
       "      <td>eBay Inc.\\n4.1\\nData Scientist/Applied Researc...</td>\n",
       "      <td>glassdoor</td>\n",
       "      <td>Data Scientist</td>\n",
       "      <td>job_description</td>\n",
       "    </tr>\n",
       "    <tr>\n",
       "      <th>3</th>\n",
       "      <td>TikTok\\n3.7\\nData Scientist, University Gradua...</td>\n",
       "      <td>glassdoor</td>\n",
       "      <td>Data Scientist</td>\n",
       "      <td>job_description</td>\n",
       "    </tr>\n",
       "    <tr>\n",
       "      <th>4</th>\n",
       "      <td>Mastercard\\n4.3\\nData Scientist, AI Services -...</td>\n",
       "      <td>glassdoor</td>\n",
       "      <td>Data Scientist</td>\n",
       "      <td>job_description</td>\n",
       "    </tr>\n",
       "    <tr>\n",
       "      <th>...</th>\n",
       "      <td>...</td>\n",
       "      <td>...</td>\n",
       "      <td>...</td>\n",
       "      <td>...</td>\n",
       "    </tr>\n",
       "    <tr>\n",
       "      <th>1031</th>\n",
       "      <td>Are you an experienced Data Analyst? Are you e...</td>\n",
       "      <td>Kaggle</td>\n",
       "      <td>Data Analyst</td>\n",
       "      <td>job_description</td>\n",
       "    </tr>\n",
       "    <tr>\n",
       "      <th>1032</th>\n",
       "      <td>Data Analyst  Data extraction, Storage, Back u...</td>\n",
       "      <td>Kaggle</td>\n",
       "      <td>Data Analyst</td>\n",
       "      <td>job_description</td>\n",
       "    </tr>\n",
       "    <tr>\n",
       "      <th>1033</th>\n",
       "      <td>Database Analyst  ****K Wetherby This role sha...</td>\n",
       "      <td>Kaggle</td>\n",
       "      <td>Data Analyst</td>\n",
       "      <td>job_description</td>\n",
       "    </tr>\n",
       "    <tr>\n",
       "      <th>1034</th>\n",
       "      <td>Data Analyst / Data Analysis / Modelling / SQL...</td>\n",
       "      <td>Kaggle</td>\n",
       "      <td>Data Analyst</td>\n",
       "      <td>job_description</td>\n",
       "    </tr>\n",
       "    <tr>\n",
       "      <th>1035</th>\n",
       "      <td>Data Analyst  6months  London My NHS Client ur...</td>\n",
       "      <td>Kaggle</td>\n",
       "      <td>Data Analyst</td>\n",
       "      <td>job_description</td>\n",
       "    </tr>\n",
       "  </tbody>\n",
       "</table>\n",
       "<p>1036 rows × 4 columns</p>\n",
       "</div>"
      ],
      "text/plain": [
       "                                                Content     source  \\\n",
       "0     Infoserv LLC\\nData Scientist\\nRemote\\nEmployer...  glassdoor   \n",
       "1     ExxonMobil\\n3.1\\nData Scientist\\nClinton, NJ\\n...  glassdoor   \n",
       "2     eBay Inc.\\n4.1\\nData Scientist/Applied Researc...  glassdoor   \n",
       "3     TikTok\\n3.7\\nData Scientist, University Gradua...  glassdoor   \n",
       "4     Mastercard\\n4.3\\nData Scientist, AI Services -...  glassdoor   \n",
       "...                                                 ...        ...   \n",
       "1031  Are you an experienced Data Analyst? Are you e...     Kaggle   \n",
       "1032  Data Analyst  Data extraction, Storage, Back u...     Kaggle   \n",
       "1033  Database Analyst  ****K Wetherby This role sha...     Kaggle   \n",
       "1034  Data Analyst / Data Analysis / Modelling / SQL...     Kaggle   \n",
       "1035  Data Analyst  6months  London My NHS Client ur...     Kaggle   \n",
       "\n",
       "           job_title            label  \n",
       "0     Data Scientist  job_description  \n",
       "1     Data Scientist  job_description  \n",
       "2     Data Scientist  job_description  \n",
       "3     Data Scientist  job_description  \n",
       "4     Data Scientist  job_description  \n",
       "...              ...              ...  \n",
       "1031    Data Analyst  job_description  \n",
       "1032    Data Analyst  job_description  \n",
       "1033    Data Analyst  job_description  \n",
       "1034    Data Analyst  job_description  \n",
       "1035    Data Analyst  job_description  \n",
       "\n",
       "[1036 rows x 4 columns]"
      ]
     },
     "execution_count": 4,
     "metadata": {},
     "output_type": "execute_result"
    }
   ],
   "source": [
    "emails = pd.read_csv('data/unbalanced.csv')\n",
    "emails"
   ]
  },
  {
   "cell_type": "code",
   "execution_count": 5,
   "id": "26254187-90fe-4d76-83af-cd8c54dd187e",
   "metadata": {},
   "outputs": [
    {
     "name": "stdout",
     "output_type": "stream",
     "text": [
      "['job_description'] \n",
      "\n",
      " ['Data Scientist' 'Data Engineer' 'Data Analyst' 'Big Data Developer'\n",
      " 'other']\n"
     ]
    }
   ],
   "source": [
    "print(emails['label'].unique(),\"\\n\\n\",emails['job_title'].unique())\n"
   ]
  },
  {
   "cell_type": "markdown",
   "id": "06362043-6ebd-4419-a9bd-4f6d12877019",
   "metadata": {},
   "source": [
    "## Preprocessing"
   ]
  },
  {
   "cell_type": "markdown",
   "id": "e8c6e7f1-ef7b-40e7-aa43-c552778f68aa",
   "metadata": {},
   "source": [
    "### Text preprocessing with spacy"
   ]
  },
  {
   "cell_type": "code",
   "execution_count": 6,
   "id": "c49fed25-3b8e-4f05-aab7-e1660815dccd",
   "metadata": {},
   "outputs": [],
   "source": [
    "def text_preprocess(text):\n",
    "    nlp.max_length = 2030000 # To raise the max legnth of word\n",
    "    \n",
    "### Creation of function that we'll use to process data\n",
    "\n",
    "\n",
    "# Lemmatization\n",
    "    def lemmatize_word(text):\n",
    "        \"\"\" lemmatise words to give his root for example did becomes do\n",
    "        input: text that contains Tokens\n",
    "        output: A list of lemmatized tokens\n",
    "        \"\"\"\n",
    "        lemma_word = [] \n",
    "        for token in text:\n",
    "            lemma_word.append(token.lemma_)\n",
    "        return lemma_word\n",
    "    \n",
    "    \n",
    "# Split words that ontains character and correct them \n",
    "    def check_character_in_words(text):\n",
    "        \"\"\" Split words that ontains character and correct them \n",
    "        input: A list of tokens with characters\n",
    "        output: A list of tokens splitted on the character\n",
    "        \"\"\"\n",
    "        charact = [\"\\n\", \":\", '$']\n",
    "        for words in text:\n",
    "            for chars in charact:\n",
    "                if chars in words:\n",
    "                    text.remove(words)\n",
    "                    words = words.replace(chars,\" \")\n",
    "                    words = words.split()\n",
    "                    text.extend(words)\n",
    "\n",
    "        return text \n",
    "    \n",
    "# Remove punctuation    \n",
    "    def remove_punct(text):\n",
    "        \"\"\"\n",
    "        Remove punctuation from text (List of tokens)\n",
    "        input: A list of tokens with punctuation\n",
    "        output: A list of tokens without punctuation\n",
    "        \"\"\"\n",
    "        l=[]\n",
    "        for word in text:\n",
    "            if not word in string.punctuation:# list of punctuation\n",
    "                l.append(word)\n",
    "        # resultat=\" \".join(l)   \n",
    "        return l\n",
    "\n",
    "\n",
    "# Remove stopwords\n",
    "    def remove_stopword(liste,stopWords):\n",
    "        \"\"\"\n",
    "        Remove stopwords from a list of tokens\n",
    "        input:A list of tokens with stopwords\n",
    "        output:A list of tokens without stopwords\n",
    "        \"\"\"\n",
    "        list_tokens = [tok.lower() for tok in liste]\n",
    "        l=[]\n",
    "        for word in list_tokens:  \n",
    "            if word not in stopWords:\n",
    "                l.append(word)\n",
    "        return l\n",
    "    \n",
    "# Remove duplicated wods \n",
    "    # In the text the world sometimes repeated twice or more. \n",
    "    # For example slary in the title of the job and the description\n",
    "    \n",
    "    def remove_duplicates(text):\n",
    "        \n",
    "        \"\"\"Remove duplicated words in each elements of the list\n",
    "        input: list\n",
    "        output: list\n",
    "        \"\"\"\n",
    "        l=[]\n",
    "        [l.append(x) for x in text if x not in l]\n",
    "        resultat=\" \".join(l)\n",
    "        return resultat\n",
    "\n",
    "    \n",
    "### Process the data\n",
    "\n",
    "    # Tokenization\n",
    "    doc = nlp(text)\n",
    "    lemmatize_text = lemmatize_word(doc)\n",
    "    checked_text = check_character_in_words(lemmatize_text)\n",
    "    removed_punctuation_text = remove_punct(checked_text)\n",
    "    removed_stopwords_punctuation = remove_stopword(removed_punctuation_text,\n",
    "                                                    stopWords)\n",
    "# Remove duplicated wods \n",
    "    clean_text = remove_duplicates(removed_stopwords_punctuation)\n",
    "#     resultat=\" \".join(clean_text)\n",
    "    return(clean_text) \n",
    "    \n",
    "    "
   ]
  },
  {
   "cell_type": "code",
   "execution_count": 7,
   "id": "615371a0-2894-43c2-ad80-32f7ccc30949",
   "metadata": {},
   "outputs": [
    {
     "data": {
      "text/html": [
       "<div>\n",
       "<style scoped>\n",
       "    .dataframe tbody tr th:only-of-type {\n",
       "        vertical-align: middle;\n",
       "    }\n",
       "\n",
       "    .dataframe tbody tr th {\n",
       "        vertical-align: top;\n",
       "    }\n",
       "\n",
       "    .dataframe thead th {\n",
       "        text-align: right;\n",
       "    }\n",
       "</style>\n",
       "<table border=\"1\" class=\"dataframe\">\n",
       "  <thead>\n",
       "    <tr style=\"text-align: right;\">\n",
       "      <th></th>\n",
       "      <th>Content</th>\n",
       "      <th>source</th>\n",
       "      <th>job_title</th>\n",
       "      <th>label</th>\n",
       "      <th>list_skills</th>\n",
       "    </tr>\n",
       "  </thead>\n",
       "  <tbody>\n",
       "    <tr>\n",
       "      <th>0</th>\n",
       "      <td>Infoserv LLC\\nData Scientist\\nRemote\\nEmployer...</td>\n",
       "      <td>glassdoor</td>\n",
       "      <td>Data Scientist</td>\n",
       "      <td>job_description</td>\n",
       "      <td>infoserv llc data scientist remote employer pr...</td>\n",
       "    </tr>\n",
       "    <tr>\n",
       "      <th>1</th>\n",
       "      <td>ExxonMobil\\n3.1\\nData Scientist\\nClinton, NJ\\n...</td>\n",
       "      <td>glassdoor</td>\n",
       "      <td>Data Scientist</td>\n",
       "      <td>job_description</td>\n",
       "      <td>exxonmobil 3.1 data scientist clinton nj 94 k ...</td>\n",
       "    </tr>\n",
       "    <tr>\n",
       "      <th>2</th>\n",
       "      <td>eBay Inc.\\n4.1\\nData Scientist/Applied Researc...</td>\n",
       "      <td>glassdoor</td>\n",
       "      <td>Data Scientist</td>\n",
       "      <td>job_description</td>\n",
       "      <td>ebay inc. 4.1 data scientist applied researche...</td>\n",
       "    </tr>\n",
       "    <tr>\n",
       "      <th>3</th>\n",
       "      <td>TikTok\\n3.7\\nData Scientist, University Gradua...</td>\n",
       "      <td>glassdoor</td>\n",
       "      <td>Data Scientist</td>\n",
       "      <td>job_description</td>\n",
       "      <td>tiktok 3.7 data scientist university graduate ...</td>\n",
       "    </tr>\n",
       "    <tr>\n",
       "      <th>4</th>\n",
       "      <td>Mastercard\\n4.3\\nData Scientist, AI Services -...</td>\n",
       "      <td>glassdoor</td>\n",
       "      <td>Data Scientist</td>\n",
       "      <td>job_description</td>\n",
       "      <td>mastercard 4.3 data scientist ai services laun...</td>\n",
       "    </tr>\n",
       "  </tbody>\n",
       "</table>\n",
       "</div>"
      ],
      "text/plain": [
       "                                             Content     source  \\\n",
       "0  Infoserv LLC\\nData Scientist\\nRemote\\nEmployer...  glassdoor   \n",
       "1  ExxonMobil\\n3.1\\nData Scientist\\nClinton, NJ\\n...  glassdoor   \n",
       "2  eBay Inc.\\n4.1\\nData Scientist/Applied Researc...  glassdoor   \n",
       "3  TikTok\\n3.7\\nData Scientist, University Gradua...  glassdoor   \n",
       "4  Mastercard\\n4.3\\nData Scientist, AI Services -...  glassdoor   \n",
       "\n",
       "        job_title            label  \\\n",
       "0  Data Scientist  job_description   \n",
       "1  Data Scientist  job_description   \n",
       "2  Data Scientist  job_description   \n",
       "3  Data Scientist  job_description   \n",
       "4  Data Scientist  job_description   \n",
       "\n",
       "                                         list_skills  \n",
       "0  infoserv llc data scientist remote employer pr...  \n",
       "1  exxonmobil 3.1 data scientist clinton nj 94 k ...  \n",
       "2  ebay inc. 4.1 data scientist applied researche...  \n",
       "3  tiktok 3.7 data scientist university graduate ...  \n",
       "4  mastercard 4.3 data scientist ai services laun...  "
      ]
     },
     "execution_count": 7,
     "metadata": {},
     "output_type": "execute_result"
    }
   ],
   "source": [
    "emails['list_skills'] = emails['Content'][:].apply(text_preprocess)\n",
    "emails.head()"
   ]
  },
  {
   "cell_type": "markdown",
   "id": "7872eddb-5699-4300-85fc-a60a5265e60c",
   "metadata": {},
   "source": [
    "## Modelisation"
   ]
  },
  {
   "cell_type": "markdown",
   "id": "9cfa32a8-4ab1-4201-99bf-9677ccde7b38",
   "metadata": {},
   "source": [
    "### Vectorization Feature Engineering and Train test split\n",
    "\n",
    "After the prepreocessing step, we end up with text matched with their respective labels. Since  we can’t use text strings in our machine learning model, we need a way to convert it into something that can be represented numerically.\n",
    "\n",
    "* One tool we can use for doing this is called Bag of Words. BoW converts text into the matrix of occurrence of words within a given document. It focuses on whether given words occurred or not in the document, and it generates a matrix that we might see referred to as a BoW matrix or a document term matrix.\n",
    "\n",
    "We can generate a BoW matrix for our text data by using scikit-learn‘s CountVectorizer.\n",
    "\n",
    "* Train test split\n",
    "Split the data into train and test sets\n",
    "\n",
    "* Model fitting \n",
    "To classify our data, we choose to use the decision tree classifier. The model will be exported and it will be loded to predict new data in the deployment step.\n",
    " But if we need also to export our BoW with the model, therefore we need to create a pipeline.\n",
    " We can use the Pipeline module of scikit learn"
   ]
  },
  {
   "cell_type": "code",
   "execution_count": 8,
   "id": "117e99ce-056d-4d87-a001-cbd6be044fb4",
   "metadata": {},
   "outputs": [],
   "source": [
    "X_Data = emails[\"list_skills\"] # Data to analyse\n",
    "Y_Data = emails[\"job_title\"] # Labels of data"
   ]
  },
  {
   "cell_type": "code",
   "execution_count": 9,
   "id": "91e30c76-6569-479b-a162-070dcd9eb92c",
   "metadata": {},
   "outputs": [],
   "source": [
    "# Pipeline( model and BoW)\n",
    "model = Pipeline([('countVectorizer', CountVectorizer()),\n",
    "         ('classifier', tree.DecisionTreeClassifier())])"
   ]
  },
  {
   "cell_type": "code",
   "execution_count": 10,
   "id": "9994177a-e2b3-4313-958d-5fa6b2a6e913",
   "metadata": {},
   "outputs": [],
   "source": [
    "# Train test split\n",
    "X_Train, X_Test, Y_Train, Y_Test = train_test_split(X_Data, \n",
    "                                                Y_Data, test_size=0.3, random_state=101)"
   ]
  },
  {
   "cell_type": "code",
   "execution_count": 11,
   "id": "107ed87d-82ac-43f6-b47f-cc082cced8a8",
   "metadata": {},
   "outputs": [
    {
     "data": {
      "text/plain": [
       "Data Scientist        177\n",
       "Data Engineer         168\n",
       "other                 150\n",
       "Data Analyst          141\n",
       "Big Data Developer     89\n",
       "Name: job_title, dtype: int64"
      ]
     },
     "execution_count": 11,
     "metadata": {},
     "output_type": "execute_result"
    }
   ],
   "source": [
    "Y_Train.value_counts()"
   ]
  },
  {
   "cell_type": "code",
   "execution_count": 12,
   "id": "7f30a08b-8434-4fa0-a7d9-e3db6c3d17b1",
   "metadata": {},
   "outputs": [
    {
     "data": {
      "text/plain": [
       "other                 81\n",
       "Data Scientist        71\n",
       "Data Engineer         64\n",
       "Data Analyst          59\n",
       "Big Data Developer    36\n",
       "Name: job_title, dtype: int64"
      ]
     },
     "execution_count": 12,
     "metadata": {},
     "output_type": "execute_result"
    }
   ],
   "source": [
    "Y_Test.value_counts()"
   ]
  },
  {
   "cell_type": "code",
   "execution_count": 13,
   "id": "0d0e8398-ccde-45b6-abdd-29286600fbbb",
   "metadata": {},
   "outputs": [],
   "source": [
    "# bow_vector = CountVectorizer(tokenizer = text_preprocess)"
   ]
  },
  {
   "cell_type": "code",
   "execution_count": 14,
   "id": "2a791678-5813-4ec5-9b07-af7d7bcaf447",
   "metadata": {},
   "outputs": [],
   "source": [
    "# tfidf_vector = TfidfVectorizer(tokenizer = text_preprocess)"
   ]
  },
  {
   "cell_type": "code",
   "execution_count": 15,
   "id": "e9fbf8b8-ff26-4e1c-a5db-4d4d6263d600",
   "metadata": {},
   "outputs": [],
   "source": [
    "# classifier = tree.DecisionTreeClassifier()\n",
    "# pipe = Pipeline([ ('vectorizer', bow_vector),\n",
    "#          ('classifier', classifier)])\n",
    "\n",
    "# pipe.fit(X_Train, Y_Train)"
   ]
  },
  {
   "cell_type": "markdown",
   "id": "016d5f19-9590-4a2f-8efd-c04c94575eee",
   "metadata": {},
   "source": [
    "### Model fitting"
   ]
  },
  {
   "cell_type": "code",
   "execution_count": 16,
   "id": "a7793815-1804-4b98-812f-aef819087fe1",
   "metadata": {},
   "outputs": [
    {
     "data": {
      "text/plain": [
       "Pipeline(steps=[('countVectorizer', CountVectorizer()),\n",
       "                ('classifier', DecisionTreeClassifier())])"
      ]
     },
     "execution_count": 16,
     "metadata": {},
     "output_type": "execute_result"
    }
   ],
   "source": [
    "# model = tree.DecisionTreeClassifier()\n",
    "model.fit(X_Train, Y_Train)\n"
   ]
  },
  {
   "cell_type": "code",
   "execution_count": 17,
   "id": "1ba6cb46-59dc-4425-9132-0212003ff08b",
   "metadata": {},
   "outputs": [
    {
     "data": {
      "text/plain": [
       "0.9917241379310345"
      ]
     },
     "execution_count": 17,
     "metadata": {},
     "output_type": "execute_result"
    }
   ],
   "source": [
    "model.score(X_Train, Y_Train)"
   ]
  },
  {
   "cell_type": "markdown",
   "id": "462f7e7f-44e1-4413-978b-1da04c8b22b4",
   "metadata": {},
   "source": [
    "### Model testing"
   ]
  },
  {
   "cell_type": "code",
   "execution_count": 18,
   "id": "d3807a9f-a0b4-472c-904c-5641bd05bce5",
   "metadata": {},
   "outputs": [
    {
     "name": "stdout",
     "output_type": "stream",
     "text": [
      "                    precision    recall  f1-score   support\n",
      "\n",
      "Big Data Developer       0.82      0.64      0.72        36\n",
      "      Data Analyst       0.95      0.92      0.93        59\n",
      "     Data Engineer       0.77      0.86      0.81        64\n",
      "    Data Scientist       0.82      0.90      0.86        71\n",
      "             other       0.92      0.88      0.90        81\n",
      "\n",
      "          accuracy                           0.86       311\n",
      "         macro avg       0.86      0.84      0.84       311\n",
      "      weighted avg       0.86      0.86      0.86       311\n",
      "\n"
     ]
    }
   ],
   "source": [
    "predicted = model.predict(X_Test)\n",
    "#     joblib.dump(model, 'model_job_class.joblib')\n",
    "print(classification_report(Y_Test, predicted))"
   ]
  },
  {
   "cell_type": "code",
   "execution_count": 19,
   "id": "a5f57d7a-ca3c-4dfc-b361-257300f21598",
   "metadata": {},
   "outputs": [
    {
     "data": {
      "text/plain": [
       "0.8585209003215434"
      ]
     },
     "execution_count": 19,
     "metadata": {},
     "output_type": "execute_result"
    }
   ],
   "source": [
    "model.score(X_Test,Y_Test)"
   ]
  },
  {
   "cell_type": "markdown",
   "id": "eb107bc8-9bc4-4a49-a065-21a6c6190699",
   "metadata": {},
   "source": [
    "## Export the model"
   ]
  },
  {
   "cell_type": "code",
   "execution_count": 20,
   "id": "141d5378-01a4-4a19-9ff0-185427205f4c",
   "metadata": {},
   "outputs": [
    {
     "data": {
      "text/plain": [
       "['model.joblib']"
      ]
     },
     "execution_count": 20,
     "metadata": {},
     "output_type": "execute_result"
    }
   ],
   "source": [
    "joblib.dump(model, 'model.joblib')"
   ]
  },
  {
   "cell_type": "code",
   "execution_count": 21,
   "id": "9f9fbeb0-41b4-4992-a0d6-343a3c82b78a",
   "metadata": {},
   "outputs": [],
   "source": [
    "## test the model"
   ]
  },
  {
   "cell_type": "code",
   "execution_count": 22,
   "id": "f0baeedf-7d50-4d62-b7f6-c65eb94c2890",
   "metadata": {},
   "outputs": [],
   "source": [
    "test = \"Stress Engineer Glasgow Salary **** to **** We re currently looking for talented engineers to join our growing Glasgow team at a variety of levels. The roles are ideally suited to high calibre engineering graduates with any level of appropriate experience, so that we can give you the opportunity to use your technical skills to provide high quality input to our aerospace projects, spanning both aerostructures and aeroengines. In return, you can expect good career opportunities and the chance for advancement and personal and professional development, support while you gain Chartership and some opportunities to possibly travel or work in other offices, in or outside of the UK. The Requirements You will need to have a good engineering degree that includes structural analysis (such as aeronautical, mechanical, automotive, civil) with some experience in a professional engineering environment relevant to (but not limited to) the aerospace sector. You will need to demonstrate experience in at least one or more of the following areas: Structural/stress analysis Composite stress analysis (any industry) Linear and nonlinear finite element analysis Fatigue and damage tolerance Structural dynamics Thermal analysis Aerostructures experience You will also be expected to demonstrate the following qualities: A strong desire to progress quickly to a position of leadership Professional approach Strong communication skills, written and verbal Commercial awareness Team working, being comfortable working in international teams and self managing PLEASE NOTE SECURITY CLEARANCE IS REQUIRED FOR THIS ROLE Stress Engineer Glasgow Salary **** to ****\""
   ]
  },
  {
   "cell_type": "code",
   "execution_count": 23,
   "id": "e25d40c9-3d4a-4f96-acc8-d4c378692798",
   "metadata": {},
   "outputs": [
    {
     "data": {
      "text/plain": [
       "'stress engineer glasgow salary currently look talented join grow team variety level role ideally suit high calibre engineering graduate appropriate experience opportunity use technical skill provide quality input aerospace project span aerostructure aeroengine return expect good career chance advancement personal professional development support gain chartership possibly travel work office outside uk requirement need degree include structural analysis aeronautical mechanical automotive civil environment relevant limit sector demonstrate follow area composite industry linear nonlinear finite element fatigue damage tolerance dynamic thermal strong desire progress quickly position leadership approach communication write verbal commercial awareness comfortable international self manage note security clearance required'"
      ]
     },
     "execution_count": 23,
     "metadata": {},
     "output_type": "execute_result"
    }
   ],
   "source": [
    "test = text_preprocess(test)\n",
    "test"
   ]
  },
  {
   "cell_type": "code",
   "execution_count": 24,
   "id": "bb868aa2-4b31-4467-a14d-10df69d3f174",
   "metadata": {},
   "outputs": [
    {
     "data": {
      "text/plain": [
       "array(['other'], dtype=object)"
      ]
     },
     "execution_count": 24,
     "metadata": {},
     "output_type": "execute_result"
    }
   ],
   "source": [
    "model.predict([test])"
   ]
  },
  {
   "cell_type": "code",
   "execution_count": null,
   "id": "69433dde-3630-44e3-83fb-c86cfe41eb68",
   "metadata": {},
   "outputs": [],
   "source": []
  }
 ],
 "metadata": {
  "kernelspec": {
   "display_name": "Python 3",
   "language": "python",
   "name": "python3"
  },
  "language_info": {
   "codemirror_mode": {
    "name": "ipython",
    "version": 3
   },
   "file_extension": ".py",
   "mimetype": "text/x-python",
   "name": "python",
   "nbconvert_exporter": "python",
   "pygments_lexer": "ipython3",
   "version": "3.8.8"
  }
 },
 "nbformat": 4,
 "nbformat_minor": 5
}
