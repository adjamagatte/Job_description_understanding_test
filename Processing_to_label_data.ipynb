{
 "cells": [
  {
   "cell_type": "markdown",
   "id": "628c274b-fff9-485e-866d-b23b39a5a3d0",
   "metadata": {},
   "source": [
    "# Loading libraries"
   ]
  },
  {
   "cell_type": "code",
   "execution_count": 131,
   "id": "6e3d626d-dd4d-4ca8-b414-9ca2ea094883",
   "metadata": {},
   "outputs": [],
   "source": [
    "import pandas as pd \n",
    "import re # Regular Expressions - useful for extracting information from text \n",
    "import seaborn as sns\n",
    "from sklearn import tree"
   ]
  },
  {
   "cell_type": "markdown",
   "id": "cb617d50-c4ea-4b06-adbe-cf92191dbe64",
   "metadata": {},
   "source": [
    "# Read and separate data"
   ]
  },
  {
   "cell_type": "code",
   "execution_count": 133,
   "id": "c75a472c-51cf-4fdd-9517-8d80b544eeb2",
   "metadata": {},
   "outputs": [
    {
     "data": {
      "text/plain": [
       "(421, 2)"
      ]
     },
     "execution_count": 133,
     "metadata": {},
     "output_type": "execute_result"
    }
   ],
   "source": [
    "df_class=pd.read_csv('data/job_emails.csv')\n",
    "df_class.drop('Unnamed: 0',inplace=True, axis=1)\n",
    "df_class.shape"
   ]
  },
  {
   "cell_type": "code",
   "execution_count": 136,
   "id": "2500a3ae-b6a8-47b9-a660-99730923a230",
   "metadata": {},
   "outputs": [
    {
     "data": {
      "text/plain": [
       "(421, 5)"
      ]
     },
     "execution_count": 136,
     "metadata": {},
     "output_type": "execute_result"
    }
   ],
   "source": [
    "df_class1=pd.read_csv('data/job_emails1.csv')\n",
    "# df_class.drop('Unnamed: 0',inplace=True, axis=1)\n",
    "df_class1.shape"
   ]
  },
  {
   "cell_type": "code",
   "execution_count": 137,
   "id": "ca8c0fe2-1ebf-4bbf-a5aa-baa4b266f07f",
   "metadata": {},
   "outputs": [
    {
     "data": {
      "text/html": [
       "<div>\n",
       "<style scoped>\n",
       "    .dataframe tbody tr th:only-of-type {\n",
       "        vertical-align: middle;\n",
       "    }\n",
       "\n",
       "    .dataframe tbody tr th {\n",
       "        vertical-align: top;\n",
       "    }\n",
       "\n",
       "    .dataframe thead th {\n",
       "        text-align: right;\n",
       "    }\n",
       "</style>\n",
       "<table border=\"1\" class=\"dataframe\">\n",
       "  <thead>\n",
       "    <tr style=\"text-align: right;\">\n",
       "      <th></th>\n",
       "      <th>index</th>\n",
       "      <th>Content</th>\n",
       "      <th>source</th>\n",
       "      <th>label1</th>\n",
       "      <th>label2</th>\n",
       "    </tr>\n",
       "  </thead>\n",
       "  <tbody>\n",
       "    <tr>\n",
       "      <th>0</th>\n",
       "      <td>0</td>\n",
       "      <td>Ginko The company\\n\\nAt Ginko, we are Digital ...</td>\n",
       "      <td>indeed</td>\n",
       "      <td>job_opp</td>\n",
       "      <td>data_engineer</td>\n",
       "    </tr>\n",
       "    <tr>\n",
       "      <th>1</th>\n",
       "      <td>1</td>\n",
       "      <td>Nexity Company Description\\n\\n1st platform of ...</td>\n",
       "      <td>indeed</td>\n",
       "      <td>job_opp</td>\n",
       "      <td>data_engineer</td>\n",
       "    </tr>\n",
       "    <tr>\n",
       "      <th>2</th>\n",
       "      <td>2</td>\n",
       "      <td>42c Who are we ?\\nIn agile mode, we provide an...</td>\n",
       "      <td>indeed</td>\n",
       "      <td>job_opp</td>\n",
       "      <td>data_engineer</td>\n",
       "    </tr>\n",
       "    <tr>\n",
       "      <th>3</th>\n",
       "      <td>3</td>\n",
       "      <td>RS2i Who are we ?\\nAt RS2i, we are committed t...</td>\n",
       "      <td>indeed</td>\n",
       "      <td>job_opp</td>\n",
       "      <td>data_engineer</td>\n",
       "    </tr>\n",
       "    <tr>\n",
       "      <th>4</th>\n",
       "      <td>4</td>\n",
       "      <td>McKinsey &amp; Company Who You'll Work With\\nBased...</td>\n",
       "      <td>indeed</td>\n",
       "      <td>job_opp</td>\n",
       "      <td>data_engineer</td>\n",
       "    </tr>\n",
       "  </tbody>\n",
       "</table>\n",
       "</div>"
      ],
      "text/plain": [
       "   index                                            Content  source   label1  \\\n",
       "0      0  Ginko The company\\n\\nAt Ginko, we are Digital ...  indeed  job_opp   \n",
       "1      1  Nexity Company Description\\n\\n1st platform of ...  indeed  job_opp   \n",
       "2      2  42c Who are we ?\\nIn agile mode, we provide an...  indeed  job_opp   \n",
       "3      3  RS2i Who are we ?\\nAt RS2i, we are committed t...  indeed  job_opp   \n",
       "4      4  McKinsey & Company Who You'll Work With\\nBased...  indeed  job_opp   \n",
       "\n",
       "          label2  \n",
       "0  data_engineer  \n",
       "1  data_engineer  \n",
       "2  data_engineer  \n",
       "3  data_engineer  \n",
       "4  data_engineer  "
      ]
     },
     "execution_count": 137,
     "metadata": {},
     "output_type": "execute_result"
    }
   ],
   "source": [
    "df_class1.head()"
   ]
  },
  {
   "cell_type": "code",
   "execution_count": 145,
   "id": "8d94143d-5315-4821-a9a5-55124a1068b6",
   "metadata": {},
   "outputs": [
    {
     "data": {
      "text/plain": [
       "index        0\n",
       "Content      0\n",
       "source       0\n",
       "label1     150\n",
       "label2     239\n",
       "dtype: int64"
      ]
     },
     "execution_count": 145,
     "metadata": {},
     "output_type": "execute_result"
    }
   ],
   "source": [
    "df_class.isnull().sum()"
   ]
  },
  {
   "cell_type": "code",
   "execution_count": 138,
   "id": "5ce92d54-6468-480d-9b48-32e79f0fd022",
   "metadata": {},
   "outputs": [
    {
     "data": {
      "image/png": "[encoded data removed]",
      "text/plain": [
       "<Figure size 432x288 with 1 Axes>"
      ]
     },
     "metadata": {
      "needs_background": "light"
     },
     "output_type": "display_data"
    }
   ],
   "source": [
    "ax = sns.countplot(x=\"label1\", data=df_class)\n",
    "plt.title(\"Number of email per label\")\n",
    "plt.show()"
   ]
  },
  {
   "cell_type": "code",
   "execution_count": 139,
   "id": "d103971a-4fc3-4922-bb0f-62989eb025f8",
   "metadata": {},
   "outputs": [
    {
     "data": {
      "image/png": "[encoded data removed]",
      "text/plain": [
       "<Figure size 432x288 with 1 Axes>"
      ]
     },
     "metadata": {
      "needs_background": "light"
     },
     "output_type": "display_data"
    }
   ],
   "source": [
    "ax = sns.countplot(x=\"label2\", data=df_class1)\n",
    "plt.title(\"Number of email per label\")\n",
    "plt.show()"
   ]
  },
  {
   "cell_type": "code",
   "execution_count": 141,
   "id": "2816ebe6-6923-4760-b435-87bb1cd7f5c7",
   "metadata": {},
   "outputs": [
    {
     "data": {
      "text/plain": [
       "array(['indeed', 'kaggle', 'assan'], dtype=object)"
      ]
     },
     "execution_count": 141,
     "metadata": {},
     "output_type": "execute_result"
    }
   ],
   "source": [
    "df_class1['source'].unique()"
   ]
  },
  {
   "cell_type": "code",
   "execution_count": 142,
   "id": "35883664-e244-4dbe-a702-dc995ca2d4cb",
   "metadata": {},
   "outputs": [
    {
     "data": {
      "text/plain": [
       "array(['job_opp', nan, 'alert', 'other', 'missing', 'link', 'applied'],\n",
       "      dtype=object)"
      ]
     },
     "execution_count": 142,
     "metadata": {},
     "output_type": "execute_result"
    }
   ],
   "source": [
    "df_class1['label1'].unique()"
   ]
  },
  {
   "cell_type": "code",
   "execution_count": 143,
   "id": "4f10c684-15b6-4f35-bad6-5f6e8cdd030e",
   "metadata": {},
   "outputs": [
    {
     "data": {
      "text/plain": [
       "array(['data_engineer', nan, 'other', 'Bigdata Developer',\n",
       "       'data_scientist', 'link'], dtype=object)"
      ]
     },
     "execution_count": 143,
     "metadata": {},
     "output_type": "execute_result"
    }
   ],
   "source": [
    "df_class1['label2'].unique()"
   ]
  },
  {
   "cell_type": "code",
   "execution_count": 30,
   "id": "14baf458-f4e3-43f7-907d-ee5b62b9a736",
   "metadata": {},
   "outputs": [
    {
     "data": {
      "text/plain": [
       "(150, 3)"
      ]
     },
     "execution_count": 30,
     "metadata": {},
     "output_type": "execute_result"
    }
   ],
   "source": [
    "Kaggle_job = df_class[df_class['Label']== 'kaggle']\n",
    "Kaggle_job.reset_index(inplace=True)\n",
    "Kaggle_job.shape"
   ]
  },
  {
   "cell_type": "code",
   "execution_count": 31,
   "id": "90fd656d-1a33-4dab-b6d2-f95fbc1abf72",
   "metadata": {},
   "outputs": [
    {
     "data": {
      "text/plain": [
       "(131, 2)"
      ]
     },
     "execution_count": 31,
     "metadata": {},
     "output_type": "execute_result"
    }
   ],
   "source": [
    "indeed_job = df_class[df_class['Label']== 'indeed']\n",
    "indeed_job.shape"
   ]
  },
  {
   "cell_type": "code",
   "execution_count": 32,
   "id": "696826f6-af75-403c-8372-fa9acf88ae52",
   "metadata": {},
   "outputs": [
    {
     "data": {
      "text/plain": [
       "(140, 3)"
      ]
     },
     "execution_count": 32,
     "metadata": {},
     "output_type": "execute_result"
    }
   ],
   "source": [
    "assan_job = df_class[df_class['Label']== 'assan']\n",
    "assan_job.reset_index(inplace=True)\n",
    "assan_job.shape"
   ]
  },
  {
   "cell_type": "code",
   "execution_count": 33,
   "id": "7a3a88f5-03b7-4ce8-8efc-a94960b86d62",
   "metadata": {},
   "outputs": [
    {
     "data": {
      "text/plain": [
       "421"
      ]
     },
     "execution_count": 33,
     "metadata": {},
     "output_type": "execute_result"
    }
   ],
   "source": [
    "Kaggle_job.shape[0]+assan_job.shape[0]+indeed_job.shape[0]"
   ]
  },
  {
   "cell_type": "markdown",
   "id": "2959c680-4fac-49ec-a796-88e9c26e5d70",
   "metadata": {},
   "source": [
    "# Process data from Assan"
   ]
  },
  {
   "cell_type": "code",
   "execution_count": 34,
   "id": "9e9a56e4-d863-4c5a-bf8d-61162b1e3b44",
   "metadata": {},
   "outputs": [],
   "source": [
    "def process_emails_type(data):\n",
    "    data = data.lower()\n",
    "    if re.search('alert', data) ==None:\n",
    "        if re.search('job description', data) ==None:\n",
    "            data = 'others'\n",
    "        else:\n",
    "            data = 'job_description'\n",
    "    else:\n",
    "        data = 'alert'\n",
    "    return data"
   ]
  },
  {
   "cell_type": "code",
   "execution_count": 35,
   "id": "50885e9c-8975-4dd3-a064-a4347e572487",
   "metadata": {},
   "outputs": [],
   "source": [
    "assan_job['label'] = assan_job['Content'].apply(process_emails_type)"
   ]
  },
  {
   "cell_type": "code",
   "execution_count": 36,
   "id": "cea9266c-825f-4830-8b3a-98d7adbc19be",
   "metadata": {},
   "outputs": [
    {
     "data": {
      "text/plain": [
       "array(['alert', 'others', 'job_description'], dtype=object)"
      ]
     },
     "execution_count": 36,
     "metadata": {},
     "output_type": "execute_result"
    }
   ],
   "source": [
    "assan_job['label'].unique()"
   ]
  },
  {
   "cell_type": "code",
   "execution_count": 37,
   "id": "3651b6aa-6ec9-4061-9ad9-be1eac5fe5a2",
   "metadata": {},
   "outputs": [
    {
     "data": {
      "text/plain": [
       "140"
      ]
     },
     "execution_count": 37,
     "metadata": {},
     "output_type": "execute_result"
    }
   ],
   "source": [
    "assan_job[assan_job['label']=='job_description'].shape[0] +assan_job[assan_job['label']=='alert'].shape[0]+ assan_job[assan_job['label']=='others'].shape[0]"
   ]
  },
  {
   "cell_type": "code",
   "execution_count": 38,
   "id": "a95320d0-d0f3-4563-80f0-e92f0df941ad",
   "metadata": {},
   "outputs": [],
   "source": [
    "def process_emails_job_title(data):\n",
    "    data = data.lower()\n",
    "    if re.search('data engineer', data) ==None:\n",
    "        if re.search('data scientist', data) ==None:\n",
    "            if re.search('data analyst', data) ==None:\n",
    "                data = 'other_job'\n",
    "            else:\n",
    "                data = 'data_analyst'\n",
    "        else:\n",
    "            data = 'data_scientist'\n",
    "    else:\n",
    "        data = 'data_engineer'\n",
    "    return data"
   ]
  },
  {
   "cell_type": "code",
   "execution_count": 39,
   "id": "57a7067f-0aaa-4aed-aabe-28860da49e93",
   "metadata": {},
   "outputs": [],
   "source": [
    "assan_job['job_title'] = assan_job['Content'].apply(process_emails_job_title)"
   ]
  },
  {
   "cell_type": "code",
   "execution_count": 40,
   "id": "d672aa9a-67cd-4df2-8640-71a359782019",
   "metadata": {},
   "outputs": [
    {
     "data": {
      "text/plain": [
       "array(['data_engineer', 'other_job', 'data_scientist'], dtype=object)"
      ]
     },
     "execution_count": 40,
     "metadata": {},
     "output_type": "execute_result"
    }
   ],
   "source": [
    "assan_job['job_title'].unique()"
   ]
  },
  {
   "cell_type": "code",
   "execution_count": 41,
   "id": "49cb1d0d-a410-4b11-bdba-46cded45548c",
   "metadata": {},
   "outputs": [
    {
     "data": {
      "text/html": [
       "<div>\n",
       "<style scoped>\n",
       "    .dataframe tbody tr th:only-of-type {\n",
       "        vertical-align: middle;\n",
       "    }\n",
       "\n",
       "    .dataframe tbody tr th {\n",
       "        vertical-align: top;\n",
       "    }\n",
       "\n",
       "    .dataframe thead th {\n",
       "        text-align: right;\n",
       "    }\n",
       "</style>\n",
       "<table border=\"1\" class=\"dataframe\">\n",
       "  <thead>\n",
       "    <tr style=\"text-align: right;\">\n",
       "      <th></th>\n",
       "      <th>Content</th>\n",
       "      <th>label</th>\n",
       "      <th>job_title</th>\n",
       "    </tr>\n",
       "  </thead>\n",
       "  <tbody>\n",
       "    <tr>\n",
       "      <th>0</th>\n",
       "      <td>8/24/22, 7:05 PM\\n\\nGmail - Trulioo is hiring ...</td>\n",
       "      <td>alert</td>\n",
       "      <td>data_engineer</td>\n",
       "    </tr>\n",
       "    <tr>\n",
       "      <th>1</th>\n",
       "      <td>Subject: Job Opening: Sr. Data Engineer with G...</td>\n",
       "      <td>others</td>\n",
       "      <td>data_engineer</td>\n",
       "    </tr>\n",
       "    <tr>\n",
       "      <th>2</th>\n",
       "      <td>Subject: Eurofins USA BioPharma Services is hi...</td>\n",
       "      <td>alert</td>\n",
       "      <td>other_job</td>\n",
       "    </tr>\n",
       "    <tr>\n",
       "      <th>3</th>\n",
       "      <td>Subject: Position: Applications Architect | IT...</td>\n",
       "      <td>others</td>\n",
       "      <td>other_job</td>\n",
       "    </tr>\n",
       "    <tr>\n",
       "      <th>4</th>\n",
       "      <td>8/24/22, 7:14 PM\\n\\nGmail - Optum is hiring fo...</td>\n",
       "      <td>alert</td>\n",
       "      <td>data_engineer</td>\n",
       "    </tr>\n",
       "  </tbody>\n",
       "</table>\n",
       "</div>"
      ],
      "text/plain": [
       "                                             Content   label      job_title\n",
       "0  8/24/22, 7:05 PM\\n\\nGmail - Trulioo is hiring ...   alert  data_engineer\n",
       "1  Subject: Job Opening: Sr. Data Engineer with G...  others  data_engineer\n",
       "2  Subject: Eurofins USA BioPharma Services is hi...   alert      other_job\n",
       "3  Subject: Position: Applications Architect | IT...  others      other_job\n",
       "4  8/24/22, 7:14 PM\\n\\nGmail - Optum is hiring fo...   alert  data_engineer"
      ]
     },
     "execution_count": 41,
     "metadata": {},
     "output_type": "execute_result"
    }
   ],
   "source": [
    "assan_job = assan_job[[\"Content\",\"label\",\"job_title\"]]\n",
    "assan_job.head()"
   ]
  },
  {
   "cell_type": "code",
   "execution_count": 50,
   "id": "3346bc43-f4cd-476c-a624-61cd1ec0f541",
   "metadata": {},
   "outputs": [],
   "source": [
    "not_classified = assan_job[(assan_job['label']=='others')&(assan_job['job_title']!='other_job')].reset_index()"
   ]
  },
  {
   "cell_type": "code",
   "execution_count": 51,
   "id": "e5a45030-2911-4c97-a55d-5806b9eecd01",
   "metadata": {},
   "outputs": [
    {
     "data": {
      "text/plain": [
       "(29, 4)"
      ]
     },
     "execution_count": 51,
     "metadata": {},
     "output_type": "execute_result"
    }
   ],
   "source": [
    "not_classified.shape"
   ]
  },
  {
   "cell_type": "code",
   "execution_count": 58,
   "id": "be609e29-7ec4-4626-b9ed-af99931cb399",
   "metadata": {},
   "outputs": [
    {
     "data": {
      "text/plain": [
       "\"Subject: Job opportunity for R developer/ Data Scientist - Merck\\nFrom: Gitika Sinha <inmail-hit-reply@linkedin.com>\\nTo: Assan SANOGO <assansanogo@gmail.com>\\nDate Sent: Friday, April 15, 2022 9:26:19 AM GMT-07:00\\nDate Received: Friday, April 15, 2022 9:26:21 AM GMT-07:00\\n\\nJob type: 12 months contract (extension possible) \\n• Strong knowledge in R package development and unit testing\\n• Familiar with survival analysis and related R packages (survival, flexsurv etc)\\n• Familiar with Real World Data data is a plus.\\n• Explore and expand the usages of RWD to align RWE generation with drug discovery and development,\\nclinical, commercial, and regulatory needs\\n• Work with project leadership to define the scope and approach of new use cases and applications\\n• Design and execute real world analyses to either test hypotheses or generate new hypotheses. Conduct issue\\nanalysis, synthesize findings, interpret results in the context of product/market/industry dynamics, develop\\nrecommendations, and communicate results to multiple stakeholders within the client company\\n• Work with the direct manager to manage multiple projects by ensuring progress, organizing project data and\\ncoordinating team meetings\\n• Independently develop high-quality client deliverables in a timely manner\\nJob type: 12 months contract (extension possible) \\n• Strong knowledge in R package development and unit testing\\n• Familiar with survival analysis and related R packages (survival, flexsurv etc)\\n• Familiar with Real World Data data is a plus.\\n• Explore and expand the usages of RWD to align RWE generation with drug discovery and development,\\nclinical, commercial, and regulatory needs\\n• Work with project leadership to define the scope and approach of new use cases and applications\\n• Design and execute real world analyses to either test hypotheses or generate new hypotheses. Conduct issue\\nanalysis, synthesize findings, interpret results in the context of product/market/industry dynamics, develop\\nrecommendations, and communicate results to multiple stakeholders within the client company\\n\\nGitika Sinha\\nWe provide consulting,outsourcing and support services to clients globally.\\n\\nView message\\n\\nView Gitika's LinkedIn profile\\n\\nTIP You can respond to Gitika by replying to this\\n\\nemail\\n\\nYou are receiving InMail notification emails. Unsubscribe\\nThis email was intended for Assan SANOGO (Data Scientist | Data engineer | Pharmacist). Learn why we included this.\\n\\nIf you need assistance or have questions, please contact LinkedIn Customer Service.\\n\\n© 2022, LinkedIn Corporation. 1 000 West Maude Avenue, Sunnyvale, CA 94085, USA\\n\\nExported using Save Emails to PDF by cloudHQ\\n\\n1/1 \\n \\n \\n \\n \\n \\n \\n \\n \\n\\x0c\""
      ]
     },
     "execution_count": 58,
     "metadata": {},
     "output_type": "execute_result"
    }
   ],
   "source": [
    "not_classified['Content'][3]"
   ]
  },
  {
   "cell_type": "markdown",
   "id": "7bd9f60f-ed16-47ca-adfc-94cd19be1c10",
   "metadata": {},
   "source": [
    "# Process data from kaggle and "
   ]
  },
  {
   "cell_type": "markdown",
   "id": "ba15fbd6-d977-4172-a0d9-58128507af05",
   "metadata": {},
   "source": [
    "### Data from kaggle"
   ]
  },
  {
   "cell_type": "code",
   "execution_count": 15,
   "id": "b0acf0bb-7ac8-41ee-a66b-f124964e48dc",
   "metadata": {},
   "outputs": [],
   "source": [
    "def label_data(label):\n",
    "    label = label.lower()\n",
    "    if label =='indeed':\n",
    "        label = 'job_description'\n",
    "    elif label == 'kaggle':\n",
    "        label = 'others'\n",
    "    else:\n",
    "        label = 'alert'\n",
    "    return (label)"
   ]
  },
  {
   "cell_type": "code",
   "execution_count": 16,
   "id": "a6feeff6-c19e-4378-8bdf-a4a2b8ad9283",
   "metadata": {},
   "outputs": [],
   "source": [
    "Kaggle_job['label'] = Kaggle_job.Label.apply(label_data)"
   ]
  },
  {
   "cell_type": "code",
   "execution_count": 17,
   "id": "8edfce6a-a19c-4235-8cc4-affe7bc2deb7",
   "metadata": {},
   "outputs": [],
   "source": [
    "# Since we knoow that data from kaggle are not job description or alert\n",
    "Kaggle_job['job_title'] = 'other_job'"
   ]
  },
  {
   "cell_type": "code",
   "execution_count": 18,
   "id": "38dbb393-db52-4a1e-9e0c-cb1281c0c58a",
   "metadata": {},
   "outputs": [
    {
     "name": "stdout",
     "output_type": "stream",
     "text": [
      "['others'] ['other_job']\n"
     ]
    }
   ],
   "source": [
    "print(Kaggle_job['label'].unique(), Kaggle_job['job_title'].unique())"
   ]
  },
  {
   "cell_type": "code",
   "execution_count": 19,
   "id": "14c93683-c787-429c-9cca-e37ed3619ef9",
   "metadata": {},
   "outputs": [
    {
     "data": {
      "text/html": [
       "<div>\n",
       "<style scoped>\n",
       "    .dataframe tbody tr th:only-of-type {\n",
       "        vertical-align: middle;\n",
       "    }\n",
       "\n",
       "    .dataframe tbody tr th {\n",
       "        vertical-align: top;\n",
       "    }\n",
       "\n",
       "    .dataframe thead th {\n",
       "        text-align: right;\n",
       "    }\n",
       "</style>\n",
       "<table border=\"1\" class=\"dataframe\">\n",
       "  <thead>\n",
       "    <tr style=\"text-align: right;\">\n",
       "      <th></th>\n",
       "      <th>Content</th>\n",
       "      <th>label</th>\n",
       "      <th>job_title</th>\n",
       "    </tr>\n",
       "  </thead>\n",
       "  <tbody>\n",
       "    <tr>\n",
       "      <th>0</th>\n",
       "      <td>Message-ID: &lt;18782981.1075855378110.JavaMail.e...</td>\n",
       "      <td>others</td>\n",
       "      <td>other_job</td>\n",
       "    </tr>\n",
       "    <tr>\n",
       "      <th>1</th>\n",
       "      <td>Message-ID: &lt;15464986.1075855378456.JavaMail.e...</td>\n",
       "      <td>others</td>\n",
       "      <td>other_job</td>\n",
       "    </tr>\n",
       "    <tr>\n",
       "      <th>2</th>\n",
       "      <td>Message-ID: &lt;24216240.1075855687451.JavaMail.e...</td>\n",
       "      <td>others</td>\n",
       "      <td>other_job</td>\n",
       "    </tr>\n",
       "    <tr>\n",
       "      <th>3</th>\n",
       "      <td>Message-ID: &lt;13505866.1075863688222.JavaMail.e...</td>\n",
       "      <td>others</td>\n",
       "      <td>other_job</td>\n",
       "    </tr>\n",
       "    <tr>\n",
       "      <th>4</th>\n",
       "      <td>Message-ID: &lt;30922949.1075863688243.JavaMail.e...</td>\n",
       "      <td>others</td>\n",
       "      <td>other_job</td>\n",
       "    </tr>\n",
       "  </tbody>\n",
       "</table>\n",
       "</div>"
      ],
      "text/plain": [
       "                                             Content   label  job_title\n",
       "0  Message-ID: <18782981.1075855378110.JavaMail.e...  others  other_job\n",
       "1  Message-ID: <15464986.1075855378456.JavaMail.e...  others  other_job\n",
       "2  Message-ID: <24216240.1075855687451.JavaMail.e...  others  other_job\n",
       "3  Message-ID: <13505866.1075863688222.JavaMail.e...  others  other_job\n",
       "4  Message-ID: <30922949.1075863688243.JavaMail.e...  others  other_job"
      ]
     },
     "execution_count": 19,
     "metadata": {},
     "output_type": "execute_result"
    }
   ],
   "source": [
    "Kaggle_job = Kaggle_job[[\"Content\",\"label\",\"job_title\"]]\n",
    "Kaggle_job.head()"
   ]
  },
  {
   "cell_type": "markdown",
   "id": "2c301b34-3ba0-4a04-ad37-4d433deb7714",
   "metadata": {},
   "source": [
    "### Data from indeed(web scaping)"
   ]
  },
  {
   "cell_type": "code",
   "execution_count": 20,
   "id": "3e96a2a7-066a-4959-ad6f-f0bd976d4184",
   "metadata": {},
   "outputs": [],
   "source": [
    "indeed_job['label'] = indeed_job.Label.apply(label_data)"
   ]
  },
  {
   "cell_type": "code",
   "execution_count": 21,
   "id": "d365a8b9-dd51-40f8-ad0b-690d08186082",
   "metadata": {},
   "outputs": [],
   "source": [
    "# Since we knoow that data from indeed are data engineer job description\n",
    "indeed_job['job_title'] = 'data_engineer'"
   ]
  },
  {
   "cell_type": "code",
   "execution_count": 22,
   "id": "07aa19bd-c627-4be5-9e92-1ee1bb0334aa",
   "metadata": {},
   "outputs": [
    {
     "name": "stdout",
     "output_type": "stream",
     "text": [
      "['job_description'] ['data_engineer']\n"
     ]
    }
   ],
   "source": [
    "print(indeed_job['label'].unique(), indeed_job['job_title'].unique())"
   ]
  },
  {
   "cell_type": "code",
   "execution_count": 23,
   "id": "8a6f79bb-18bc-4215-8181-d5ba31e96a2e",
   "metadata": {},
   "outputs": [
    {
     "data": {
      "text/html": [
       "<div>\n",
       "<style scoped>\n",
       "    .dataframe tbody tr th:only-of-type {\n",
       "        vertical-align: middle;\n",
       "    }\n",
       "\n",
       "    .dataframe tbody tr th {\n",
       "        vertical-align: top;\n",
       "    }\n",
       "\n",
       "    .dataframe thead th {\n",
       "        text-align: right;\n",
       "    }\n",
       "</style>\n",
       "<table border=\"1\" class=\"dataframe\">\n",
       "  <thead>\n",
       "    <tr style=\"text-align: right;\">\n",
       "      <th></th>\n",
       "      <th>Content</th>\n",
       "      <th>label</th>\n",
       "      <th>job_title</th>\n",
       "    </tr>\n",
       "  </thead>\n",
       "  <tbody>\n",
       "    <tr>\n",
       "      <th>0</th>\n",
       "      <td>Ginko The company\\n\\nAt Ginko, we are Digital ...</td>\n",
       "      <td>job_description</td>\n",
       "      <td>data_engineer</td>\n",
       "    </tr>\n",
       "    <tr>\n",
       "      <th>1</th>\n",
       "      <td>Nexity Company Description\\n\\n1st platform of ...</td>\n",
       "      <td>job_description</td>\n",
       "      <td>data_engineer</td>\n",
       "    </tr>\n",
       "    <tr>\n",
       "      <th>2</th>\n",
       "      <td>42c Who are we ?\\nIn agile mode, we provide an...</td>\n",
       "      <td>job_description</td>\n",
       "      <td>data_engineer</td>\n",
       "    </tr>\n",
       "    <tr>\n",
       "      <th>3</th>\n",
       "      <td>RS2i Who are we ?\\nAt RS2i, we are committed t...</td>\n",
       "      <td>job_description</td>\n",
       "      <td>data_engineer</td>\n",
       "    </tr>\n",
       "    <tr>\n",
       "      <th>4</th>\n",
       "      <td>McKinsey &amp; Company Who You'll Work With\\nBased...</td>\n",
       "      <td>job_description</td>\n",
       "      <td>data_engineer</td>\n",
       "    </tr>\n",
       "  </tbody>\n",
       "</table>\n",
       "</div>"
      ],
      "text/plain": [
       "                                             Content            label  \\\n",
       "0  Ginko The company\\n\\nAt Ginko, we are Digital ...  job_description   \n",
       "1  Nexity Company Description\\n\\n1st platform of ...  job_description   \n",
       "2  42c Who are we ?\\nIn agile mode, we provide an...  job_description   \n",
       "3  RS2i Who are we ?\\nAt RS2i, we are committed t...  job_description   \n",
       "4  McKinsey & Company Who You'll Work With\\nBased...  job_description   \n",
       "\n",
       "       job_title  \n",
       "0  data_engineer  \n",
       "1  data_engineer  \n",
       "2  data_engineer  \n",
       "3  data_engineer  \n",
       "4  data_engineer  "
      ]
     },
     "execution_count": 23,
     "metadata": {},
     "output_type": "execute_result"
    }
   ],
   "source": [
    "indeed_job = indeed_job[[\"Content\",\"label\",\"job_title\"]]\n",
    "indeed_job.head()"
   ]
  },
  {
   "cell_type": "markdown",
   "id": "82346c4f-2f6c-4ae1-a0e5-b0543f84f5a8",
   "metadata": {},
   "source": [
    "# Concatenate processed data"
   ]
  },
  {
   "cell_type": "code",
   "execution_count": 24,
   "id": "8857dcba-e2b4-447b-a2d5-2f75778b409f",
   "metadata": {},
   "outputs": [
    {
     "data": {
      "text/html": [
       "<div>\n",
       "<style scoped>\n",
       "    .dataframe tbody tr th:only-of-type {\n",
       "        vertical-align: middle;\n",
       "    }\n",
       "\n",
       "    .dataframe tbody tr th {\n",
       "        vertical-align: top;\n",
       "    }\n",
       "\n",
       "    .dataframe thead th {\n",
       "        text-align: right;\n",
       "    }\n",
       "</style>\n",
       "<table border=\"1\" class=\"dataframe\">\n",
       "  <thead>\n",
       "    <tr style=\"text-align: right;\">\n",
       "      <th></th>\n",
       "      <th>Content</th>\n",
       "      <th>label</th>\n",
       "      <th>job_title</th>\n",
       "    </tr>\n",
       "  </thead>\n",
       "  <tbody>\n",
       "    <tr>\n",
       "      <th>0</th>\n",
       "      <td>Ginko The company\\n\\nAt Ginko, we are Digital ...</td>\n",
       "      <td>job_description</td>\n",
       "      <td>data_engineer</td>\n",
       "    </tr>\n",
       "    <tr>\n",
       "      <th>1</th>\n",
       "      <td>Nexity Company Description\\n\\n1st platform of ...</td>\n",
       "      <td>job_description</td>\n",
       "      <td>data_engineer</td>\n",
       "    </tr>\n",
       "    <tr>\n",
       "      <th>2</th>\n",
       "      <td>42c Who are we ?\\nIn agile mode, we provide an...</td>\n",
       "      <td>job_description</td>\n",
       "      <td>data_engineer</td>\n",
       "    </tr>\n",
       "    <tr>\n",
       "      <th>3</th>\n",
       "      <td>RS2i Who are we ?\\nAt RS2i, we are committed t...</td>\n",
       "      <td>job_description</td>\n",
       "      <td>data_engineer</td>\n",
       "    </tr>\n",
       "    <tr>\n",
       "      <th>4</th>\n",
       "      <td>McKinsey &amp; Company Who You'll Work With\\nBased...</td>\n",
       "      <td>job_description</td>\n",
       "      <td>data_engineer</td>\n",
       "    </tr>\n",
       "  </tbody>\n",
       "</table>\n",
       "</div>"
      ],
      "text/plain": [
       "                                             Content            label  \\\n",
       "0  Ginko The company\\n\\nAt Ginko, we are Digital ...  job_description   \n",
       "1  Nexity Company Description\\n\\n1st platform of ...  job_description   \n",
       "2  42c Who are we ?\\nIn agile mode, we provide an...  job_description   \n",
       "3  RS2i Who are we ?\\nAt RS2i, we are committed t...  job_description   \n",
       "4  McKinsey & Company Who You'll Work With\\nBased...  job_description   \n",
       "\n",
       "       job_title  \n",
       "0  data_engineer  \n",
       "1  data_engineer  \n",
       "2  data_engineer  \n",
       "3  data_engineer  \n",
       "4  data_engineer  "
      ]
     },
     "execution_count": 24,
     "metadata": {},
     "output_type": "execute_result"
    }
   ],
   "source": [
    "indeed_Kaggle_job = pd.concat([indeed_job, Kaggle_job], axis=0)\n",
    "indeed_Kaggle_job.head()"
   ]
  },
  {
   "cell_type": "code",
   "execution_count": 25,
   "id": "90167593-de91-42f6-92a7-f0e0c9607255",
   "metadata": {},
   "outputs": [
    {
     "data": {
      "text/html": [
       "<div>\n",
       "<style scoped>\n",
       "    .dataframe tbody tr th:only-of-type {\n",
       "        vertical-align: middle;\n",
       "    }\n",
       "\n",
       "    .dataframe tbody tr th {\n",
       "        vertical-align: top;\n",
       "    }\n",
       "\n",
       "    .dataframe thead th {\n",
       "        text-align: right;\n",
       "    }\n",
       "</style>\n",
       "<table border=\"1\" class=\"dataframe\">\n",
       "  <thead>\n",
       "    <tr style=\"text-align: right;\">\n",
       "      <th></th>\n",
       "      <th>Content</th>\n",
       "      <th>label</th>\n",
       "      <th>job_title</th>\n",
       "    </tr>\n",
       "  </thead>\n",
       "  <tbody>\n",
       "    <tr>\n",
       "      <th>0</th>\n",
       "      <td>8/24/22, 7:05 PM\\n\\nGmail - Trulioo is hiring ...</td>\n",
       "      <td>alert</td>\n",
       "      <td>data_engineer</td>\n",
       "    </tr>\n",
       "    <tr>\n",
       "      <th>1</th>\n",
       "      <td>Subject: Job Opening: Sr. Data Engineer with G...</td>\n",
       "      <td>others</td>\n",
       "      <td>data_engineer</td>\n",
       "    </tr>\n",
       "    <tr>\n",
       "      <th>2</th>\n",
       "      <td>Subject: Eurofins USA BioPharma Services is hi...</td>\n",
       "      <td>alert</td>\n",
       "      <td>other_job</td>\n",
       "    </tr>\n",
       "    <tr>\n",
       "      <th>3</th>\n",
       "      <td>Subject: Position: Applications Architect | IT...</td>\n",
       "      <td>others</td>\n",
       "      <td>other_job</td>\n",
       "    </tr>\n",
       "    <tr>\n",
       "      <th>4</th>\n",
       "      <td>8/24/22, 7:14 PM\\n\\nGmail - Optum is hiring fo...</td>\n",
       "      <td>alert</td>\n",
       "      <td>data_engineer</td>\n",
       "    </tr>\n",
       "  </tbody>\n",
       "</table>\n",
       "</div>"
      ],
      "text/plain": [
       "                                             Content   label      job_title\n",
       "0  8/24/22, 7:05 PM\\n\\nGmail - Trulioo is hiring ...   alert  data_engineer\n",
       "1  Subject: Job Opening: Sr. Data Engineer with G...  others  data_engineer\n",
       "2  Subject: Eurofins USA BioPharma Services is hi...   alert      other_job\n",
       "3  Subject: Position: Applications Architect | IT...  others      other_job\n",
       "4  8/24/22, 7:14 PM\\n\\nGmail - Optum is hiring fo...   alert  data_engineer"
      ]
     },
     "execution_count": 25,
     "metadata": {},
     "output_type": "execute_result"
    }
   ],
   "source": [
    "all_data = pd.concat([assan_job,indeed_Kaggle_job], axis=0)\n",
    "all_data.head()"
   ]
  },
  {
   "cell_type": "code",
   "execution_count": 26,
   "id": "2a62fd74-bc71-4f2d-897a-5b539dac68ab",
   "metadata": {},
   "outputs": [
    {
     "name": "stdout",
     "output_type": "stream",
     "text": [
      "(421, 2) (421, 3)\n"
     ]
    }
   ],
   "source": [
    "print(df_class.shape,all_data.shape)"
   ]
  },
  {
   "cell_type": "code",
   "execution_count": 27,
   "id": "68887900-e9e0-4103-9099-e9773120387d",
   "metadata": {},
   "outputs": [],
   "source": [
    "all_data.to_csv(\"labeled_emails.csv\",index=False)"
   ]
  },
  {
   "cell_type": "code",
   "execution_count": 65,
   "id": "80e8f54a-7da1-4ae9-affa-da084ec6de59",
   "metadata": {},
   "outputs": [
    {
     "data": {
      "image/png": "[encoded data removed]",
      "text/plain": [
       "<Figure size 432x288 with 1 Axes>"
      ]
     },
     "metadata": {
      "needs_background": "light"
     },
     "output_type": "display_data"
    }
   ],
   "source": [
    "ax = sns.countplot(x=\"label\", hue ='job_title' ,data=assan_job, edgecolor=sns.color_palette(\"dark\", 3))\n",
    "plt.show()"
   ]
  },
  {
   "cell_type": "code",
   "execution_count": 70,
   "id": "d506c488-b56b-41e8-ad88-c19097ab67b1",
   "metadata": {},
   "outputs": [
    {
     "data": {
      "image/png": "[encoded data removed]",
      "text/plain": [
       "<Figure size 432x288 with 1 Axes>"
      ]
     },
     "metadata": {
      "needs_background": "light"
     },
     "output_type": "display_data"
    }
   ],
   "source": [
    "ax = sns.countplot(x=\"job_title\", data=all_data, edgecolor=sns.color_palette(\"dark\", 3))\n",
    "plt.title(\"Number of job per job title\")\n",
    "plt.show()"
   ]
  },
  {
   "cell_type": "code",
   "execution_count": 71,
   "id": "3fd01ea5-f8ac-405c-923b-be9895cb9b77",
   "metadata": {},
   "outputs": [
    {
     "data": {
      "image/png": "[encoded data removed]",
      "text/plain": [
       "<Figure size 432x288 with 1 Axes>"
      ]
     },
     "metadata": {
      "needs_background": "light"
     },
     "output_type": "display_data"
    }
   ],
   "source": [
    "ax = sns.countplot(x=\"label\", data=all_data)\n",
    "plt.title(\"Number of email per label\")\n",
    "plt.show()"
   ]
  },
  {
   "cell_type": "code",
   "execution_count": 73,
   "id": "27bc3746-84b9-42df-9f78-da5d602120a1",
   "metadata": {},
   "outputs": [],
   "source": [
    "import pandas as pd\n",
    "\n",
    "# For the Stop Words\n",
    "from nltk.corpus import stopwords\n",
    "\n",
    "# Convert the Words into Count Vectpr \n",
    "from sklearn.feature_extraction.text import CountVectorizer\n",
    "\n",
    "# Used to Pipe line \n",
    "from sklearn.feature_extraction.text import TfidfTransformer\n",
    "\n",
    "# Train Test Split\n",
    "from sklearn.model_selection import train_test_split\n",
    "\n",
    "# Model \n",
    "from sklearn.naive_bayes import MultinomialNB\n",
    "from sklearn.linear_model import LogisticRegression,LinearRegression\n",
    "\n",
    "# For Report \n",
    "from sklearn.metrics import confusion_matrix, classification_report\n"
   ]
  },
  {
   "cell_type": "code",
   "execution_count": 110,
   "id": "d52d91f9-a6c8-4782-a872-c9d189496e1f",
   "metadata": {},
   "outputs": [
    {
     "data": {
      "text/plain": [
       "(158, 3)"
      ]
     },
     "execution_count": 110,
     "metadata": {},
     "output_type": "execute_result"
    }
   ],
   "source": [
    "job_description = all_data[all_data['label']== 'job_description']\n",
    "job_description.shape"
   ]
  },
  {
   "cell_type": "code",
   "execution_count": 118,
   "id": "d8fb6186-9a2d-48cf-a424-ccd4b11e075a",
   "metadata": {},
   "outputs": [
    {
     "name": "stdout",
     "output_type": "stream",
     "text": [
      "                precision    recall  f1-score   support\n",
      "\n",
      " data_engineer       0.91      0.81      0.85        62\n",
      "data_scientist       0.33      0.43      0.38         7\n",
      "     other_job       0.90      0.98      0.94        58\n",
      "\n",
      "      accuracy                           0.87       127\n",
      "     macro avg       0.72      0.74      0.72       127\n",
      "  weighted avg       0.88      0.87      0.87       127\n",
      "\n"
     ]
    }
   ],
   "source": [
    "# X_Data = job_description[\"Content\"]\n",
    "# Y_Data = job_description[\"job_title\"]\n",
    "X_Data = all_data[\"Content\"]\n",
    "Y_Data = all_data[\"job_title\"]\n",
    "\n",
    "cv = CountVectorizer()\n",
    "X_Data = cv.fit_transform(X_Data)\n",
    "X_Train, X_Test, Y_Train, Y_Test = train_test_split(X_Data, Y_Data,test_size=0.3,random_state=101)\n",
    "# model = MultinomialNB()\n",
    "model = tree.DecisionTreeClassifier()\n",
    "model.fit(X_Train,Y_Train)\n",
    "predicted = model.predict(X_Test)\n",
    "print(classification_report(Y_Test, predicted))"
   ]
  },
  {
   "cell_type": "code",
   "execution_count": 116,
   "id": "af46d619-96c0-43bf-ade2-2f110bbf6ceb",
   "metadata": {},
   "outputs": [],
   "source": [
    "# print(predicted_value)\n",
    "\n",
    "# tree.plot_tree(model)"
   ]
  },
  {
   "cell_type": "code",
   "execution_count": 128,
   "id": "68962109-2dd2-49ed-b064-7dd09f1e0ac5",
   "metadata": {},
   "outputs": [
    {
     "data": {
      "text/plain": [
       "<140x5876 sparse matrix of type '<class 'numpy.int64'>'\n",
       "\twith 29785 stored elements in Compressed Sparse Row format>"
      ]
     },
     "execution_count": 128,
     "metadata": {},
     "output_type": "execute_result"
    }
   ],
   "source": [
    "X_Valid =assan_job[\"Content\"]\n",
    "Y_Valid =assan_job[\"job_title\"]\n",
    "X_Valid =cv.fit_transform(X_Valid)\n",
    "X_Valid"
   ]
  },
  {
   "cell_type": "code",
   "execution_count": 129,
   "id": "e696705b-9439-47fa-9dea-c97471213a2b",
   "metadata": {},
   "outputs": [
    {
     "data": {
      "text/plain": [
       "<127x10230 sparse matrix of type '<class 'numpy.int64'>'\n",
       "\twith 25209 stored elements in Compressed Sparse Row format>"
      ]
     },
     "execution_count": 129,
     "metadata": {},
     "output_type": "execute_result"
    }
   ],
   "source": [
    "X_Test"
   ]
  },
  {
   "cell_type": "code",
   "execution_count": 130,
   "id": "1b5e5679-35f9-4fd0-bda5-e8e4ccb3ef51",
   "metadata": {},
   "outputs": [
    {
     "ename": "ValueError",
     "evalue": "X has 5876 features, but DecisionTreeClassifier is expecting 10230 features as input.",
     "output_type": "error",
     "traceback": [
      "\u001b[1;31m---------------------------------------------------------------------------\u001b[0m",
      "\u001b[1;31mValueError\u001b[0m                                Traceback (most recent call last)",
      "\u001b[1;32m<ipython-input-130-1016b6e892d6>\u001b[0m in \u001b[0;36m<module>\u001b[1;34m\u001b[0m\n\u001b[1;32m----> 1\u001b[1;33m \u001b[0mY_Valid_predicted\u001b[0m \u001b[1;33m=\u001b[0m \u001b[0mmodel\u001b[0m\u001b[1;33m.\u001b[0m\u001b[0mpredict\u001b[0m\u001b[1;33m(\u001b[0m\u001b[0mX_Valid\u001b[0m\u001b[1;33m)\u001b[0m\u001b[1;33m\u001b[0m\u001b[1;33m\u001b[0m\u001b[0m\n\u001b[0m\u001b[0;32m      2\u001b[0m \u001b[0mprint\u001b[0m\u001b[1;33m(\u001b[0m\u001b[0mclassification_report\u001b[0m\u001b[1;33m(\u001b[0m\u001b[0mY_Valid\u001b[0m\u001b[1;33m,\u001b[0m \u001b[0mY_Valid_predicted\u001b[0m\u001b[1;33m)\u001b[0m\u001b[1;33m)\u001b[0m\u001b[1;33m\u001b[0m\u001b[1;33m\u001b[0m\u001b[0m\n",
      "\u001b[1;32m~\\anaconda3\\lib\\site-packages\\sklearn\\tree\\_classes.py\u001b[0m in \u001b[0;36mpredict\u001b[1;34m(self, X, check_input)\u001b[0m\n\u001b[0;32m    435\u001b[0m         \"\"\"\n\u001b[0;32m    436\u001b[0m         \u001b[0mcheck_is_fitted\u001b[0m\u001b[1;33m(\u001b[0m\u001b[0mself\u001b[0m\u001b[1;33m)\u001b[0m\u001b[1;33m\u001b[0m\u001b[1;33m\u001b[0m\u001b[0m\n\u001b[1;32m--> 437\u001b[1;33m         \u001b[0mX\u001b[0m \u001b[1;33m=\u001b[0m \u001b[0mself\u001b[0m\u001b[1;33m.\u001b[0m\u001b[0m_validate_X_predict\u001b[0m\u001b[1;33m(\u001b[0m\u001b[0mX\u001b[0m\u001b[1;33m,\u001b[0m \u001b[0mcheck_input\u001b[0m\u001b[1;33m)\u001b[0m\u001b[1;33m\u001b[0m\u001b[1;33m\u001b[0m\u001b[0m\n\u001b[0m\u001b[0;32m    438\u001b[0m         \u001b[0mproba\u001b[0m \u001b[1;33m=\u001b[0m \u001b[0mself\u001b[0m\u001b[1;33m.\u001b[0m\u001b[0mtree_\u001b[0m\u001b[1;33m.\u001b[0m\u001b[0mpredict\u001b[0m\u001b[1;33m(\u001b[0m\u001b[0mX\u001b[0m\u001b[1;33m)\u001b[0m\u001b[1;33m\u001b[0m\u001b[1;33m\u001b[0m\u001b[0m\n\u001b[0;32m    439\u001b[0m         \u001b[0mn_samples\u001b[0m \u001b[1;33m=\u001b[0m \u001b[0mX\u001b[0m\u001b[1;33m.\u001b[0m\u001b[0mshape\u001b[0m\u001b[1;33m[\u001b[0m\u001b[1;36m0\u001b[0m\u001b[1;33m]\u001b[0m\u001b[1;33m\u001b[0m\u001b[1;33m\u001b[0m\u001b[0m\n",
      "\u001b[1;32m~\\anaconda3\\lib\\site-packages\\sklearn\\tree\\_classes.py\u001b[0m in \u001b[0;36m_validate_X_predict\u001b[1;34m(self, X, check_input)\u001b[0m\n\u001b[0;32m    400\u001b[0m         \u001b[1;34m\"\"\"Validate the training data on predict (probabilities).\"\"\"\u001b[0m\u001b[1;33m\u001b[0m\u001b[1;33m\u001b[0m\u001b[0m\n\u001b[0;32m    401\u001b[0m         \u001b[1;32mif\u001b[0m \u001b[0mcheck_input\u001b[0m\u001b[1;33m:\u001b[0m\u001b[1;33m\u001b[0m\u001b[1;33m\u001b[0m\u001b[0m\n\u001b[1;32m--> 402\u001b[1;33m             X = self._validate_data(X, dtype=DTYPE, accept_sparse=\"csr\",\n\u001b[0m\u001b[0;32m    403\u001b[0m                                     reset=False)\n\u001b[0;32m    404\u001b[0m             if issparse(X) and (X.indices.dtype != np.intc or\n",
      "\u001b[1;32m~\\anaconda3\\lib\\site-packages\\sklearn\\base.py\u001b[0m in \u001b[0;36m_validate_data\u001b[1;34m(self, X, y, reset, validate_separately, **check_params)\u001b[0m\n\u001b[0;32m    435\u001b[0m \u001b[1;33m\u001b[0m\u001b[0m\n\u001b[0;32m    436\u001b[0m         \u001b[1;32mif\u001b[0m \u001b[0mcheck_params\u001b[0m\u001b[1;33m.\u001b[0m\u001b[0mget\u001b[0m\u001b[1;33m(\u001b[0m\u001b[1;34m'ensure_2d'\u001b[0m\u001b[1;33m,\u001b[0m \u001b[1;32mTrue\u001b[0m\u001b[1;33m)\u001b[0m\u001b[1;33m:\u001b[0m\u001b[1;33m\u001b[0m\u001b[1;33m\u001b[0m\u001b[0m\n\u001b[1;32m--> 437\u001b[1;33m             \u001b[0mself\u001b[0m\u001b[1;33m.\u001b[0m\u001b[0m_check_n_features\u001b[0m\u001b[1;33m(\u001b[0m\u001b[0mX\u001b[0m\u001b[1;33m,\u001b[0m \u001b[0mreset\u001b[0m\u001b[1;33m=\u001b[0m\u001b[0mreset\u001b[0m\u001b[1;33m)\u001b[0m\u001b[1;33m\u001b[0m\u001b[1;33m\u001b[0m\u001b[0m\n\u001b[0m\u001b[0;32m    438\u001b[0m \u001b[1;33m\u001b[0m\u001b[0m\n\u001b[0;32m    439\u001b[0m         \u001b[1;32mreturn\u001b[0m \u001b[0mout\u001b[0m\u001b[1;33m\u001b[0m\u001b[1;33m\u001b[0m\u001b[0m\n",
      "\u001b[1;32m~\\anaconda3\\lib\\site-packages\\sklearn\\base.py\u001b[0m in \u001b[0;36m_check_n_features\u001b[1;34m(self, X, reset)\u001b[0m\n\u001b[0;32m    363\u001b[0m \u001b[1;33m\u001b[0m\u001b[0m\n\u001b[0;32m    364\u001b[0m         \u001b[1;32mif\u001b[0m \u001b[0mn_features\u001b[0m \u001b[1;33m!=\u001b[0m \u001b[0mself\u001b[0m\u001b[1;33m.\u001b[0m\u001b[0mn_features_in_\u001b[0m\u001b[1;33m:\u001b[0m\u001b[1;33m\u001b[0m\u001b[1;33m\u001b[0m\u001b[0m\n\u001b[1;32m--> 365\u001b[1;33m             raise ValueError(\n\u001b[0m\u001b[0;32m    366\u001b[0m                 \u001b[1;34mf\"X has {n_features} features, but {self.__class__.__name__} \"\u001b[0m\u001b[1;33m\u001b[0m\u001b[1;33m\u001b[0m\u001b[0m\n\u001b[0;32m    367\u001b[0m                 f\"is expecting {self.n_features_in_} features as input.\")\n",
      "\u001b[1;31mValueError\u001b[0m: X has 5876 features, but DecisionTreeClassifier is expecting 10230 features as input."
     ]
    }
   ],
   "source": [
    "Y_Valid_predicted = model.predict(X_Valid)\n",
    "print(classification_report(Y_Valid, Y_Valid_predicted))"
   ]
  },
  {
   "cell_type": "markdown",
   "id": "ecf6b754-4cce-4f21-b85c-6d630c354d2e",
   "metadata": {},
   "source": [
    "https://github.com/soumilshah1995/NLP-Model-and-Data-Analysis-on-YELP-Dataset/blob/master/NLP%20Model%20on%20YELP%20Data%20Set.ipynb"
   ]
  }
 ],
 "metadata": {
  "kernelspec": {
   "display_name": "Python 3",
   "language": "python",
   "name": "python3"
  },
  "language_info": {
   "codemirror_mode": {
    "name": "ipython",
    "version": 3
   },
   "file_extension": ".py",
   "mimetype": "text/x-python",
   "name": "python",
   "nbconvert_exporter": "python",
   "pygments_lexer": "ipython3",
   "version": "3.8.8"
  }
 },
 "nbformat": 4,
 "nbformat_minor": 5
}
