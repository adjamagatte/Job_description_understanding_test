{
 "cells": [
  {
   "cell_type": "code",
   "execution_count": 1,
   "id": "a91cacc2-440f-4a2a-9188-070971372984",
   "metadata": {},
   "outputs": [],
   "source": [
    "import pandas as pd\n",
    "import spacy\n",
    "import string\n",
    "import joblib"
   ]
  },
  {
   "cell_type": "code",
   "execution_count": 2,
   "id": "0b33469e-d5bb-4796-b4af-90672f246054",
   "metadata": {},
   "outputs": [],
   "source": [
    "# load a new spacy model\n",
    "nlp = spacy.load(\"en_core_web_lg\")\n",
    "\n",
    "# add somes stopwords in the default list of spacy\n",
    "nlp.Defaults.stop_words |= {\"or\",\"per\",\"like\",'-','_','',\n",
    "                            '–','[]','\\n','\\n\\n','\\n\\n ','i.e.'}\n",
    "\n",
    "# Create our list of stopwords\n",
    "stopWords= spacy.lang.en.stop_words.STOP_WORDS #set(stopwords.words('english'))\n"
   ]
  },
  {
   "cell_type": "code",
   "execution_count": 3,
   "id": "c537d53e-0488-4070-b97a-46a5d636289c",
   "metadata": {},
   "outputs": [],
   "source": [
    "def text_preprocess(text):\n",
    "    nlp.max_length = 2030000 # To raise the max legnth of word\n",
    "    \n",
    "### Creation of function that we'll use to process data\n",
    "\n",
    "\n",
    "# Lemmatization\n",
    "    def lemmatize_word(text):\n",
    "        \"\"\" lemmatise words to give his root for example did becomes do\n",
    "        input: text that contains Tokens\n",
    "        output: A list of lemmatized tokens\n",
    "        \"\"\"\n",
    "        lemma_word = [] \n",
    "        for token in text:\n",
    "            lemma_word.append(token.lemma_)\n",
    "        return lemma_word\n",
    "    \n",
    "    \n",
    "# Split words that ontains character and correct them \n",
    "    def check_character_in_words(text):\n",
    "        \"\"\" Split words that ontains character and correct them \n",
    "        input: A list of tokens with characters\n",
    "        output: A list of tokens splitted on the character\n",
    "        \"\"\"\n",
    "        charact = [\"\\n\", \":\", '$']\n",
    "        for words in text:\n",
    "            for chars in charact:\n",
    "                if chars in words:\n",
    "                    text.remove(words)\n",
    "                    words = words.replace(chars,\" \")\n",
    "                    words = words.split()\n",
    "                    text.extend(words)\n",
    "\n",
    "        return text \n",
    "    \n",
    "# Remove punctuation    \n",
    "    def remove_punct(text):\n",
    "        \"\"\"\n",
    "        Remove punctuation from text (List of tokens)\n",
    "        input: A list of tokens with punctuation\n",
    "        output: A list of tokens without punctuation\n",
    "        \"\"\"\n",
    "        l=[]\n",
    "        for word in text:\n",
    "            if not word in string.punctuation:# list of punctuation\n",
    "                l.append(word)\n",
    "        # resultat=\" \".join(l)   \n",
    "        return l\n",
    "\n",
    "\n",
    "# Remove stopwords\n",
    "    def remove_stopword(liste,stopWords):\n",
    "        \"\"\"\n",
    "        Remove stopwords from a list of tokens\n",
    "        input:A list of tokens with stopwords\n",
    "        output:A list of tokens without stopwords\n",
    "        \"\"\"\n",
    "        list_tokens = [tok.lower() for tok in liste]\n",
    "        l=[]\n",
    "        for word in list_tokens:  \n",
    "            if word not in stopWords:\n",
    "                l.append(word)\n",
    "        return l\n",
    "    \n",
    "# Remove duplicated wods \n",
    "    # In the text the world sometimes repeated twice or more. \n",
    "    # For example slary in the title of the job and the description\n",
    "    \n",
    "    def remove_duplicates(text):\n",
    "        \n",
    "        \"\"\"Remove duplicated words in each elements of the list\n",
    "        input: list\n",
    "        output: list\n",
    "        \"\"\"\n",
    "        l=[]\n",
    "        [l.append(x) for x in text if x not in l]\n",
    "        resultat=\" \".join(l)\n",
    "        return resultat\n",
    "\n",
    "    \n",
    "### Process the data\n",
    "\n",
    "    # Tokenization\n",
    "    doc = nlp(text)\n",
    "    lemmatize_text = lemmatize_word(doc)\n",
    "    checked_text = check_character_in_words(lemmatize_text)\n",
    "    removed_punctuation_text = remove_punct(checked_text)\n",
    "    removed_stopwords_punctuation = remove_stopword(removed_punctuation_text,\n",
    "                                                    stopWords)\n",
    "# Remove duplicated wods \n",
    "    clean_text = remove_duplicates(removed_stopwords_punctuation)\n",
    "#     resultat=\" \".join(clean_text)\n",
    "    return(clean_text) \n",
    "    \n",
    "    "
   ]
  },
  {
   "cell_type": "code",
   "execution_count": 4,
   "id": "815aa63f-2cb9-4414-abb2-cdce96375e3c",
   "metadata": {},
   "outputs": [],
   "source": [
    "def model(email):\n",
    "        \"\"\"\n",
    "    tokenize the text, load the model and predict the job title\n",
    "    input: string\n",
    "    output: job_title\n",
    "    \"\"\"\n",
    "    processed_email = text_preprocess(email)\n",
    "    model = joblib.load(\"model.joblib\")\n",
    "    job_title = model.predict([processed_email])\n",
    "    return(job_title)"
   ]
  },
  {
   "cell_type": "code",
   "execution_count": 5,
   "id": "19631e4b-5797-434a-8bb8-6635647f27ab",
   "metadata": {},
   "outputs": [],
   "source": [
    "test = \"Stress Engineer Glasgow Salary **** to **** We re currently looking for talented engineers to join our growing Glasgow team at a variety of levels. The roles are ideally suited to high calibre engineering graduates with any level of appropriate experience, so that we can give you the opportunity to use your technical skills to provide high quality input to our aerospace projects, spanning both aerostructures and aeroengines. In return, you can expect good career opportunities and the chance for advancement and personal and professional development, support while you gain Chartership and some opportunities to possibly travel or work in other offices, in or outside of the UK. The Requirements You will need to have a good engineering degree that includes structural analysis (such as aeronautical, mechanical, automotive, civil) with some experience in a professional engineering environment relevant to (but not limited to) the aerospace sector. You will need to demonstrate experience in at least one or more of the following areas: Structural/stress analysis Composite stress analysis (any industry) Linear and nonlinear finite element analysis Fatigue and damage tolerance Structural dynamics Thermal analysis Aerostructures experience You will also be expected to demonstrate the following qualities: A strong desire to progress quickly to a position of leadership Professional approach Strong communication skills, written and verbal Commercial awareness Team working, being comfortable working in international teams and self managing PLEASE NOTE SECURITY CLEARANCE IS REQUIRED FOR THIS ROLE Stress Engineer Glasgow Salary **** to ****\""
   ]
  },
  {
   "cell_type": "code",
   "execution_count": 6,
   "id": "ae0cbaf0-4ba2-4bb3-95d7-d4aadbd8b4b1",
   "metadata": {},
   "outputs": [
    {
     "data": {
      "text/plain": [
       "array(['other'], dtype=object)"
      ]
     },
     "execution_count": 6,
     "metadata": {},
     "output_type": "execute_result"
    }
   ],
   "source": [
    "a='This is a string'\n",
    "model(a)"
   ]
  },
  {
   "cell_type": "code",
   "execution_count": 7,
   "id": "a9f63b7f-8704-4f5c-b57b-e21d1d8bfe92",
   "metadata": {},
   "outputs": [
    {
     "data": {
      "text/plain": [
       "array(['other'], dtype=object)"
      ]
     },
     "execution_count": 7,
     "metadata": {},
     "output_type": "execute_result"
    }
   ],
   "source": [
    "model(test)"
   ]
  },
  {
   "cell_type": "code",
   "execution_count": null,
   "id": "0c54f79b-ed5a-488d-ad04-11cfeb6cc947",
   "metadata": {},
   "outputs": [],
   "source": []
  }
 ],
 "metadata": {
  "kernelspec": {
   "display_name": "Python 3",
   "language": "python",
   "name": "python3"
  },
  "language_info": {
   "codemirror_mode": {
    "name": "ipython",
    "version": 3
   },
   "file_extension": ".py",
   "mimetype": "text/x-python",
   "name": "python",
   "nbconvert_exporter": "python",
   "pygments_lexer": "ipython3",
   "version": "3.8.8"
  }
 },
 "nbformat": 4,
 "nbformat_minor": 5
}
