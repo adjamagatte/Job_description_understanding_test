{
 "cells": [
  {
   "cell_type": "code",
   "execution_count": 1,
   "metadata": {},
   "outputs": [],
   "source": [
    "# !python -m spacy download en_core_web_lg\n",
    "# !python -m spacy download en_core_web_md\n",
    "# !python -m spacy download en_core_web_sm"
   ]
  },
  {
   "cell_type": "markdown",
   "metadata": {},
   "source": [
    "# Introduction\n",
    "The goal of this project is:\n",
    "* Sort emails in these classes: Job description, Alert and Others.\n",
    "* Classify jobs descriptions in jobs\n",
    "* Rate cv and skills.\n",
    "\n",
    "We will focus on the following:\n",
    "* jobs: Data Scientist, Data Engineer,Big data developper and Data Analyst\n",
    "* datasets: Glassdoors and job_emails1"
   ]
  },
  {
   "cell_type": "markdown",
   "metadata": {},
   "source": [
    "# Librairies"
   ]
  },
  {
   "cell_type": "code",
   "execution_count": 2,
   "metadata": {},
   "outputs": [
    {
     "name": "stderr",
     "output_type": "stream",
     "text": [
      "[nltk_data] Downloading package maxent_ne_chunker to\n",
      "[nltk_data]     C:\\Users\\user\\AppData\\Roaming\\nltk_data...\n",
      "[nltk_data]   Package maxent_ne_chunker is already up-to-date!\n",
      "[nltk_data] Downloading package words to\n",
      "[nltk_data]     C:\\Users\\user\\AppData\\Roaming\\nltk_data...\n",
      "[nltk_data]   Package words is already up-to-date!\n",
      "[nltk_data] Downloading package punkt to\n",
      "[nltk_data]     C:\\Users\\user\\AppData\\Roaming\\nltk_data...\n",
      "[nltk_data]   Package punkt is already up-to-date!\n",
      "[nltk_data] Downloading package stopwords to\n",
      "[nltk_data]     C:\\Users\\user\\AppData\\Roaming\\nltk_data...\n",
      "[nltk_data]   Package stopwords is already up-to-date!\n",
      "[nltk_data] Downloading package wordnet to\n",
      "[nltk_data]     C:\\Users\\user\\AppData\\Roaming\\nltk_data...\n",
      "[nltk_data]   Package wordnet is already up-to-date!\n"
     ]
    },
    {
     "data": {
      "text/plain": [
       "True"
      ]
     },
     "execution_count": 2,
     "metadata": {},
     "output_type": "execute_result"
    }
   ],
   "source": [
    "import pandas as pd\n",
    "import numpy as np\n",
    "import matplotlib.pyplot as plt\n",
    "import seaborn as sns\n",
    "import argparse\n",
    "import os\n",
    "import re\n",
    "import nltk\n",
    "from nltk import sent_tokenize \n",
    "from nltk.tokenize import word_tokenize,MWETokenizer \n",
    "from nltk.tag import pos_tag\n",
    "from nltk.stem import WordNetLemmatizer\n",
    "from nltk.corpus import stopwords\n",
    "import string\n",
    "import spacy\n",
    "from sklearn import tree\n",
    "from sklearn.model_selection import train_test_split\n",
    "from sklearn.metrics import confusion_matrix, classification_report\n",
    "from sklearn.feature_extraction.text import CountVectorizer\n",
    "from sklearn.metrics import confusion_matrix, classification_report\n",
    "from nltk.chunk import conlltags2tree, tree2conlltags,ne_chunk\n",
    "import joblib\n",
    "# nltk.download('all')\n",
    "nltk.download('maxent_ne_chunker')\n",
    "nltk.download('words')\n",
    "nltk.download('punkt')\n",
    "nltk.download('stopwords')\n",
    "nltk.download('wordnet')"
   ]
  },
  {
   "cell_type": "markdown",
   "metadata": {},
   "source": [
    "# Read and print the data"
   ]
  },
  {
   "cell_type": "markdown",
   "metadata": {},
   "source": [
    "data from Assan"
   ]
  },
  {
   "cell_type": "code",
   "execution_count": 3,
   "metadata": {},
   "outputs": [],
   "source": [
    "def read_data(data):\n",
    "    \"\"\"\n",
    "    Read a csv file, drop the first colonne and return a dataframe\n",
    "    input: csv file\n",
    "    output:dataframe\n",
    "    \"\"\"\n",
    "    df = pd.read_csv(data)\n",
    "    df.drop(df.columns[[0]], axis=1, inplace=True)\n",
    "    df.rename(columns={\"label1\":\"label\",\"label2\":\"job_title\"},inplace=True)\n",
    "    print( \"this dataset is the concatenation of data from Assan, Kaggle and indeed (the source).\")\n",
    "    print(\"It has {} columns and {} rows\".format(df.shape[1],df.shape[0]))\n",
    "    print(\"the {} columns are {}\".format(df.shape[1],df.columns.to_list()))\n",
    "    return df"
   ]
  },
  {
   "cell_type": "code",
   "execution_count": 4,
   "metadata": {},
   "outputs": [
    {
     "name": "stdout",
     "output_type": "stream",
     "text": [
      "this dataset is the concatenation of data from Assan, Kaggle and indeed (the source).\n",
      "It has 4 columns and 421 rows\n",
      "the 4 columns are ['Content', 'source', 'label', 'job_title']\n"
     ]
    },
    {
     "data": {
      "text/html": [
       "<div>\n",
       "<style scoped>\n",
       "    .dataframe tbody tr th:only-of-type {\n",
       "        vertical-align: middle;\n",
       "    }\n",
       "\n",
       "    .dataframe tbody tr th {\n",
       "        vertical-align: top;\n",
       "    }\n",
       "\n",
       "    .dataframe thead th {\n",
       "        text-align: right;\n",
       "    }\n",
       "</style>\n",
       "<table border=\"1\" class=\"dataframe\">\n",
       "  <thead>\n",
       "    <tr style=\"text-align: right;\">\n",
       "      <th></th>\n",
       "      <th>Content</th>\n",
       "      <th>source</th>\n",
       "      <th>label</th>\n",
       "      <th>job_title</th>\n",
       "    </tr>\n",
       "  </thead>\n",
       "  <tbody>\n",
       "    <tr>\n",
       "      <th>0</th>\n",
       "      <td>Ginko The company\\n\\nAt Ginko, we are Digital ...</td>\n",
       "      <td>indeed</td>\n",
       "      <td>job_opp</td>\n",
       "      <td>data_engineer</td>\n",
       "    </tr>\n",
       "    <tr>\n",
       "      <th>1</th>\n",
       "      <td>Nexity Company Description\\n\\n1st platform of ...</td>\n",
       "      <td>indeed</td>\n",
       "      <td>job_opp</td>\n",
       "      <td>data_engineer</td>\n",
       "    </tr>\n",
       "    <tr>\n",
       "      <th>2</th>\n",
       "      <td>42c Who are we ?\\nIn agile mode, we provide an...</td>\n",
       "      <td>indeed</td>\n",
       "      <td>job_opp</td>\n",
       "      <td>data_engineer</td>\n",
       "    </tr>\n",
       "    <tr>\n",
       "      <th>3</th>\n",
       "      <td>RS2i Who are we ?\\nAt RS2i, we are committed t...</td>\n",
       "      <td>indeed</td>\n",
       "      <td>job_opp</td>\n",
       "      <td>data_engineer</td>\n",
       "    </tr>\n",
       "    <tr>\n",
       "      <th>4</th>\n",
       "      <td>McKinsey &amp; Company Who You'll Work With\\nBased...</td>\n",
       "      <td>indeed</td>\n",
       "      <td>job_opp</td>\n",
       "      <td>data_engineer</td>\n",
       "    </tr>\n",
       "  </tbody>\n",
       "</table>\n",
       "</div>"
      ],
      "text/plain": [
       "                                             Content  source    label  \\\n",
       "0  Ginko The company\\n\\nAt Ginko, we are Digital ...  indeed  job_opp   \n",
       "1  Nexity Company Description\\n\\n1st platform of ...  indeed  job_opp   \n",
       "2  42c Who are we ?\\nIn agile mode, we provide an...  indeed  job_opp   \n",
       "3  RS2i Who are we ?\\nAt RS2i, we are committed t...  indeed  job_opp   \n",
       "4  McKinsey & Company Who You'll Work With\\nBased...  indeed  job_opp   \n",
       "\n",
       "       job_title  \n",
       "0  data_engineer  \n",
       "1  data_engineer  \n",
       "2  data_engineer  \n",
       "3  data_engineer  \n",
       "4  data_engineer  "
      ]
     },
     "execution_count": 4,
     "metadata": {},
     "output_type": "execute_result"
    }
   ],
   "source": [
    "other_data=read_data('data/job_emails1.csv')\n",
    "other_data.head()"
   ]
  },
  {
   "cell_type": "markdown",
   "metadata": {},
   "source": [
    "data from glassdoor"
   ]
  },
  {
   "cell_type": "code",
   "execution_count": 5,
   "metadata": {},
   "outputs": [],
   "source": [
    "def read_label_data(data,job_title,label):\n",
    "    \"\"\"\n",
    "    Read a csv file add columns label and\n",
    "    job_title\n",
    "    input: data\n",
    "    output: dataframe\n",
    "    \"\"\"\n",
    "    df = pd.read_csv(data)\n",
    "    df.drop(df.columns[[0]], axis=1, inplace=True)\n",
    "    df.rename(columns={\"Label\":\"source\"},inplace=True)\n",
    "    df['job_title']=job_title\n",
    "    df['label']= label\n",
    "    print(\"The dataset have {} columns and {} rows\".format(df.shape[1],df.shape[0]))\n",
    "    print(\"the {} columns are {}\".format(df.shape[1],df.columns.to_list()))\n",
    "    return df"
   ]
  },
  {
   "cell_type": "code",
   "execution_count": 6,
   "metadata": {},
   "outputs": [
    {
     "name": "stdout",
     "output_type": "stream",
     "text": [
      "The dataset have 4 columns and 550 rows\n",
      "the 4 columns are ['Content', 'source', 'job_title', 'label']\n"
     ]
    },
    {
     "data": {
      "text/html": [
       "<div>\n",
       "<style scoped>\n",
       "    .dataframe tbody tr th:only-of-type {\n",
       "        vertical-align: middle;\n",
       "    }\n",
       "\n",
       "    .dataframe tbody tr th {\n",
       "        vertical-align: top;\n",
       "    }\n",
       "\n",
       "    .dataframe thead th {\n",
       "        text-align: right;\n",
       "    }\n",
       "</style>\n",
       "<table border=\"1\" class=\"dataframe\">\n",
       "  <thead>\n",
       "    <tr style=\"text-align: right;\">\n",
       "      <th></th>\n",
       "      <th>Content</th>\n",
       "      <th>source</th>\n",
       "      <th>job_title</th>\n",
       "      <th>label</th>\n",
       "    </tr>\n",
       "  </thead>\n",
       "  <tbody>\n",
       "    <tr>\n",
       "      <th>0</th>\n",
       "      <td>Infoserv LLC\\nData Scientist\\nRemote\\nEmployer...</td>\n",
       "      <td>glassdoor</td>\n",
       "      <td>Data Scientist</td>\n",
       "      <td>job_description</td>\n",
       "    </tr>\n",
       "    <tr>\n",
       "      <th>1</th>\n",
       "      <td>ExxonMobil\\n3.1\\nData Scientist\\nClinton, NJ\\n...</td>\n",
       "      <td>glassdoor</td>\n",
       "      <td>Data Scientist</td>\n",
       "      <td>job_description</td>\n",
       "    </tr>\n",
       "    <tr>\n",
       "      <th>2</th>\n",
       "      <td>eBay Inc.\\n4.1\\nData Scientist/Applied Researc...</td>\n",
       "      <td>glassdoor</td>\n",
       "      <td>Data Scientist</td>\n",
       "      <td>job_description</td>\n",
       "    </tr>\n",
       "    <tr>\n",
       "      <th>3</th>\n",
       "      <td>TikTok\\n3.7\\nData Scientist, University Gradua...</td>\n",
       "      <td>glassdoor</td>\n",
       "      <td>Data Scientist</td>\n",
       "      <td>job_description</td>\n",
       "    </tr>\n",
       "    <tr>\n",
       "      <th>4</th>\n",
       "      <td>Mastercard\\n4.3\\nData Scientist, AI Services -...</td>\n",
       "      <td>glassdoor</td>\n",
       "      <td>Data Scientist</td>\n",
       "      <td>job_description</td>\n",
       "    </tr>\n",
       "  </tbody>\n",
       "</table>\n",
       "</div>"
      ],
      "text/plain": [
       "                                             Content     source  \\\n",
       "0  Infoserv LLC\\nData Scientist\\nRemote\\nEmployer...  glassdoor   \n",
       "1  ExxonMobil\\n3.1\\nData Scientist\\nClinton, NJ\\n...  glassdoor   \n",
       "2  eBay Inc.\\n4.1\\nData Scientist/Applied Researc...  glassdoor   \n",
       "3  TikTok\\n3.7\\nData Scientist, University Gradua...  glassdoor   \n",
       "4  Mastercard\\n4.3\\nData Scientist, AI Services -...  glassdoor   \n",
       "\n",
       "        job_title            label  \n",
       "0  Data Scientist  job_description  \n",
       "1  Data Scientist  job_description  \n",
       "2  Data Scientist  job_description  \n",
       "3  Data Scientist  job_description  \n",
       "4  Data Scientist  job_description  "
      ]
     },
     "execution_count": 6,
     "metadata": {},
     "output_type": "execute_result"
    }
   ],
   "source": [
    "data_scientist_job=read_label_data('data/glassdoor_data scientist.csv','Data Scientist','job_description')\n",
    "data_scientist_job.head()"
   ]
  },
  {
   "cell_type": "code",
   "execution_count": 7,
   "metadata": {},
   "outputs": [
    {
     "name": "stdout",
     "output_type": "stream",
     "text": [
      "The dataset have 4 columns and 346 rows\n",
      "the 4 columns are ['Content', 'source', 'job_title', 'label']\n"
     ]
    },
    {
     "data": {
      "text/html": [
       "<div>\n",
       "<style scoped>\n",
       "    .dataframe tbody tr th:only-of-type {\n",
       "        vertical-align: middle;\n",
       "    }\n",
       "\n",
       "    .dataframe tbody tr th {\n",
       "        vertical-align: top;\n",
       "    }\n",
       "\n",
       "    .dataframe thead th {\n",
       "        text-align: right;\n",
       "    }\n",
       "</style>\n",
       "<table border=\"1\" class=\"dataframe\">\n",
       "  <thead>\n",
       "    <tr style=\"text-align: right;\">\n",
       "      <th></th>\n",
       "      <th>Content</th>\n",
       "      <th>source</th>\n",
       "      <th>job_title</th>\n",
       "      <th>label</th>\n",
       "    </tr>\n",
       "  </thead>\n",
       "  <tbody>\n",
       "    <tr>\n",
       "      <th>0</th>\n",
       "      <td>Teknic\\nData Engineer\\nRemote\\n\\n Role: Data E...</td>\n",
       "      <td>glassdoor</td>\n",
       "      <td>Data Engineer</td>\n",
       "      <td>job_description</td>\n",
       "    </tr>\n",
       "    <tr>\n",
       "      <th>1</th>\n",
       "      <td>Expression Networks\\n4.4\\nData Engineer\\nRemot...</td>\n",
       "      <td>glassdoor</td>\n",
       "      <td>Data Engineer</td>\n",
       "      <td>job_description</td>\n",
       "    </tr>\n",
       "    <tr>\n",
       "      <th>2</th>\n",
       "      <td>TikTok\\n3.7\\n(HackerRank) Software Engineer, U...</td>\n",
       "      <td>glassdoor</td>\n",
       "      <td>Data Engineer</td>\n",
       "      <td>job_description</td>\n",
       "    </tr>\n",
       "    <tr>\n",
       "      <th>3</th>\n",
       "      <td>Denken Solution's Inc\\nData Engineer\\nCaliforn...</td>\n",
       "      <td>glassdoor</td>\n",
       "      <td>Data Engineer</td>\n",
       "      <td>job_description</td>\n",
       "    </tr>\n",
       "    <tr>\n",
       "      <th>4</th>\n",
       "      <td>Sedna Consulting Group\\n4.1\\nData Engineer\\nRe...</td>\n",
       "      <td>glassdoor</td>\n",
       "      <td>Data Engineer</td>\n",
       "      <td>job_description</td>\n",
       "    </tr>\n",
       "  </tbody>\n",
       "</table>\n",
       "</div>"
      ],
      "text/plain": [
       "                                             Content     source  \\\n",
       "0  Teknic\\nData Engineer\\nRemote\\n\\n Role: Data E...  glassdoor   \n",
       "1  Expression Networks\\n4.4\\nData Engineer\\nRemot...  glassdoor   \n",
       "2  TikTok\\n3.7\\n(HackerRank) Software Engineer, U...  glassdoor   \n",
       "3  Denken Solution's Inc\\nData Engineer\\nCaliforn...  glassdoor   \n",
       "4  Sedna Consulting Group\\n4.1\\nData Engineer\\nRe...  glassdoor   \n",
       "\n",
       "       job_title            label  \n",
       "0  Data Engineer  job_description  \n",
       "1  Data Engineer  job_description  \n",
       "2  Data Engineer  job_description  \n",
       "3  Data Engineer  job_description  \n",
       "4  Data Engineer  job_description  "
      ]
     },
     "execution_count": 7,
     "metadata": {},
     "output_type": "execute_result"
    }
   ],
   "source": [
    "data_engineer_job=read_label_data('data/glassdoor_data engineer.csv','Data Engineer','job_description')\n",
    "data_engineer_job.head()"
   ]
  },
  {
   "cell_type": "code",
   "execution_count": 8,
   "metadata": {},
   "outputs": [
    {
     "name": "stdout",
     "output_type": "stream",
     "text": [
      "The dataset have 4 columns and 550 rows\n",
      "the 4 columns are ['Content', 'source', 'job_title', 'label']\n"
     ]
    },
    {
     "data": {
      "text/html": [
       "<div>\n",
       "<style scoped>\n",
       "    .dataframe tbody tr th:only-of-type {\n",
       "        vertical-align: middle;\n",
       "    }\n",
       "\n",
       "    .dataframe tbody tr th {\n",
       "        vertical-align: top;\n",
       "    }\n",
       "\n",
       "    .dataframe thead th {\n",
       "        text-align: right;\n",
       "    }\n",
       "</style>\n",
       "<table border=\"1\" class=\"dataframe\">\n",
       "  <thead>\n",
       "    <tr style=\"text-align: right;\">\n",
       "      <th></th>\n",
       "      <th>Content</th>\n",
       "      <th>source</th>\n",
       "      <th>job_title</th>\n",
       "      <th>label</th>\n",
       "    </tr>\n",
       "  </thead>\n",
       "  <tbody>\n",
       "    <tr>\n",
       "      <th>0</th>\n",
       "      <td>WeLoveNoCode\\n4.5\\nData Analyst\\nRemote\\nEmplo...</td>\n",
       "      <td>glassdoor</td>\n",
       "      <td>Data Analyst</td>\n",
       "      <td>job_description</td>\n",
       "    </tr>\n",
       "    <tr>\n",
       "      <th>1</th>\n",
       "      <td>Associa\\n4.0\\nData &amp; Reporting Analyst\\nNewark...</td>\n",
       "      <td>glassdoor</td>\n",
       "      <td>Data Analyst</td>\n",
       "      <td>job_description</td>\n",
       "    </tr>\n",
       "    <tr>\n",
       "      <th>2</th>\n",
       "      <td>Net2Aspire\\nJr. Data Analyst\\nRemote\\nEmployer...</td>\n",
       "      <td>glassdoor</td>\n",
       "      <td>Data Analyst</td>\n",
       "      <td>job_description</td>\n",
       "    </tr>\n",
       "    <tr>\n",
       "      <th>3</th>\n",
       "      <td>Siemens\\n4.1\\nData Analyst\\nRemote\\n\\n Positio...</td>\n",
       "      <td>glassdoor</td>\n",
       "      <td>Data Analyst</td>\n",
       "      <td>job_description</td>\n",
       "    </tr>\n",
       "    <tr>\n",
       "      <th>4</th>\n",
       "      <td>Nava\\nData Entry Analyst\\nRemote\\nEmployer Pro...</td>\n",
       "      <td>glassdoor</td>\n",
       "      <td>Data Analyst</td>\n",
       "      <td>job_description</td>\n",
       "    </tr>\n",
       "  </tbody>\n",
       "</table>\n",
       "</div>"
      ],
      "text/plain": [
       "                                             Content     source     job_title  \\\n",
       "0  WeLoveNoCode\\n4.5\\nData Analyst\\nRemote\\nEmplo...  glassdoor  Data Analyst   \n",
       "1  Associa\\n4.0\\nData & Reporting Analyst\\nNewark...  glassdoor  Data Analyst   \n",
       "2  Net2Aspire\\nJr. Data Analyst\\nRemote\\nEmployer...  glassdoor  Data Analyst   \n",
       "3  Siemens\\n4.1\\nData Analyst\\nRemote\\n\\n Positio...  glassdoor  Data Analyst   \n",
       "4  Nava\\nData Entry Analyst\\nRemote\\nEmployer Pro...  glassdoor  Data Analyst   \n",
       "\n",
       "             label  \n",
       "0  job_description  \n",
       "1  job_description  \n",
       "2  job_description  \n",
       "3  job_description  \n",
       "4  job_description  "
      ]
     },
     "execution_count": 8,
     "metadata": {},
     "output_type": "execute_result"
    }
   ],
   "source": [
    "data_analyst_job=read_label_data('data/glassdoor_data analyst.csv','Data Analyst','job_description')\n",
    "data_analyst_job.head()"
   ]
  },
  {
   "cell_type": "code",
   "execution_count": 9,
   "metadata": {},
   "outputs": [
    {
     "name": "stdout",
     "output_type": "stream",
     "text": [
      "The dataset have 4 columns and 550 rows\n",
      "the 4 columns are ['Content', 'source', 'job_title', 'label']\n"
     ]
    },
    {
     "data": {
      "text/html": [
       "<div>\n",
       "<style scoped>\n",
       "    .dataframe tbody tr th:only-of-type {\n",
       "        vertical-align: middle;\n",
       "    }\n",
       "\n",
       "    .dataframe tbody tr th {\n",
       "        vertical-align: top;\n",
       "    }\n",
       "\n",
       "    .dataframe thead th {\n",
       "        text-align: right;\n",
       "    }\n",
       "</style>\n",
       "<table border=\"1\" class=\"dataframe\">\n",
       "  <thead>\n",
       "    <tr style=\"text-align: right;\">\n",
       "      <th></th>\n",
       "      <th>Content</th>\n",
       "      <th>source</th>\n",
       "      <th>job_title</th>\n",
       "      <th>label</th>\n",
       "    </tr>\n",
       "  </thead>\n",
       "  <tbody>\n",
       "    <tr>\n",
       "      <th>0</th>\n",
       "      <td>Datrageekz LLC\\nBig Data Developer\\nRemote\\nEm...</td>\n",
       "      <td>glassdoor</td>\n",
       "      <td>Big Data Developer</td>\n",
       "      <td>job_description</td>\n",
       "    </tr>\n",
       "    <tr>\n",
       "      <th>1</th>\n",
       "      <td>ONE IT CORP\\nBig Data Developer\\nRemote\\nEmplo...</td>\n",
       "      <td>glassdoor</td>\n",
       "      <td>Big Data Developer</td>\n",
       "      <td>job_description</td>\n",
       "    </tr>\n",
       "    <tr>\n",
       "      <th>2</th>\n",
       "      <td>Snappyhires\\n4.7\\nBig Data Developer\\nRemote\\n...</td>\n",
       "      <td>glassdoor</td>\n",
       "      <td>Big Data Developer</td>\n",
       "      <td>job_description</td>\n",
       "    </tr>\n",
       "    <tr>\n",
       "      <th>3</th>\n",
       "      <td>Momentum Recruitment\\nBig Data Engineer\\nRemot...</td>\n",
       "      <td>glassdoor</td>\n",
       "      <td>Big Data Developer</td>\n",
       "      <td>job_description</td>\n",
       "    </tr>\n",
       "    <tr>\n",
       "      <th>4</th>\n",
       "      <td>Brilliant Infotech\\n3.8\\nBig Data Developer\\nR...</td>\n",
       "      <td>glassdoor</td>\n",
       "      <td>Big Data Developer</td>\n",
       "      <td>job_description</td>\n",
       "    </tr>\n",
       "  </tbody>\n",
       "</table>\n",
       "</div>"
      ],
      "text/plain": [
       "                                             Content     source  \\\n",
       "0  Datrageekz LLC\\nBig Data Developer\\nRemote\\nEm...  glassdoor   \n",
       "1  ONE IT CORP\\nBig Data Developer\\nRemote\\nEmplo...  glassdoor   \n",
       "2  Snappyhires\\n4.7\\nBig Data Developer\\nRemote\\n...  glassdoor   \n",
       "3  Momentum Recruitment\\nBig Data Engineer\\nRemot...  glassdoor   \n",
       "4  Brilliant Infotech\\n3.8\\nBig Data Developer\\nR...  glassdoor   \n",
       "\n",
       "            job_title            label  \n",
       "0  Big Data Developer  job_description  \n",
       "1  Big Data Developer  job_description  \n",
       "2  Big Data Developer  job_description  \n",
       "3  Big Data Developer  job_description  \n",
       "4  Big Data Developer  job_description  "
      ]
     },
     "execution_count": 9,
     "metadata": {},
     "output_type": "execute_result"
    }
   ],
   "source": [
    "Big_data_developer_job=read_label_data('data/glassdoor_Big data developer.csv','Big Data Developer','job_description')\n",
    "Big_data_developer_job.head()"
   ]
  },
  {
   "cell_type": "markdown",
   "metadata": {},
   "source": [
    "# Preprocessing"
   ]
  },
  {
   "cell_type": "markdown",
   "metadata": {},
   "source": [
    "### Glassdoor data"
   ]
  },
  {
   "cell_type": "code",
   "execution_count": 10,
   "metadata": {},
   "outputs": [
    {
     "name": "stdout",
     "output_type": "stream",
     "text": [
      "Content      0\n",
      "source       0\n",
      "job_title    0\n",
      "label        0\n",
      "dtype: int64 Content      0\n",
      "source       0\n",
      "job_title    0\n",
      "label        0\n",
      "dtype: int64 Content      0\n",
      "source       0\n",
      "job_title    0\n",
      "label        0\n",
      "dtype: int64 Content      0\n",
      "source       0\n",
      "job_title    0\n",
      "label        0\n",
      "dtype: int64\n"
     ]
    }
   ],
   "source": [
    "print(data_scientist_job.isnull().sum(),\n",
    "      data_engineer_job.isnull().sum(),\n",
    "      data_analyst_job.isnull().sum(),\n",
    "      Big_data_developer_job.isnull().sum())"
   ]
  },
  {
   "cell_type": "code",
   "execution_count": 11,
   "metadata": {},
   "outputs": [
    {
     "data": {
      "text/plain": [
       "[['job_description'],\n",
       " ['job_description'],\n",
       " ['job_description'],\n",
       " ['job_description']]"
      ]
     },
     "execution_count": 11,
     "metadata": {},
     "output_type": "execute_result"
    }
   ],
   "source": [
    "[list(data_scientist_job['label'].unique()),\n",
    "list(data_engineer_job['label'].unique()),\n",
    "list( data_analyst_job['label'].unique()),\n",
    "list(Big_data_developer_job['label'].unique())]"
   ]
  },
  {
   "cell_type": "code",
   "execution_count": 12,
   "metadata": {},
   "outputs": [
    {
     "data": {
      "text/plain": [
       "array(['Big Data Developer'], dtype=object)"
      ]
     },
     "execution_count": 12,
     "metadata": {},
     "output_type": "execute_result"
    }
   ],
   "source": [
    "Big_data_developer_job['job_title'].unique()"
   ]
  },
  {
   "cell_type": "markdown",
   "metadata": {},
   "source": [
    "We have only job description label in glassdoor data"
   ]
  },
  {
   "cell_type": "markdown",
   "metadata": {},
   "source": [
    "### Assan, kaggle and indeed data"
   ]
  },
  {
   "cell_type": "code",
   "execution_count": 13,
   "metadata": {},
   "outputs": [
    {
     "data": {
      "text/plain": [
       "kaggle    150\n",
       "assan     140\n",
       "indeed    131\n",
       "Name: source, dtype: int64"
      ]
     },
     "execution_count": 13,
     "metadata": {},
     "output_type": "execute_result"
    }
   ],
   "source": [
    "other_data['source'].value_counts()"
   ]
  },
  {
   "cell_type": "code",
   "execution_count": 14,
   "metadata": {},
   "outputs": [
    {
     "data": {
      "text/plain": [
       "0"
      ]
     },
     "execution_count": 14,
     "metadata": {},
     "output_type": "execute_result"
    }
   ],
   "source": [
    "other_data['source'].isnull().sum()"
   ]
  },
  {
   "cell_type": "markdown",
   "metadata": {},
   "source": [
    "* Label data from Kaggle\n",
    "    - we know that: data from kaggle are twits for sentiment analysis\n",
    "    \n",
    " Thus:"
   ]
  },
  {
   "cell_type": "code",
   "execution_count": 15,
   "metadata": {},
   "outputs": [],
   "source": [
    "mask = other_data['source']=='kaggle'\n",
    "mask\n",
    "other_data.loc[mask, 'label'] = 'other'\n",
    "other_data.loc[mask, 'job_title'] = 'other'"
   ]
  },
  {
   "cell_type": "code",
   "execution_count": 16,
   "metadata": {},
   "outputs": [
    {
     "name": "stdout",
     "output_type": "stream",
     "text": [
      "other    150\n",
      "Name: job_title, dtype: int64 \n",
      "\n",
      " other    150\n",
      "Name: label, dtype: int64\n"
     ]
    }
   ],
   "source": [
    "print(other_data.loc[mask, 'job_title'].value_counts(dropna=False),\"\\n\\n\",\n",
    "other_data.loc[mask, 'label'].value_counts(dropna=False))"
   ]
  },
  {
   "cell_type": "code",
   "execution_count": 17,
   "metadata": {},
   "outputs": [
    {
     "data": {
      "text/html": [
       "<div>\n",
       "<style scoped>\n",
       "    .dataframe tbody tr th:only-of-type {\n",
       "        vertical-align: middle;\n",
       "    }\n",
       "\n",
       "    .dataframe tbody tr th {\n",
       "        vertical-align: top;\n",
       "    }\n",
       "\n",
       "    .dataframe thead th {\n",
       "        text-align: right;\n",
       "    }\n",
       "</style>\n",
       "<table border=\"1\" class=\"dataframe\">\n",
       "  <thead>\n",
       "    <tr style=\"text-align: right;\">\n",
       "      <th></th>\n",
       "      <th>Content</th>\n",
       "      <th>source</th>\n",
       "      <th>label</th>\n",
       "      <th>job_title</th>\n",
       "    </tr>\n",
       "  </thead>\n",
       "  <tbody>\n",
       "    <tr>\n",
       "      <th>131</th>\n",
       "      <td>Message-ID: &lt;18782981.1075855378110.JavaMail.e...</td>\n",
       "      <td>kaggle</td>\n",
       "      <td>other</td>\n",
       "      <td>other</td>\n",
       "    </tr>\n",
       "    <tr>\n",
       "      <th>132</th>\n",
       "      <td>Message-ID: &lt;15464986.1075855378456.JavaMail.e...</td>\n",
       "      <td>kaggle</td>\n",
       "      <td>other</td>\n",
       "      <td>other</td>\n",
       "    </tr>\n",
       "    <tr>\n",
       "      <th>133</th>\n",
       "      <td>Message-ID: &lt;24216240.1075855687451.JavaMail.e...</td>\n",
       "      <td>kaggle</td>\n",
       "      <td>other</td>\n",
       "      <td>other</td>\n",
       "    </tr>\n",
       "    <tr>\n",
       "      <th>134</th>\n",
       "      <td>Message-ID: &lt;13505866.1075863688222.JavaMail.e...</td>\n",
       "      <td>kaggle</td>\n",
       "      <td>other</td>\n",
       "      <td>other</td>\n",
       "    </tr>\n",
       "    <tr>\n",
       "      <th>135</th>\n",
       "      <td>Message-ID: &lt;30922949.1075863688243.JavaMail.e...</td>\n",
       "      <td>kaggle</td>\n",
       "      <td>other</td>\n",
       "      <td>other</td>\n",
       "    </tr>\n",
       "  </tbody>\n",
       "</table>\n",
       "</div>"
      ],
      "text/plain": [
       "                                               Content  source  label  \\\n",
       "131  Message-ID: <18782981.1075855378110.JavaMail.e...  kaggle  other   \n",
       "132  Message-ID: <15464986.1075855378456.JavaMail.e...  kaggle  other   \n",
       "133  Message-ID: <24216240.1075855687451.JavaMail.e...  kaggle  other   \n",
       "134  Message-ID: <13505866.1075863688222.JavaMail.e...  kaggle  other   \n",
       "135  Message-ID: <30922949.1075863688243.JavaMail.e...  kaggle  other   \n",
       "\n",
       "    job_title  \n",
       "131     other  \n",
       "132     other  \n",
       "133     other  \n",
       "134     other  \n",
       "135     other  "
      ]
     },
     "execution_count": 17,
     "metadata": {},
     "output_type": "execute_result"
    }
   ],
   "source": [
    "other_data[other_data['source']=='kaggle'].head()"
   ]
  },
  {
   "cell_type": "markdown",
   "metadata": {},
   "source": [
    "* Label data from Indeed\n",
    "    - we know that: data from indeed are data engineer's job description\n",
    " "
   ]
  },
  {
   "cell_type": "code",
   "execution_count": 18,
   "metadata": {},
   "outputs": [],
   "source": [
    "mask1 = other_data['source']=='indeed'\n",
    "mask1\n",
    "other_data.loc[mask1, 'label'] = 'job_description'\n",
    "other_data.loc[mask1, 'job_title'] = 'Data Engineer'"
   ]
  },
  {
   "cell_type": "code",
   "execution_count": 19,
   "metadata": {},
   "outputs": [
    {
     "name": "stdout",
     "output_type": "stream",
     "text": [
      "Data Engineer    131\n",
      "Name: job_title, dtype: int64 \n",
      "\n",
      " job_description    131\n",
      "Name: label, dtype: int64\n"
     ]
    }
   ],
   "source": [
    "print(other_data.loc[mask1, 'job_title'].value_counts(dropna=False),\"\\n\\n\",\n",
    "other_data.loc[mask1, 'label'].value_counts(dropna=False))"
   ]
  },
  {
   "cell_type": "code",
   "execution_count": 20,
   "metadata": {},
   "outputs": [
    {
     "data": {
      "text/html": [
       "<div>\n",
       "<style scoped>\n",
       "    .dataframe tbody tr th:only-of-type {\n",
       "        vertical-align: middle;\n",
       "    }\n",
       "\n",
       "    .dataframe tbody tr th {\n",
       "        vertical-align: top;\n",
       "    }\n",
       "\n",
       "    .dataframe thead th {\n",
       "        text-align: right;\n",
       "    }\n",
       "</style>\n",
       "<table border=\"1\" class=\"dataframe\">\n",
       "  <thead>\n",
       "    <tr style=\"text-align: right;\">\n",
       "      <th></th>\n",
       "      <th>Content</th>\n",
       "      <th>source</th>\n",
       "      <th>label</th>\n",
       "      <th>job_title</th>\n",
       "    </tr>\n",
       "  </thead>\n",
       "  <tbody>\n",
       "    <tr>\n",
       "      <th>0</th>\n",
       "      <td>Ginko The company\\n\\nAt Ginko, we are Digital ...</td>\n",
       "      <td>indeed</td>\n",
       "      <td>job_description</td>\n",
       "      <td>Data Engineer</td>\n",
       "    </tr>\n",
       "    <tr>\n",
       "      <th>1</th>\n",
       "      <td>Nexity Company Description\\n\\n1st platform of ...</td>\n",
       "      <td>indeed</td>\n",
       "      <td>job_description</td>\n",
       "      <td>Data Engineer</td>\n",
       "    </tr>\n",
       "    <tr>\n",
       "      <th>2</th>\n",
       "      <td>42c Who are we ?\\nIn agile mode, we provide an...</td>\n",
       "      <td>indeed</td>\n",
       "      <td>job_description</td>\n",
       "      <td>Data Engineer</td>\n",
       "    </tr>\n",
       "    <tr>\n",
       "      <th>3</th>\n",
       "      <td>RS2i Who are we ?\\nAt RS2i, we are committed t...</td>\n",
       "      <td>indeed</td>\n",
       "      <td>job_description</td>\n",
       "      <td>Data Engineer</td>\n",
       "    </tr>\n",
       "    <tr>\n",
       "      <th>4</th>\n",
       "      <td>McKinsey &amp; Company Who You'll Work With\\nBased...</td>\n",
       "      <td>indeed</td>\n",
       "      <td>job_description</td>\n",
       "      <td>Data Engineer</td>\n",
       "    </tr>\n",
       "  </tbody>\n",
       "</table>\n",
       "</div>"
      ],
      "text/plain": [
       "                                             Content  source            label  \\\n",
       "0  Ginko The company\\n\\nAt Ginko, we are Digital ...  indeed  job_description   \n",
       "1  Nexity Company Description\\n\\n1st platform of ...  indeed  job_description   \n",
       "2  42c Who are we ?\\nIn agile mode, we provide an...  indeed  job_description   \n",
       "3  RS2i Who are we ?\\nAt RS2i, we are committed t...  indeed  job_description   \n",
       "4  McKinsey & Company Who You'll Work With\\nBased...  indeed  job_description   \n",
       "\n",
       "       job_title  \n",
       "0  Data Engineer  \n",
       "1  Data Engineer  \n",
       "2  Data Engineer  \n",
       "3  Data Engineer  \n",
       "4  Data Engineer  "
      ]
     },
     "execution_count": 20,
     "metadata": {},
     "output_type": "execute_result"
    }
   ],
   "source": [
    "other_data[other_data['source']=='indeed'].head()"
   ]
  },
  {
   "cell_type": "markdown",
   "metadata": {},
   "source": [
    "* Label data from Assan \n",
    "    - All job_opp will become job_opportunity\n",
    "    - all the other label will become other"
   ]
  },
  {
   "cell_type": "code",
   "execution_count": 21,
   "metadata": {},
   "outputs": [],
   "source": [
    "mask_assan= other_data['source']=='assan'"
   ]
  },
  {
   "cell_type": "code",
   "execution_count": 22,
   "metadata": {},
   "outputs": [
    {
     "data": {
      "text/plain": [
       "Content       0\n",
       "source        0\n",
       "label         0\n",
       "job_title    89\n",
       "dtype: int64"
      ]
     },
     "execution_count": 22,
     "metadata": {},
     "output_type": "execute_result"
    }
   ],
   "source": [
    "other_data[mask_assan].isnull().sum()"
   ]
  },
  {
   "cell_type": "code",
   "execution_count": 23,
   "metadata": {},
   "outputs": [],
   "source": [
    "other_data.loc[mask_assan]=other_data.loc[mask_assan].fillna(\"other\")"
   ]
  },
  {
   "cell_type": "code",
   "execution_count": 24,
   "metadata": {},
   "outputs": [
    {
     "data": {
      "text/plain": [
       "Content      0\n",
       "source       0\n",
       "label        0\n",
       "job_title    0\n",
       "dtype: int64"
      ]
     },
     "execution_count": 24,
     "metadata": {},
     "output_type": "execute_result"
    }
   ],
   "source": [
    "other_data[mask_assan].isnull().sum()"
   ]
  },
  {
   "cell_type": "code",
   "execution_count": 25,
   "metadata": {},
   "outputs": [
    {
     "data": {
      "text/plain": [
       "other                109\n",
       "data_scientist        20\n",
       "data_engineer          8\n",
       "link                   2\n",
       "Bigdata Developer      1\n",
       "Name: job_title, dtype: int64"
      ]
     },
     "execution_count": 25,
     "metadata": {},
     "output_type": "execute_result"
    }
   ],
   "source": [
    "other_data.loc[mask_assan,'job_title'].value_counts(dropna=False)"
   ]
  },
  {
   "cell_type": "code",
   "execution_count": 26,
   "metadata": {},
   "outputs": [],
   "source": [
    "other_data.loc[mask_assan,'job_title']=other_data.loc[mask_assan,'job_title'].map({\"data_scientist\":\"Data Scientist\",\n",
    "                                                                 \"data_engineer\":\"Data Engineer\",\n",
    "                                                                \"Bigdata Developer\":\"Big Data Developer\",\n",
    "                                                                \"link\":\"other\",\"other\":\"other\"})"
   ]
  },
  {
   "cell_type": "code",
   "execution_count": 27,
   "metadata": {},
   "outputs": [
    {
     "data": {
      "text/plain": [
       "other                 111\n",
       "Data Scientist         20\n",
       "Data Engineer           8\n",
       "Big Data Developer      1\n",
       "Name: job_title, dtype: int64"
      ]
     },
     "execution_count": 27,
     "metadata": {},
     "output_type": "execute_result"
    }
   ],
   "source": [
    "other_data.loc[mask_assan,'job_title'].value_counts(dropna=False)"
   ]
  },
  {
   "cell_type": "code",
   "execution_count": 28,
   "metadata": {},
   "outputs": [
    {
     "data": {
      "text/plain": [
       "job_opp    50\n",
       "alert      47\n",
       "other      34\n",
       "missing     7\n",
       "applied     1\n",
       "link        1\n",
       "Name: label, dtype: int64"
      ]
     },
     "execution_count": 28,
     "metadata": {},
     "output_type": "execute_result"
    }
   ],
   "source": [
    "other_data.loc[mask_assan,'label'].value_counts(dropna=False)"
   ]
  },
  {
   "cell_type": "code",
   "execution_count": 29,
   "metadata": {},
   "outputs": [],
   "source": [
    "def label_job_data(label):\n",
    "    if label=='job_opp':\n",
    "        return job_description\n",
    "    else :\n",
    "        return 'other'"
   ]
  },
  {
   "cell_type": "code",
   "execution_count": 30,
   "metadata": {},
   "outputs": [],
   "source": [
    "other_data.loc[mask_assan,'label']=other_data.loc[mask_assan,'job_title'].apply(label_job_data)"
   ]
  },
  {
   "cell_type": "code",
   "execution_count": 31,
   "metadata": {},
   "outputs": [
    {
     "data": {
      "text/plain": [
       "other              290\n",
       "job_description    131\n",
       "Name: label, dtype: int64"
      ]
     },
     "execution_count": 31,
     "metadata": {},
     "output_type": "execute_result"
    }
   ],
   "source": [
    "# other_data['label'].unique()\n",
    "other_data['label'].value_counts()"
   ]
  },
  {
   "cell_type": "code",
   "execution_count": 32,
   "metadata": {},
   "outputs": [
    {
     "data": {
      "text/plain": [
       "0"
      ]
     },
     "execution_count": 32,
     "metadata": {},
     "output_type": "execute_result"
    }
   ],
   "source": [
    "other_data['label'].isnull().sum()"
   ]
  },
  {
   "cell_type": "markdown",
   "metadata": {},
   "source": [
    "### Concatanation of  all data"
   ]
  },
  {
   "cell_type": "code",
   "execution_count": 33,
   "metadata": {},
   "outputs": [
    {
     "name": "stdout",
     "output_type": "stream",
     "text": [
      "Content      0\n",
      "source       0\n",
      "job_title    0\n",
      "label        0\n",
      "dtype: int64 ['Data Scientist' 'Data Engineer']\n"
     ]
    },
    {
     "data": {
      "text/html": [
       "<div>\n",
       "<style scoped>\n",
       "    .dataframe tbody tr th:only-of-type {\n",
       "        vertical-align: middle;\n",
       "    }\n",
       "\n",
       "    .dataframe tbody tr th {\n",
       "        vertical-align: top;\n",
       "    }\n",
       "\n",
       "    .dataframe thead th {\n",
       "        text-align: right;\n",
       "    }\n",
       "</style>\n",
       "<table border=\"1\" class=\"dataframe\">\n",
       "  <thead>\n",
       "    <tr style=\"text-align: right;\">\n",
       "      <th></th>\n",
       "      <th>Content</th>\n",
       "      <th>source</th>\n",
       "      <th>job_title</th>\n",
       "      <th>label</th>\n",
       "    </tr>\n",
       "  </thead>\n",
       "  <tbody>\n",
       "    <tr>\n",
       "      <th>0</th>\n",
       "      <td>Infoserv LLC\\nData Scientist\\nRemote\\nEmployer...</td>\n",
       "      <td>glassdoor</td>\n",
       "      <td>Data Scientist</td>\n",
       "      <td>job_description</td>\n",
       "    </tr>\n",
       "    <tr>\n",
       "      <th>1</th>\n",
       "      <td>ExxonMobil\\n3.1\\nData Scientist\\nClinton, NJ\\n...</td>\n",
       "      <td>glassdoor</td>\n",
       "      <td>Data Scientist</td>\n",
       "      <td>job_description</td>\n",
       "    </tr>\n",
       "    <tr>\n",
       "      <th>2</th>\n",
       "      <td>eBay Inc.\\n4.1\\nData Scientist/Applied Researc...</td>\n",
       "      <td>glassdoor</td>\n",
       "      <td>Data Scientist</td>\n",
       "      <td>job_description</td>\n",
       "    </tr>\n",
       "    <tr>\n",
       "      <th>3</th>\n",
       "      <td>TikTok\\n3.7\\nData Scientist, University Gradua...</td>\n",
       "      <td>glassdoor</td>\n",
       "      <td>Data Scientist</td>\n",
       "      <td>job_description</td>\n",
       "    </tr>\n",
       "    <tr>\n",
       "      <th>4</th>\n",
       "      <td>Mastercard\\n4.3\\nData Scientist, AI Services -...</td>\n",
       "      <td>glassdoor</td>\n",
       "      <td>Data Scientist</td>\n",
       "      <td>job_description</td>\n",
       "    </tr>\n",
       "    <tr>\n",
       "      <th>...</th>\n",
       "      <td>...</td>\n",
       "      <td>...</td>\n",
       "      <td>...</td>\n",
       "      <td>...</td>\n",
       "    </tr>\n",
       "    <tr>\n",
       "      <th>341</th>\n",
       "      <td>Accenture\\n4.1\\nData Engineer\\nSan Francisco, ...</td>\n",
       "      <td>glassdoor</td>\n",
       "      <td>Data Engineer</td>\n",
       "      <td>job_description</td>\n",
       "    </tr>\n",
       "    <tr>\n",
       "      <th>342</th>\n",
       "      <td>Lincoln Financial\\n3.6\\nData Engineer (REMOTE)...</td>\n",
       "      <td>glassdoor</td>\n",
       "      <td>Data Engineer</td>\n",
       "      <td>job_description</td>\n",
       "    </tr>\n",
       "    <tr>\n",
       "      <th>343</th>\n",
       "      <td>Ultra Mobile\\n4.4\\nDigital Data Engineer I - R...</td>\n",
       "      <td>glassdoor</td>\n",
       "      <td>Data Engineer</td>\n",
       "      <td>job_description</td>\n",
       "    </tr>\n",
       "    <tr>\n",
       "      <th>344</th>\n",
       "      <td>Antra, Inc\\n4.5\\nJr. Data Engineer\\nSterling, ...</td>\n",
       "      <td>glassdoor</td>\n",
       "      <td>Data Engineer</td>\n",
       "      <td>job_description</td>\n",
       "    </tr>\n",
       "    <tr>\n",
       "      <th>345</th>\n",
       "      <td>GenSpark\\n4.1\\nData Engineer\\nRemote\\n\\n Posit...</td>\n",
       "      <td>glassdoor</td>\n",
       "      <td>Data Engineer</td>\n",
       "      <td>job_description</td>\n",
       "    </tr>\n",
       "  </tbody>\n",
       "</table>\n",
       "<p>896 rows × 4 columns</p>\n",
       "</div>"
      ],
      "text/plain": [
       "                                               Content     source  \\\n",
       "0    Infoserv LLC\\nData Scientist\\nRemote\\nEmployer...  glassdoor   \n",
       "1    ExxonMobil\\n3.1\\nData Scientist\\nClinton, NJ\\n...  glassdoor   \n",
       "2    eBay Inc.\\n4.1\\nData Scientist/Applied Researc...  glassdoor   \n",
       "3    TikTok\\n3.7\\nData Scientist, University Gradua...  glassdoor   \n",
       "4    Mastercard\\n4.3\\nData Scientist, AI Services -...  glassdoor   \n",
       "..                                                 ...        ...   \n",
       "341  Accenture\\n4.1\\nData Engineer\\nSan Francisco, ...  glassdoor   \n",
       "342  Lincoln Financial\\n3.6\\nData Engineer (REMOTE)...  glassdoor   \n",
       "343  Ultra Mobile\\n4.4\\nDigital Data Engineer I - R...  glassdoor   \n",
       "344  Antra, Inc\\n4.5\\nJr. Data Engineer\\nSterling, ...  glassdoor   \n",
       "345  GenSpark\\n4.1\\nData Engineer\\nRemote\\n\\n Posit...  glassdoor   \n",
       "\n",
       "          job_title            label  \n",
       "0    Data Scientist  job_description  \n",
       "1    Data Scientist  job_description  \n",
       "2    Data Scientist  job_description  \n",
       "3    Data Scientist  job_description  \n",
       "4    Data Scientist  job_description  \n",
       "..              ...              ...  \n",
       "341   Data Engineer  job_description  \n",
       "342   Data Engineer  job_description  \n",
       "343   Data Engineer  job_description  \n",
       "344   Data Engineer  job_description  \n",
       "345   Data Engineer  job_description  \n",
       "\n",
       "[896 rows x 4 columns]"
      ]
     },
     "execution_count": 33,
     "metadata": {},
     "output_type": "execute_result"
    }
   ],
   "source": [
    "glassdoor_data_scientist_enginneer=pd.concat([data_scientist_job,data_engineer_job])\n",
    "print(glassdoor_data_scientist_enginneer.isnull().sum(),glassdoor_data_scientist_enginneer['job_title'].unique())\n",
    "glassdoor_data_scientist_enginneer"
   ]
  },
  {
   "cell_type": "code",
   "execution_count": 34,
   "metadata": {},
   "outputs": [
    {
     "name": "stdout",
     "output_type": "stream",
     "text": [
      "Content      0\n",
      "source       0\n",
      "job_title    0\n",
      "label        0\n",
      "dtype: int64 ['Data Scientist' 'Data Engineer' 'Data Analyst']\n"
     ]
    },
    {
     "data": {
      "text/html": [
       "<div>\n",
       "<style scoped>\n",
       "    .dataframe tbody tr th:only-of-type {\n",
       "        vertical-align: middle;\n",
       "    }\n",
       "\n",
       "    .dataframe tbody tr th {\n",
       "        vertical-align: top;\n",
       "    }\n",
       "\n",
       "    .dataframe thead th {\n",
       "        text-align: right;\n",
       "    }\n",
       "</style>\n",
       "<table border=\"1\" class=\"dataframe\">\n",
       "  <thead>\n",
       "    <tr style=\"text-align: right;\">\n",
       "      <th></th>\n",
       "      <th>Content</th>\n",
       "      <th>source</th>\n",
       "      <th>job_title</th>\n",
       "      <th>label</th>\n",
       "    </tr>\n",
       "  </thead>\n",
       "  <tbody>\n",
       "    <tr>\n",
       "      <th>0</th>\n",
       "      <td>Infoserv LLC\\nData Scientist\\nRemote\\nEmployer...</td>\n",
       "      <td>glassdoor</td>\n",
       "      <td>Data Scientist</td>\n",
       "      <td>job_description</td>\n",
       "    </tr>\n",
       "    <tr>\n",
       "      <th>1</th>\n",
       "      <td>ExxonMobil\\n3.1\\nData Scientist\\nClinton, NJ\\n...</td>\n",
       "      <td>glassdoor</td>\n",
       "      <td>Data Scientist</td>\n",
       "      <td>job_description</td>\n",
       "    </tr>\n",
       "    <tr>\n",
       "      <th>2</th>\n",
       "      <td>eBay Inc.\\n4.1\\nData Scientist/Applied Researc...</td>\n",
       "      <td>glassdoor</td>\n",
       "      <td>Data Scientist</td>\n",
       "      <td>job_description</td>\n",
       "    </tr>\n",
       "    <tr>\n",
       "      <th>3</th>\n",
       "      <td>TikTok\\n3.7\\nData Scientist, University Gradua...</td>\n",
       "      <td>glassdoor</td>\n",
       "      <td>Data Scientist</td>\n",
       "      <td>job_description</td>\n",
       "    </tr>\n",
       "    <tr>\n",
       "      <th>4</th>\n",
       "      <td>Mastercard\\n4.3\\nData Scientist, AI Services -...</td>\n",
       "      <td>glassdoor</td>\n",
       "      <td>Data Scientist</td>\n",
       "      <td>job_description</td>\n",
       "    </tr>\n",
       "    <tr>\n",
       "      <th>...</th>\n",
       "      <td>...</td>\n",
       "      <td>...</td>\n",
       "      <td>...</td>\n",
       "      <td>...</td>\n",
       "    </tr>\n",
       "    <tr>\n",
       "      <th>545</th>\n",
       "      <td>Softnice Inc.\\n4.0\\nJr. Business Analyst\\nRemo...</td>\n",
       "      <td>glassdoor</td>\n",
       "      <td>Data Analyst</td>\n",
       "      <td>job_description</td>\n",
       "    </tr>\n",
       "    <tr>\n",
       "      <th>546</th>\n",
       "      <td>Disney Media &amp; Entertainment Distribution\\n3.9...</td>\n",
       "      <td>glassdoor</td>\n",
       "      <td>Data Analyst</td>\n",
       "      <td>job_description</td>\n",
       "    </tr>\n",
       "    <tr>\n",
       "      <th>547</th>\n",
       "      <td>PCS GLOBAL TECH\\nJunior Data Analyst/ Entry Le...</td>\n",
       "      <td>glassdoor</td>\n",
       "      <td>Data Analyst</td>\n",
       "      <td>job_description</td>\n",
       "    </tr>\n",
       "    <tr>\n",
       "      <th>548</th>\n",
       "      <td>precision technology solutions\\nRemote trainin...</td>\n",
       "      <td>glassdoor</td>\n",
       "      <td>Data Analyst</td>\n",
       "      <td>job_description</td>\n",
       "    </tr>\n",
       "    <tr>\n",
       "      <th>549</th>\n",
       "      <td>Wattpad\\n3.8\\nData Analyst\\nRemote\\n\\n As the ...</td>\n",
       "      <td>glassdoor</td>\n",
       "      <td>Data Analyst</td>\n",
       "      <td>job_description</td>\n",
       "    </tr>\n",
       "  </tbody>\n",
       "</table>\n",
       "<p>1446 rows × 4 columns</p>\n",
       "</div>"
      ],
      "text/plain": [
       "                                               Content     source  \\\n",
       "0    Infoserv LLC\\nData Scientist\\nRemote\\nEmployer...  glassdoor   \n",
       "1    ExxonMobil\\n3.1\\nData Scientist\\nClinton, NJ\\n...  glassdoor   \n",
       "2    eBay Inc.\\n4.1\\nData Scientist/Applied Researc...  glassdoor   \n",
       "3    TikTok\\n3.7\\nData Scientist, University Gradua...  glassdoor   \n",
       "4    Mastercard\\n4.3\\nData Scientist, AI Services -...  glassdoor   \n",
       "..                                                 ...        ...   \n",
       "545  Softnice Inc.\\n4.0\\nJr. Business Analyst\\nRemo...  glassdoor   \n",
       "546  Disney Media & Entertainment Distribution\\n3.9...  glassdoor   \n",
       "547  PCS GLOBAL TECH\\nJunior Data Analyst/ Entry Le...  glassdoor   \n",
       "548  precision technology solutions\\nRemote trainin...  glassdoor   \n",
       "549  Wattpad\\n3.8\\nData Analyst\\nRemote\\n\\n As the ...  glassdoor   \n",
       "\n",
       "          job_title            label  \n",
       "0    Data Scientist  job_description  \n",
       "1    Data Scientist  job_description  \n",
       "2    Data Scientist  job_description  \n",
       "3    Data Scientist  job_description  \n",
       "4    Data Scientist  job_description  \n",
       "..              ...              ...  \n",
       "545    Data Analyst  job_description  \n",
       "546    Data Analyst  job_description  \n",
       "547    Data Analyst  job_description  \n",
       "548    Data Analyst  job_description  \n",
       "549    Data Analyst  job_description  \n",
       "\n",
       "[1446 rows x 4 columns]"
      ]
     },
     "execution_count": 34,
     "metadata": {},
     "output_type": "execute_result"
    }
   ],
   "source": [
    "glassdoor_data_scientist_enginneer_analyst=pd.concat([glassdoor_data_scientist_enginneer,data_analyst_job])\n",
    "print(glassdoor_data_scientist_enginneer_analyst.isnull().sum(),glassdoor_data_scientist_enginneer_analyst['job_title'].unique())\n",
    "glassdoor_data_scientist_enginneer_analyst"
   ]
  },
  {
   "cell_type": "code",
   "execution_count": 35,
   "metadata": {},
   "outputs": [
    {
     "name": "stdout",
     "output_type": "stream",
     "text": [
      "Content      0\n",
      "source       0\n",
      "job_title    0\n",
      "label        0\n",
      "dtype: int64 ['Data Scientist' 'Data Engineer' 'Data Analyst' 'Big Data Developer']\n"
     ]
    },
    {
     "data": {
      "text/html": [
       "<div>\n",
       "<style scoped>\n",
       "    .dataframe tbody tr th:only-of-type {\n",
       "        vertical-align: middle;\n",
       "    }\n",
       "\n",
       "    .dataframe tbody tr th {\n",
       "        vertical-align: top;\n",
       "    }\n",
       "\n",
       "    .dataframe thead th {\n",
       "        text-align: right;\n",
       "    }\n",
       "</style>\n",
       "<table border=\"1\" class=\"dataframe\">\n",
       "  <thead>\n",
       "    <tr style=\"text-align: right;\">\n",
       "      <th></th>\n",
       "      <th>Content</th>\n",
       "      <th>source</th>\n",
       "      <th>job_title</th>\n",
       "      <th>label</th>\n",
       "    </tr>\n",
       "  </thead>\n",
       "  <tbody>\n",
       "    <tr>\n",
       "      <th>0</th>\n",
       "      <td>Infoserv LLC\\nData Scientist\\nRemote\\nEmployer...</td>\n",
       "      <td>glassdoor</td>\n",
       "      <td>Data Scientist</td>\n",
       "      <td>job_description</td>\n",
       "    </tr>\n",
       "    <tr>\n",
       "      <th>1</th>\n",
       "      <td>ExxonMobil\\n3.1\\nData Scientist\\nClinton, NJ\\n...</td>\n",
       "      <td>glassdoor</td>\n",
       "      <td>Data Scientist</td>\n",
       "      <td>job_description</td>\n",
       "    </tr>\n",
       "    <tr>\n",
       "      <th>2</th>\n",
       "      <td>eBay Inc.\\n4.1\\nData Scientist/Applied Researc...</td>\n",
       "      <td>glassdoor</td>\n",
       "      <td>Data Scientist</td>\n",
       "      <td>job_description</td>\n",
       "    </tr>\n",
       "    <tr>\n",
       "      <th>3</th>\n",
       "      <td>TikTok\\n3.7\\nData Scientist, University Gradua...</td>\n",
       "      <td>glassdoor</td>\n",
       "      <td>Data Scientist</td>\n",
       "      <td>job_description</td>\n",
       "    </tr>\n",
       "    <tr>\n",
       "      <th>4</th>\n",
       "      <td>Mastercard\\n4.3\\nData Scientist, AI Services -...</td>\n",
       "      <td>glassdoor</td>\n",
       "      <td>Data Scientist</td>\n",
       "      <td>job_description</td>\n",
       "    </tr>\n",
       "    <tr>\n",
       "      <th>...</th>\n",
       "      <td>...</td>\n",
       "      <td>...</td>\n",
       "      <td>...</td>\n",
       "      <td>...</td>\n",
       "    </tr>\n",
       "    <tr>\n",
       "      <th>545</th>\n",
       "      <td>Datrageekz LLC\\nBig Data Developer\\nRemote\\nEm...</td>\n",
       "      <td>glassdoor</td>\n",
       "      <td>Big Data Developer</td>\n",
       "      <td>job_description</td>\n",
       "    </tr>\n",
       "    <tr>\n",
       "      <th>546</th>\n",
       "      <td>Aptivacorp\\n4.4\\nPython/Golang Developer (100%...</td>\n",
       "      <td>glassdoor</td>\n",
       "      <td>Big Data Developer</td>\n",
       "      <td>job_description</td>\n",
       "    </tr>\n",
       "    <tr>\n",
       "      <th>547</th>\n",
       "      <td>Zscaler\\n4.5\\nData Engineer\\nSan Jose, CA\\n$93...</td>\n",
       "      <td>glassdoor</td>\n",
       "      <td>Big Data Developer</td>\n",
       "      <td>job_description</td>\n",
       "    </tr>\n",
       "    <tr>\n",
       "      <th>548</th>\n",
       "      <td>Pittsburgh Knights\\nFront End Developer\\nPitts...</td>\n",
       "      <td>glassdoor</td>\n",
       "      <td>Big Data Developer</td>\n",
       "      <td>job_description</td>\n",
       "    </tr>\n",
       "    <tr>\n",
       "      <th>549</th>\n",
       "      <td>TELUS International\\n3.8\\nBig Data Developer\\n...</td>\n",
       "      <td>glassdoor</td>\n",
       "      <td>Big Data Developer</td>\n",
       "      <td>job_description</td>\n",
       "    </tr>\n",
       "  </tbody>\n",
       "</table>\n",
       "<p>1996 rows × 4 columns</p>\n",
       "</div>"
      ],
      "text/plain": [
       "                                               Content     source  \\\n",
       "0    Infoserv LLC\\nData Scientist\\nRemote\\nEmployer...  glassdoor   \n",
       "1    ExxonMobil\\n3.1\\nData Scientist\\nClinton, NJ\\n...  glassdoor   \n",
       "2    eBay Inc.\\n4.1\\nData Scientist/Applied Researc...  glassdoor   \n",
       "3    TikTok\\n3.7\\nData Scientist, University Gradua...  glassdoor   \n",
       "4    Mastercard\\n4.3\\nData Scientist, AI Services -...  glassdoor   \n",
       "..                                                 ...        ...   \n",
       "545  Datrageekz LLC\\nBig Data Developer\\nRemote\\nEm...  glassdoor   \n",
       "546  Aptivacorp\\n4.4\\nPython/Golang Developer (100%...  glassdoor   \n",
       "547  Zscaler\\n4.5\\nData Engineer\\nSan Jose, CA\\n$93...  glassdoor   \n",
       "548  Pittsburgh Knights\\nFront End Developer\\nPitts...  glassdoor   \n",
       "549  TELUS International\\n3.8\\nBig Data Developer\\n...  glassdoor   \n",
       "\n",
       "              job_title            label  \n",
       "0        Data Scientist  job_description  \n",
       "1        Data Scientist  job_description  \n",
       "2        Data Scientist  job_description  \n",
       "3        Data Scientist  job_description  \n",
       "4        Data Scientist  job_description  \n",
       "..                  ...              ...  \n",
       "545  Big Data Developer  job_description  \n",
       "546  Big Data Developer  job_description  \n",
       "547  Big Data Developer  job_description  \n",
       "548  Big Data Developer  job_description  \n",
       "549  Big Data Developer  job_description  \n",
       "\n",
       "[1996 rows x 4 columns]"
      ]
     },
     "execution_count": 35,
     "metadata": {},
     "output_type": "execute_result"
    }
   ],
   "source": [
    "all_glassdoor_data =pd.concat([glassdoor_data_scientist_enginneer_analyst,Big_data_developer_job])\n",
    "print(all_glassdoor_data.isnull().sum(),all_glassdoor_data['job_title'].unique())\n",
    "all_glassdoor_data"
   ]
  },
  {
   "cell_type": "code",
   "execution_count": 36,
   "metadata": {},
   "outputs": [
    {
     "name": "stdout",
     "output_type": "stream",
     "text": [
      "null values: \n",
      " Content      0\n",
      "source       0\n",
      "job_title    0\n",
      "label        0\n",
      "dtype: int64 \n",
      "\n",
      " different jobs: \n",
      " ['Data Scientist' 'Data Engineer' 'Data Analyst' 'Big Data Developer'\n",
      " 'other'] \n",
      "\n",
      " different label: \n",
      " ['job_description' 'other'] \n",
      "\n",
      " different source: \n",
      " ['glassdoor' 'indeed' 'kaggle' 'assan']\n"
     ]
    },
    {
     "data": {
      "text/html": [
       "<div>\n",
       "<style scoped>\n",
       "    .dataframe tbody tr th:only-of-type {\n",
       "        vertical-align: middle;\n",
       "    }\n",
       "\n",
       "    .dataframe tbody tr th {\n",
       "        vertical-align: top;\n",
       "    }\n",
       "\n",
       "    .dataframe thead th {\n",
       "        text-align: right;\n",
       "    }\n",
       "</style>\n",
       "<table border=\"1\" class=\"dataframe\">\n",
       "  <thead>\n",
       "    <tr style=\"text-align: right;\">\n",
       "      <th></th>\n",
       "      <th>Content</th>\n",
       "      <th>source</th>\n",
       "      <th>job_title</th>\n",
       "      <th>label</th>\n",
       "    </tr>\n",
       "  </thead>\n",
       "  <tbody>\n",
       "    <tr>\n",
       "      <th>0</th>\n",
       "      <td>Infoserv LLC\\nData Scientist\\nRemote\\nEmployer...</td>\n",
       "      <td>glassdoor</td>\n",
       "      <td>Data Scientist</td>\n",
       "      <td>job_description</td>\n",
       "    </tr>\n",
       "    <tr>\n",
       "      <th>1</th>\n",
       "      <td>ExxonMobil\\n3.1\\nData Scientist\\nClinton, NJ\\n...</td>\n",
       "      <td>glassdoor</td>\n",
       "      <td>Data Scientist</td>\n",
       "      <td>job_description</td>\n",
       "    </tr>\n",
       "    <tr>\n",
       "      <th>2</th>\n",
       "      <td>eBay Inc.\\n4.1\\nData Scientist/Applied Researc...</td>\n",
       "      <td>glassdoor</td>\n",
       "      <td>Data Scientist</td>\n",
       "      <td>job_description</td>\n",
       "    </tr>\n",
       "    <tr>\n",
       "      <th>3</th>\n",
       "      <td>TikTok\\n3.7\\nData Scientist, University Gradua...</td>\n",
       "      <td>glassdoor</td>\n",
       "      <td>Data Scientist</td>\n",
       "      <td>job_description</td>\n",
       "    </tr>\n",
       "    <tr>\n",
       "      <th>4</th>\n",
       "      <td>Mastercard\\n4.3\\nData Scientist, AI Services -...</td>\n",
       "      <td>glassdoor</td>\n",
       "      <td>Data Scientist</td>\n",
       "      <td>job_description</td>\n",
       "    </tr>\n",
       "    <tr>\n",
       "      <th>...</th>\n",
       "      <td>...</td>\n",
       "      <td>...</td>\n",
       "      <td>...</td>\n",
       "      <td>...</td>\n",
       "    </tr>\n",
       "    <tr>\n",
       "      <th>416</th>\n",
       "      <td>Subject: Full stack Java Developer in Atlanta,...</td>\n",
       "      <td>assan</td>\n",
       "      <td>other</td>\n",
       "      <td>other</td>\n",
       "    </tr>\n",
       "    <tr>\n",
       "      <th>417</th>\n",
       "      <td>8/24/22, 7:21 PM\\n\\nGmail - Last 100 Seats Rem...</td>\n",
       "      <td>assan</td>\n",
       "      <td>other</td>\n",
       "      <td>other</td>\n",
       "    </tr>\n",
       "    <tr>\n",
       "      <th>418</th>\n",
       "      <td>Subject: SENIOR DATA SCIENTIST opening at SHOP...</td>\n",
       "      <td>assan</td>\n",
       "      <td>other</td>\n",
       "      <td>other</td>\n",
       "    </tr>\n",
       "    <tr>\n",
       "      <th>419</th>\n",
       "      <td>Subject: Handshake Following Up | Assan SANOGO...</td>\n",
       "      <td>assan</td>\n",
       "      <td>other</td>\n",
       "      <td>other</td>\n",
       "    </tr>\n",
       "    <tr>\n",
       "      <th>420</th>\n",
       "      <td>Subject: Fulltime Data Engineer || Dallas, TX ...</td>\n",
       "      <td>assan</td>\n",
       "      <td>Data Engineer</td>\n",
       "      <td>other</td>\n",
       "    </tr>\n",
       "  </tbody>\n",
       "</table>\n",
       "<p>2417 rows × 4 columns</p>\n",
       "</div>"
      ],
      "text/plain": [
       "                                               Content     source  \\\n",
       "0    Infoserv LLC\\nData Scientist\\nRemote\\nEmployer...  glassdoor   \n",
       "1    ExxonMobil\\n3.1\\nData Scientist\\nClinton, NJ\\n...  glassdoor   \n",
       "2    eBay Inc.\\n4.1\\nData Scientist/Applied Researc...  glassdoor   \n",
       "3    TikTok\\n3.7\\nData Scientist, University Gradua...  glassdoor   \n",
       "4    Mastercard\\n4.3\\nData Scientist, AI Services -...  glassdoor   \n",
       "..                                                 ...        ...   \n",
       "416  Subject: Full stack Java Developer in Atlanta,...      assan   \n",
       "417  8/24/22, 7:21 PM\\n\\nGmail - Last 100 Seats Rem...      assan   \n",
       "418  Subject: SENIOR DATA SCIENTIST opening at SHOP...      assan   \n",
       "419  Subject: Handshake Following Up | Assan SANOGO...      assan   \n",
       "420  Subject: Fulltime Data Engineer || Dallas, TX ...      assan   \n",
       "\n",
       "          job_title            label  \n",
       "0    Data Scientist  job_description  \n",
       "1    Data Scientist  job_description  \n",
       "2    Data Scientist  job_description  \n",
       "3    Data Scientist  job_description  \n",
       "4    Data Scientist  job_description  \n",
       "..              ...              ...  \n",
       "416           other            other  \n",
       "417           other            other  \n",
       "418           other            other  \n",
       "419           other            other  \n",
       "420   Data Engineer            other  \n",
       "\n",
       "[2417 rows x 4 columns]"
      ]
     },
     "execution_count": 36,
     "metadata": {},
     "output_type": "execute_result"
    }
   ],
   "source": [
    "all_datsaset = pd.concat([all_glassdoor_data,other_data])\n",
    "print(\"null values: \\n\",all_datsaset.isnull().sum(),\"\\n\\n\",\"different jobs: \\n\",all_datsaset['job_title'].unique(),\n",
    "      \"\\n\\n\",\"different label: \\n\",all_datsaset['label'].unique(),\n",
    "     \"\\n\\n\",\"different source: \\n\",all_datsaset['source'].unique())\n",
    "all_datsaset"
   ]
  },
  {
   "cell_type": "code",
   "execution_count": 37,
   "metadata": {},
   "outputs": [],
   "source": [
    "all_datsaset.to_csv('data/alldata.csv',index=False)"
   ]
  },
  {
   "cell_type": "code",
   "execution_count": 82,
   "metadata": {},
   "outputs": [],
   "source": [
    "# pd.read_csv('data/alldata.csv')"
   ]
  },
  {
   "cell_type": "code",
   "execution_count": 38,
   "metadata": {},
   "outputs": [
    {
     "name": "stdout",
     "output_type": "stream",
     "text": [
      "<class 'pandas.core.frame.DataFrame'>\n",
      "Int64Index: 2417 entries, 0 to 420\n",
      "Data columns (total 4 columns):\n",
      " #   Column     Non-Null Count  Dtype \n",
      "---  ------     --------------  ----- \n",
      " 0   Content    2417 non-null   object\n",
      " 1   source     2417 non-null   object\n",
      " 2   job_title  2417 non-null   object\n",
      " 3   label      2417 non-null   object\n",
      "dtypes: object(4)\n",
      "memory usage: 94.4+ KB\n"
     ]
    }
   ],
   "source": [
    "all_datsaset.info()"
   ]
  },
  {
   "cell_type": "code",
   "execution_count": 39,
   "metadata": {},
   "outputs": [
    {
     "data": {
      "image/png": "[encoded data removed]",
      "text/plain": [
       "<Figure size 1080x720 with 1 Axes>"
      ]
     },
     "metadata": {
      "needs_background": "light"
     },
     "output_type": "display_data"
    }
   ],
   "source": [
    "plt.figure(figsize=(15,10))\n",
    "label = [i for i in all_datsaset['job_title'].value_counts().to_list()]\n",
    "ax = sns.countplot(x=\"job_title\",data=all_datsaset,label=label)\n",
    "plt.title(\"Number of job per job type\")\n",
    "plt.legend()\n",
    "plt.show()"
   ]
  },
  {
   "cell_type": "code",
   "execution_count": 40,
   "metadata": {},
   "outputs": [
    {
     "data": {
      "text/html": [
       "<div>\n",
       "<style scoped>\n",
       "    .dataframe tbody tr th:only-of-type {\n",
       "        vertical-align: middle;\n",
       "    }\n",
       "\n",
       "    .dataframe tbody tr th {\n",
       "        vertical-align: top;\n",
       "    }\n",
       "\n",
       "    .dataframe thead th {\n",
       "        text-align: right;\n",
       "    }\n",
       "</style>\n",
       "<table border=\"1\" class=\"dataframe\">\n",
       "  <thead>\n",
       "    <tr style=\"text-align: right;\">\n",
       "      <th></th>\n",
       "      <th>Content</th>\n",
       "      <th>source</th>\n",
       "      <th>job_title</th>\n",
       "      <th>label</th>\n",
       "    </tr>\n",
       "  </thead>\n",
       "  <tbody>\n",
       "    <tr>\n",
       "      <th>0</th>\n",
       "      <td>Infoserv LLC\\nData Scientist\\nRemote\\nEmployer...</td>\n",
       "      <td>glassdoor</td>\n",
       "      <td>Data Scientist</td>\n",
       "      <td>job_description</td>\n",
       "    </tr>\n",
       "    <tr>\n",
       "      <th>1</th>\n",
       "      <td>ExxonMobil\\n3.1\\nData Scientist\\nClinton, NJ\\n...</td>\n",
       "      <td>glassdoor</td>\n",
       "      <td>Data Scientist</td>\n",
       "      <td>job_description</td>\n",
       "    </tr>\n",
       "    <tr>\n",
       "      <th>2</th>\n",
       "      <td>eBay Inc.\\n4.1\\nData Scientist/Applied Researc...</td>\n",
       "      <td>glassdoor</td>\n",
       "      <td>Data Scientist</td>\n",
       "      <td>job_description</td>\n",
       "    </tr>\n",
       "    <tr>\n",
       "      <th>3</th>\n",
       "      <td>TikTok\\n3.7\\nData Scientist, University Gradua...</td>\n",
       "      <td>glassdoor</td>\n",
       "      <td>Data Scientist</td>\n",
       "      <td>job_description</td>\n",
       "    </tr>\n",
       "    <tr>\n",
       "      <th>4</th>\n",
       "      <td>Mastercard\\n4.3\\nData Scientist, AI Services -...</td>\n",
       "      <td>glassdoor</td>\n",
       "      <td>Data Scientist</td>\n",
       "      <td>job_description</td>\n",
       "    </tr>\n",
       "  </tbody>\n",
       "</table>\n",
       "</div>"
      ],
      "text/plain": [
       "                                             Content     source  \\\n",
       "0  Infoserv LLC\\nData Scientist\\nRemote\\nEmployer...  glassdoor   \n",
       "1  ExxonMobil\\n3.1\\nData Scientist\\nClinton, NJ\\n...  glassdoor   \n",
       "2  eBay Inc.\\n4.1\\nData Scientist/Applied Researc...  glassdoor   \n",
       "3  TikTok\\n3.7\\nData Scientist, University Gradua...  glassdoor   \n",
       "4  Mastercard\\n4.3\\nData Scientist, AI Services -...  glassdoor   \n",
       "\n",
       "        job_title            label  \n",
       "0  Data Scientist  job_description  \n",
       "1  Data Scientist  job_description  \n",
       "2  Data Scientist  job_description  \n",
       "3  Data Scientist  job_description  \n",
       "4  Data Scientist  job_description  "
      ]
     },
     "execution_count": 40,
     "metadata": {},
     "output_type": "execute_result"
    }
   ],
   "source": [
    "emails = all_datsaset.copy()\n",
    "emails.head()"
   ]
  },
  {
   "cell_type": "markdown",
   "metadata": {},
   "source": [
    "## Remove punctuation and stopwords"
   ]
  },
  {
   "cell_type": "code",
   "execution_count": 41,
   "metadata": {},
   "outputs": [],
   "source": [
    "def remove_punct(text):\n",
    "    \"\"\"\n",
    "    Remove punctuation from text\n",
    "    input: text\n",
    "    output: text\n",
    "    \"\"\"\n",
    "    text_tok = word_tokenize(text)\n",
    "    l=[]\n",
    "    for word in text_tok:\n",
    "        if not word in string.punctuation:\n",
    "            l.append(word)\n",
    "    resultat=\" \".join(l)        \n",
    "    return resultat"
   ]
  },
  {
   "cell_type": "code",
   "execution_count": 42,
   "metadata": {},
   "outputs": [
    {
     "name": "stderr",
     "output_type": "stream",
     "text": [
      "<ipython-input-42-e35d8b89af52>:1: UserWarning: Pandas doesn't allow columns to be created via a new attribute name - see https://pandas.pydata.org/pandas-docs/stable/indexing.html#attribute-access\n",
      "  emails.Body_doc = emails.Content.apply(remove_punct)\n"
     ]
    }
   ],
   "source": [
    "emails.Body_doc = emails.Content.apply(remove_punct)"
   ]
  },
  {
   "cell_type": "code",
   "execution_count": 43,
   "metadata": {},
   "outputs": [],
   "source": [
    "def remove_stopword(text):\n",
    "    stop=set(stopwords.words('english'))\n",
    "    text_tok = word_tokenize(text)\n",
    "    l=[]\n",
    "    for word in text_tok:\n",
    "        if not word in stop:\n",
    "            l.append(word)\n",
    "    resultat=\" \".join(l) \n",
    "    return resultat"
   ]
  },
  {
   "cell_type": "code",
   "execution_count": 44,
   "metadata": {},
   "outputs": [],
   "source": [
    "emails.Body_doc = emails.Body_doc.apply(remove_stopword)"
   ]
  },
  {
   "cell_type": "markdown",
   "metadata": {},
   "source": [
    "## Tokenization with NLTK Word Tokenize\n",
    "* Tokenisation is the process of breaking up a given text into units called tokens. \n",
    "* Tokens can be individual words, phrases or even whole sentences.\n",
    "* A MWETokenizer takes a string and merges multi-word expressions into single tokens, using a lexicon of MWEs."
   ]
  },
  {
   "cell_type": "code",
   "execution_count": 45,
   "metadata": {},
   "outputs": [],
   "source": [
    "def tokenizer(text):\n",
    "    tokenizer = MWETokenizer([('Machine', 'Learning'), ('Data','Scientist'),('Data','Engineer'),('Data','Analyst'),\n",
    "                              ('Cloud','Computing'),('Artificial','Intelligence'),('Business','Managers'),\n",
    "                             ('Big', 'Data'),('Big', 'Data','Developer'),('Data','Driven'),('Big','Query'),('data','lake'),\n",
    "                             ('data','sources'),('job','description')],separator=' ')\n",
    "    for t in sent_tokenize(text):\n",
    "        x=tokenizer.tokenize(t.split())\n",
    "    return(x)"
   ]
  },
  {
   "cell_type": "code",
   "execution_count": 46,
   "metadata": {},
   "outputs": [],
   "source": [
    "emails.Body_doc = emails.Body_doc.apply(tokenizer)"
   ]
  },
  {
   "cell_type": "markdown",
   "metadata": {},
   "source": [
    "## Lemmatization\n",
    "Lemmatization is the process where we take individual tokens from a sentence and we try to reduce them to their base form. "
   ]
  },
  {
   "cell_type": "code",
   "execution_count": 47,
   "metadata": {},
   "outputs": [],
   "source": [
    "lemmatizer=WordNetLemmatizer()"
   ]
  },
  {
   "cell_type": "code",
   "execution_count": 48,
   "metadata": {},
   "outputs": [],
   "source": [
    "def lemm(text):\n",
    "#     text_tok = word_tokenize(text)\n",
    "    l=[]\n",
    "    for word in text:\n",
    "        l.append(lemmatizer.lemmatize(word))\n",
    "    resultat=\" \".join(l) \n",
    "    return resultat"
   ]
  },
  {
   "cell_type": "code",
   "execution_count": 49,
   "metadata": {},
   "outputs": [],
   "source": [
    "emails.Body_doc = emails.Body_doc.apply(lemm)"
   ]
  },
  {
   "cell_type": "code",
   "execution_count": 50,
   "metadata": {},
   "outputs": [
    {
     "data": {
      "text/plain": [
       "0      Infoserv LLC Data Scientist Remote Employer Pr...\n",
       "1      ExxonMobil 3.1 Data Scientist Clinton NJ 94K 1...\n",
       "2      eBay Inc. 4.1 Data Scientist/Applied Researche...\n",
       "3      TikTok 3.7 Data Scientist University Graduate ...\n",
       "4      Mastercard 4.3 Data Scientist AI Services Mast...\n",
       "                             ...                        \n",
       "416    Subject Full stack Java Developer Atlanta GA| ...\n",
       "417    8/24/22 7:21 PM Gmail Last 100 Seats Remaining...\n",
       "418    Engineer Data Analyst similar role Relevant ba...\n",
       "419    Subject Handshake Following Up Assan SANOGO Fr...\n",
       "420    Subject Fulltime Data Engineer || Dallas TX Re...\n",
       "Name: Content, Length: 2417, dtype: object"
      ]
     },
     "execution_count": 50,
     "metadata": {},
     "output_type": "execute_result"
    }
   ],
   "source": [
    "emails.Body_doc"
   ]
  },
  {
   "cell_type": "code",
   "execution_count": 51,
   "metadata": {},
   "outputs": [],
   "source": [
    "def sep(text):\n",
    "    r=text.replace('/',' ') \n",
    "    return r"
   ]
  },
  {
   "cell_type": "code",
   "execution_count": 52,
   "metadata": {},
   "outputs": [],
   "source": [
    "emails.Body_doc = emails.Body_doc.apply(sep)"
   ]
  },
  {
   "cell_type": "code",
   "execution_count": 53,
   "metadata": {},
   "outputs": [
    {
     "data": {
      "text/plain": [
       "0      Infoserv LLC Data Scientist Remote Employer Pr...\n",
       "1      ExxonMobil 3.1 Data Scientist Clinton NJ 94K 1...\n",
       "2      eBay Inc. 4.1 Data Scientist Applied Researche...\n",
       "3      TikTok 3.7 Data Scientist University Graduate ...\n",
       "4      Mastercard 4.3 Data Scientist AI Services Mast...\n",
       "                             ...                        \n",
       "416    Subject Full stack Java Developer Atlanta GA| ...\n",
       "417    8 24 22 7:21 PM Gmail Last 100 Seats Remaining...\n",
       "418    Engineer Data Analyst similar role Relevant ba...\n",
       "419    Subject Handshake Following Up Assan SANOGO Fr...\n",
       "420    Subject Fulltime Data Engineer || Dallas TX Re...\n",
       "Name: Content, Length: 2417, dtype: object"
      ]
     },
     "execution_count": 53,
     "metadata": {},
     "output_type": "execute_result"
    }
   ],
   "source": [
    "emails.Body_doc"
   ]
  },
  {
   "cell_type": "markdown",
   "metadata": {},
   "source": [
    "### SpaCy Tokenizer\n",
    "With spacy tokenization we don't have to remove punctuation or any other cleannings. It handle all the stuff"
   ]
  },
  {
   "cell_type": "code",
   "execution_count": 54,
   "metadata": {},
   "outputs": [],
   "source": [
    "nlp=spacy.load('en_core_web_sm')"
   ]
  },
  {
   "cell_type": "code",
   "execution_count": 55,
   "metadata": {},
   "outputs": [],
   "source": [
    "def nlp_spacy(text): \n",
    "    return nlp(text)\n"
   ]
  },
  {
   "cell_type": "code",
   "execution_count": 56,
   "metadata": {},
   "outputs": [],
   "source": [
    "emails['Body_doc1']=emails.Content.apply(nlp_spacy)"
   ]
  },
  {
   "cell_type": "code",
   "execution_count": 57,
   "metadata": {},
   "outputs": [
    {
     "data": {
      "text/plain": [
       "0    (Infoserv, LLC, \\n, Data, Scientist, \\n, Remot...\n",
       "0    (Teknic, \\n, Data, Engineer, \\n, Remote, \\n\\n ...\n",
       "0    (WeLoveNoCode, \\n, 4.5, \\n, Data, Analyst, \\n,...\n",
       "0    (Datrageekz, LLC, \\n, Big, Data, Developer, \\n...\n",
       "0    (Ginko, The, company, \\n\\n, At, Ginko, ,, we, ...\n",
       "Name: Body_doc1, dtype: object"
      ]
     },
     "execution_count": 57,
     "metadata": {},
     "output_type": "execute_result"
    }
   ],
   "source": [
    "emails.Body_doc1[0]"
   ]
  },
  {
   "cell_type": "code",
   "execution_count": 58,
   "metadata": {},
   "outputs": [],
   "source": [
    "# emails['Body_doc1']"
   ]
  },
  {
   "cell_type": "code",
   "execution_count": 59,
   "metadata": {},
   "outputs": [],
   "source": [
    "def no_ent(doc):\n",
    "    r= []\n",
    "    ents = [e.text for e in doc.ents]\n",
    "    for item in doc:\n",
    "        if item.text in ents:\n",
    "            pass\n",
    "        else:\n",
    "            r.append(item.text)\n",
    "    return(\" \".join(r))\n"
   ]
  },
  {
   "cell_type": "code",
   "execution_count": 60,
   "metadata": {},
   "outputs": [],
   "source": [
    "emails.Body_doc1=emails.Body_doc1.apply(no_ent)"
   ]
  },
  {
   "cell_type": "code",
   "execution_count": 61,
   "metadata": {},
   "outputs": [
    {
     "name": "stdout",
     "output_type": "stream",
     "text": [
      "0    Infoserv LLC \\n Data Scientist \\n Remote \\n Em...\n",
      "0    Teknic \\n Data Engineer \\n Remote \\n\\n  Role :...\n",
      "0    WeLoveNoCode \\n \\n Data Analyst \\n Remote \\n E...\n",
      "0    Datrageekz LLC \\n Big Data Developer \\n Remote...\n",
      "0    The company \\n\\n At , we are specialists , and...\n",
      "Name: Body_doc1, dtype: object\n"
     ]
    }
   ],
   "source": [
    "print(emails.Body_doc1[0])"
   ]
  },
  {
   "cell_type": "code",
   "execution_count": 62,
   "metadata": {},
   "outputs": [
    {
     "data": {
      "text/html": [
       "<div>\n",
       "<style scoped>\n",
       "    .dataframe tbody tr th:only-of-type {\n",
       "        vertical-align: middle;\n",
       "    }\n",
       "\n",
       "    .dataframe tbody tr th {\n",
       "        vertical-align: top;\n",
       "    }\n",
       "\n",
       "    .dataframe thead th {\n",
       "        text-align: right;\n",
       "    }\n",
       "</style>\n",
       "<table border=\"1\" class=\"dataframe\">\n",
       "  <thead>\n",
       "    <tr style=\"text-align: right;\">\n",
       "      <th></th>\n",
       "      <th>Content</th>\n",
       "      <th>source</th>\n",
       "      <th>job_title</th>\n",
       "      <th>label</th>\n",
       "      <th>Body_doc1</th>\n",
       "    </tr>\n",
       "  </thead>\n",
       "  <tbody>\n",
       "    <tr>\n",
       "      <th>416</th>\n",
       "      <td>Subject: Full stack Java Developer in Atlanta,...</td>\n",
       "      <td>assan</td>\n",
       "      <td>other</td>\n",
       "      <td>other</td>\n",
       "      <td>Subject : Full stack Java Developer in , GA| F...</td>\n",
       "    </tr>\n",
       "    <tr>\n",
       "      <th>417</th>\n",
       "      <td>8/24/22, 7:21 PM\\n\\nGmail - Last 100 Seats Rem...</td>\n",
       "      <td>assan</td>\n",
       "      <td>other</td>\n",
       "      <td>other</td>\n",
       "      <td>, 7:21 PM \\n\\n Gmail - Last Seats Remaining In...</td>\n",
       "    </tr>\n",
       "    <tr>\n",
       "      <th>418</th>\n",
       "      <td>Subject: SENIOR DATA SCIENTIST opening at SHOP...</td>\n",
       "      <td>assan</td>\n",
       "      <td>other</td>\n",
       "      <td>other</td>\n",
       "      <td>Subject : SENIOR DATA SCIENTIST opening at SHO...</td>\n",
       "    </tr>\n",
       "    <tr>\n",
       "      <th>419</th>\n",
       "      <td>Subject: Handshake Following Up | Assan SANOGO...</td>\n",
       "      <td>assan</td>\n",
       "      <td>other</td>\n",
       "      <td>other</td>\n",
       "      <td>Subject : Handshake Following Up | Assan SANOG...</td>\n",
       "    </tr>\n",
       "    <tr>\n",
       "      <th>420</th>\n",
       "      <td>Subject: Fulltime Data Engineer || Dallas, TX ...</td>\n",
       "      <td>assan</td>\n",
       "      <td>Data Engineer</td>\n",
       "      <td>other</td>\n",
       "      <td>Subject : Fulltime Data Engineer || , ( Remote...</td>\n",
       "    </tr>\n",
       "  </tbody>\n",
       "</table>\n",
       "</div>"
      ],
      "text/plain": [
       "                                               Content source      job_title  \\\n",
       "416  Subject: Full stack Java Developer in Atlanta,...  assan          other   \n",
       "417  8/24/22, 7:21 PM\\n\\nGmail - Last 100 Seats Rem...  assan          other   \n",
       "418  Subject: SENIOR DATA SCIENTIST opening at SHOP...  assan          other   \n",
       "419  Subject: Handshake Following Up | Assan SANOGO...  assan          other   \n",
       "420  Subject: Fulltime Data Engineer || Dallas, TX ...  assan  Data Engineer   \n",
       "\n",
       "     label                                          Body_doc1  \n",
       "416  other  Subject : Full stack Java Developer in , GA| F...  \n",
       "417  other  , 7:21 PM \\n\\n Gmail - Last Seats Remaining In...  \n",
       "418  other  Subject : SENIOR DATA SCIENTIST opening at SHO...  \n",
       "419  other  Subject : Handshake Following Up | Assan SANOG...  \n",
       "420  other  Subject : Fulltime Data Engineer || , ( Remote...  "
      ]
     },
     "execution_count": 62,
     "metadata": {},
     "output_type": "execute_result"
    }
   ],
   "source": [
    "emails.tail()"
   ]
  },
  {
   "cell_type": "markdown",
   "metadata": {},
   "source": [
    "# Modelisation"
   ]
  },
  {
   "cell_type": "code",
   "execution_count": 63,
   "metadata": {},
   "outputs": [
    {
     "data": {
      "text/plain": [
       "2417"
      ]
     },
     "execution_count": 63,
     "metadata": {},
     "output_type": "execute_result"
    }
   ],
   "source": [
    "corpus=list(emails['Body_doc1'])\n",
    "len(corpus)"
   ]
  },
  {
   "cell_type": "markdown",
   "metadata": {},
   "source": [
    "### vectorize"
   ]
  },
  {
   "cell_type": "code",
   "execution_count": 64,
   "metadata": {},
   "outputs": [
    {
     "data": {
      "text/html": [
       "<div>\n",
       "<style scoped>\n",
       "    .dataframe tbody tr th:only-of-type {\n",
       "        vertical-align: middle;\n",
       "    }\n",
       "\n",
       "    .dataframe tbody tr th {\n",
       "        vertical-align: top;\n",
       "    }\n",
       "\n",
       "    .dataframe thead th {\n",
       "        text-align: right;\n",
       "    }\n",
       "</style>\n",
       "<table border=\"1\" class=\"dataframe\">\n",
       "  <thead>\n",
       "    <tr style=\"text-align: right;\">\n",
       "      <th></th>\n",
       "      <th>Content</th>\n",
       "      <th>source</th>\n",
       "      <th>job_title</th>\n",
       "      <th>label</th>\n",
       "      <th>Body_doc1</th>\n",
       "    </tr>\n",
       "  </thead>\n",
       "  <tbody>\n",
       "    <tr>\n",
       "      <th>0</th>\n",
       "      <td>Infoserv LLC\\nData Scientist\\nRemote\\nEmployer...</td>\n",
       "      <td>glassdoor</td>\n",
       "      <td>Data Scientist</td>\n",
       "      <td>job_description</td>\n",
       "      <td>Infoserv LLC \\n Data Scientist \\n Remote \\n Em...</td>\n",
       "    </tr>\n",
       "    <tr>\n",
       "      <th>1</th>\n",
       "      <td>ExxonMobil\\n3.1\\nData Scientist\\nClinton, NJ\\n...</td>\n",
       "      <td>glassdoor</td>\n",
       "      <td>Data Scientist</td>\n",
       "      <td>job_description</td>\n",
       "      <td>\\n \\n Data Scientist \\n , NJ \\n $ 94 K - $ 144...</td>\n",
       "    </tr>\n",
       "    <tr>\n",
       "      <th>2</th>\n",
       "      <td>eBay Inc.\\n4.1\\nData Scientist/Applied Researc...</td>\n",
       "      <td>glassdoor</td>\n",
       "      <td>Data Scientist</td>\n",
       "      <td>job_description</td>\n",
       "      <td>Inc. \\n \\n Data Scientist / Applied Researcher...</td>\n",
       "    </tr>\n",
       "    <tr>\n",
       "      <th>3</th>\n",
       "      <td>TikTok\\n3.7\\nData Scientist, University Gradua...</td>\n",
       "      <td>glassdoor</td>\n",
       "      <td>Data Scientist</td>\n",
       "      <td>job_description</td>\n",
       "      <td>\\n \\n Data Scientist , University Graduate - S...</td>\n",
       "    </tr>\n",
       "    <tr>\n",
       "      <th>4</th>\n",
       "      <td>Mastercard\\n4.3\\nData Scientist, AI Services -...</td>\n",
       "      <td>glassdoor</td>\n",
       "      <td>Data Scientist</td>\n",
       "      <td>job_description</td>\n",
       "      <td>\\n \\n Data Scientist , Services - Launch 2023 ...</td>\n",
       "    </tr>\n",
       "    <tr>\n",
       "      <th>...</th>\n",
       "      <td>...</td>\n",
       "      <td>...</td>\n",
       "      <td>...</td>\n",
       "      <td>...</td>\n",
       "      <td>...</td>\n",
       "    </tr>\n",
       "    <tr>\n",
       "      <th>126</th>\n",
       "      <td>TOTAL DIGITAL FACTORY In accordance with the c...</td>\n",
       "      <td>indeed</td>\n",
       "      <td>Data Engineer</td>\n",
       "      <td>job_description</td>\n",
       "      <td>TOTAL FACTORY In accordance with the company '...</td>\n",
       "    </tr>\n",
       "    <tr>\n",
       "      <th>127</th>\n",
       "      <td>RH HUMANISTE RH HUMANISTE, Recruitment Consult...</td>\n",
       "      <td>indeed</td>\n",
       "      <td>Data Engineer</td>\n",
       "      <td>job_description</td>\n",
       "      <td>RH HUMANISTE RH HUMANISTE , Recruitment Consul...</td>\n",
       "    </tr>\n",
       "    <tr>\n",
       "      <th>128</th>\n",
       "      <td>Crédit Agricole CIB Job Description\\nAre you l...</td>\n",
       "      <td>indeed</td>\n",
       "      <td>Data Engineer</td>\n",
       "      <td>job_description</td>\n",
       "      <td>Crédit Agricole CIB Job Description \\n Are you...</td>\n",
       "    </tr>\n",
       "    <tr>\n",
       "      <th>129</th>\n",
       "      <td>Autres Filiales Description of the offer\\nData...</td>\n",
       "      <td>indeed</td>\n",
       "      <td>Data Engineer</td>\n",
       "      <td>job_description</td>\n",
       "      <td>Autres Filiales Description of the offer \\n , ...</td>\n",
       "    </tr>\n",
       "    <tr>\n",
       "      <th>130</th>\n",
       "      <td>Disneyland Paris Here is your chance to live a...</td>\n",
       "      <td>indeed</td>\n",
       "      <td>Data Engineer</td>\n",
       "      <td>job_description</td>\n",
       "      <td>Disneyland Here is your chance to live a uniqu...</td>\n",
       "    </tr>\n",
       "  </tbody>\n",
       "</table>\n",
       "<p>2127 rows × 5 columns</p>\n",
       "</div>"
      ],
      "text/plain": [
       "                                               Content     source  \\\n",
       "0    Infoserv LLC\\nData Scientist\\nRemote\\nEmployer...  glassdoor   \n",
       "1    ExxonMobil\\n3.1\\nData Scientist\\nClinton, NJ\\n...  glassdoor   \n",
       "2    eBay Inc.\\n4.1\\nData Scientist/Applied Researc...  glassdoor   \n",
       "3    TikTok\\n3.7\\nData Scientist, University Gradua...  glassdoor   \n",
       "4    Mastercard\\n4.3\\nData Scientist, AI Services -...  glassdoor   \n",
       "..                                                 ...        ...   \n",
       "126  TOTAL DIGITAL FACTORY In accordance with the c...     indeed   \n",
       "127  RH HUMANISTE RH HUMANISTE, Recruitment Consult...     indeed   \n",
       "128  Crédit Agricole CIB Job Description\\nAre you l...     indeed   \n",
       "129  Autres Filiales Description of the offer\\nData...     indeed   \n",
       "130  Disneyland Paris Here is your chance to live a...     indeed   \n",
       "\n",
       "          job_title            label  \\\n",
       "0    Data Scientist  job_description   \n",
       "1    Data Scientist  job_description   \n",
       "2    Data Scientist  job_description   \n",
       "3    Data Scientist  job_description   \n",
       "4    Data Scientist  job_description   \n",
       "..              ...              ...   \n",
       "126   Data Engineer  job_description   \n",
       "127   Data Engineer  job_description   \n",
       "128   Data Engineer  job_description   \n",
       "129   Data Engineer  job_description   \n",
       "130   Data Engineer  job_description   \n",
       "\n",
       "                                             Body_doc1  \n",
       "0    Infoserv LLC \\n Data Scientist \\n Remote \\n Em...  \n",
       "1    \\n \\n Data Scientist \\n , NJ \\n $ 94 K - $ 144...  \n",
       "2    Inc. \\n \\n Data Scientist / Applied Researcher...  \n",
       "3    \\n \\n Data Scientist , University Graduate - S...  \n",
       "4    \\n \\n Data Scientist , Services - Launch 2023 ...  \n",
       "..                                                 ...  \n",
       "126  TOTAL FACTORY In accordance with the company '...  \n",
       "127  RH HUMANISTE RH HUMANISTE , Recruitment Consul...  \n",
       "128  Crédit Agricole CIB Job Description \\n Are you...  \n",
       "129  Autres Filiales Description of the offer \\n , ...  \n",
       "130  Disneyland Here is your chance to live a uniqu...  \n",
       "\n",
       "[2127 rows x 5 columns]"
      ]
     },
     "execution_count": 64,
     "metadata": {},
     "output_type": "execute_result"
    }
   ],
   "source": [
    "job_description = emails[emails['label']=='job_description']\n",
    "job_description"
   ]
  },
  {
   "cell_type": "code",
   "execution_count": 65,
   "metadata": {},
   "outputs": [
    {
     "data": {
      "text/plain": [
       "array(['Data Scientist', 'Data Engineer', 'Data Analyst',\n",
       "       'Big Data Developer'], dtype=object)"
      ]
     },
     "execution_count": 65,
     "metadata": {},
     "output_type": "execute_result"
    }
   ],
   "source": [
    "job_description['job_title'].unique()"
   ]
  },
  {
   "cell_type": "code",
   "execution_count": 66,
   "metadata": {},
   "outputs": [],
   "source": [
    "X_Data = job_description[\"Body_doc1\"]\n",
    "Y_Data = job_description[\"job_title\"]\n",
    "\n",
    "cv = CountVectorizer()\n",
    "X_Data = cv.fit_transform(X_Data)"
   ]
  },
  {
   "cell_type": "markdown",
   "metadata": {},
   "source": [
    "### Train test split"
   ]
  },
  {
   "cell_type": "code",
   "execution_count": 67,
   "metadata": {},
   "outputs": [],
   "source": [
    "X_Train, X_Test, Y_Train, Y_Test = train_test_split(X_Data, Y_Data,test_size=0.3,random_state=101)"
   ]
  },
  {
   "cell_type": "markdown",
   "metadata": {},
   "source": [
    "### Model fitting"
   ]
  },
  {
   "cell_type": "code",
   "execution_count": 68,
   "metadata": {},
   "outputs": [],
   "source": [
    "# from sklearn.externals import joblib\n",
    "# import sklearn.external.joblib as extjoblib\n",
    "import joblib"
   ]
  },
  {
   "cell_type": "code",
   "execution_count": 69,
   "metadata": {},
   "outputs": [
    {
     "data": {
      "text/plain": [
       "DecisionTreeClassifier()"
      ]
     },
     "execution_count": 69,
     "metadata": {},
     "output_type": "execute_result"
    }
   ],
   "source": [
    "model = tree.DecisionTreeClassifier()\n",
    "model.fit(X_Train,Y_Train)"
   ]
  },
  {
   "cell_type": "markdown",
   "metadata": {},
   "source": [
    "### Prediction"
   ]
  },
  {
   "cell_type": "code",
   "execution_count": 70,
   "metadata": {},
   "outputs": [
    {
     "name": "stdout",
     "output_type": "stream",
     "text": [
      "                    precision    recall  f1-score   support\n",
      "\n",
      "Big Data Developer       0.94      0.99      0.97       156\n",
      "      Data Analyst       0.99      0.99      0.99       181\n",
      "     Data Engineer       0.97      0.94      0.95       140\n",
      "    Data Scientist       0.99      0.98      0.98       162\n",
      "\n",
      "          accuracy                           0.97       639\n",
      "         macro avg       0.97      0.97      0.97       639\n",
      "      weighted avg       0.98      0.97      0.97       639\n",
      "\n"
     ]
    }
   ],
   "source": [
    "predicted = model.predict(X_Test)\n",
    "print(classification_report(Y_Test, predicted))"
   ]
  },
  {
   "cell_type": "code",
   "execution_count": 71,
   "metadata": {},
   "outputs": [
    {
     "data": {
      "text/plain": [
       "0.9919354838709677"
      ]
     },
     "execution_count": 71,
     "metadata": {},
     "output_type": "execute_result"
    }
   ],
   "source": [
    "model.score(X_Train,Y_Train)"
   ]
  },
  {
   "cell_type": "code",
   "execution_count": 72,
   "metadata": {},
   "outputs": [
    {
     "data": {
      "text/plain": [
       "0.974960876369327"
      ]
     },
     "execution_count": 72,
     "metadata": {},
     "output_type": "execute_result"
    }
   ],
   "source": [
    "model.score(X_Test,Y_Test)"
   ]
  },
  {
   "cell_type": "code",
   "execution_count": 73,
   "metadata": {},
   "outputs": [
    {
     "data": {
      "text/plain": [
       "0      Big Data Developer\n",
       "1          Data Scientist\n",
       "2      Big Data Developer\n",
       "3           Data Engineer\n",
       "4            Data Analyst\n",
       "              ...        \n",
       "634    Big Data Developer\n",
       "635    Big Data Developer\n",
       "636          Data Analyst\n",
       "637        Data Scientist\n",
       "638          Data Analyst\n",
       "Length: 639, dtype: object"
      ]
     },
     "execution_count": 73,
     "metadata": {},
     "output_type": "execute_result"
    }
   ],
   "source": [
    "pd.Series(predicted)"
   ]
  },
  {
   "cell_type": "code",
   "execution_count": 74,
   "metadata": {},
   "outputs": [],
   "source": [
    "results = Y_Test.copy()\n",
    "results.reset_index(drop=True, inplace=True)\n",
    "# results['predicted'] =pd.Series(predicted)\n",
    "results = results.to_list()\n",
    "predicted =pd.Series(predicted).to_list()"
   ]
  },
  {
   "cell_type": "code",
   "execution_count": 75,
   "metadata": {},
   "outputs": [
    {
     "data": {
      "text/plain": [
       "['model.joblib']"
      ]
     },
     "execution_count": 75,
     "metadata": {},
     "output_type": "execute_result"
    }
   ],
   "source": [
    "joblib.dump(model, 'model.joblib')"
   ]
  },
  {
   "cell_type": "code",
   "execution_count": 76,
   "metadata": {},
   "outputs": [
    {
     "data": {
      "text/html": [
       "<div>\n",
       "<style scoped>\n",
       "    .dataframe tbody tr th:only-of-type {\n",
       "        vertical-align: middle;\n",
       "    }\n",
       "\n",
       "    .dataframe tbody tr th {\n",
       "        vertical-align: top;\n",
       "    }\n",
       "\n",
       "    .dataframe thead th {\n",
       "        text-align: right;\n",
       "    }\n",
       "</style>\n",
       "<table border=\"1\" class=\"dataframe\">\n",
       "  <thead>\n",
       "    <tr style=\"text-align: right;\">\n",
       "      <th></th>\n",
       "      <th>predicted</th>\n",
       "      <th>test</th>\n",
       "    </tr>\n",
       "  </thead>\n",
       "  <tbody>\n",
       "    <tr>\n",
       "      <th>0</th>\n",
       "      <td>Big Data Developer</td>\n",
       "      <td>Big Data Developer</td>\n",
       "    </tr>\n",
       "    <tr>\n",
       "      <th>1</th>\n",
       "      <td>Data Scientist</td>\n",
       "      <td>Data Scientist</td>\n",
       "    </tr>\n",
       "    <tr>\n",
       "      <th>2</th>\n",
       "      <td>Big Data Developer</td>\n",
       "      <td>Big Data Developer</td>\n",
       "    </tr>\n",
       "    <tr>\n",
       "      <th>3</th>\n",
       "      <td>Data Engineer</td>\n",
       "      <td>Data Engineer</td>\n",
       "    </tr>\n",
       "    <tr>\n",
       "      <th>4</th>\n",
       "      <td>Data Analyst</td>\n",
       "      <td>Data Analyst</td>\n",
       "    </tr>\n",
       "    <tr>\n",
       "      <th>...</th>\n",
       "      <td>...</td>\n",
       "      <td>...</td>\n",
       "    </tr>\n",
       "    <tr>\n",
       "      <th>634</th>\n",
       "      <td>Big Data Developer</td>\n",
       "      <td>Big Data Developer</td>\n",
       "    </tr>\n",
       "    <tr>\n",
       "      <th>635</th>\n",
       "      <td>Big Data Developer</td>\n",
       "      <td>Big Data Developer</td>\n",
       "    </tr>\n",
       "    <tr>\n",
       "      <th>636</th>\n",
       "      <td>Data Analyst</td>\n",
       "      <td>Data Analyst</td>\n",
       "    </tr>\n",
       "    <tr>\n",
       "      <th>637</th>\n",
       "      <td>Data Scientist</td>\n",
       "      <td>Data Scientist</td>\n",
       "    </tr>\n",
       "    <tr>\n",
       "      <th>638</th>\n",
       "      <td>Data Analyst</td>\n",
       "      <td>Data Analyst</td>\n",
       "    </tr>\n",
       "  </tbody>\n",
       "</table>\n",
       "<p>639 rows × 2 columns</p>\n",
       "</div>"
      ],
      "text/plain": [
       "              predicted                test\n",
       "0    Big Data Developer  Big Data Developer\n",
       "1        Data Scientist      Data Scientist\n",
       "2    Big Data Developer  Big Data Developer\n",
       "3         Data Engineer       Data Engineer\n",
       "4          Data Analyst        Data Analyst\n",
       "..                  ...                 ...\n",
       "634  Big Data Developer  Big Data Developer\n",
       "635  Big Data Developer  Big Data Developer\n",
       "636        Data Analyst        Data Analyst\n",
       "637      Data Scientist      Data Scientist\n",
       "638        Data Analyst        Data Analyst\n",
       "\n",
       "[639 rows x 2 columns]"
      ]
     },
     "execution_count": 76,
     "metadata": {},
     "output_type": "execute_result"
    }
   ],
   "source": [
    "datares = pd.DataFrame(zip(predicted,results),columns=[\"predicted\",\"test\"])\n",
    "datares"
   ]
  },
  {
   "cell_type": "markdown",
   "metadata": {},
   "source": [
    "https://github.com/bellabie/spacy-tf-idf/blob/master/tf-idf.py"
   ]
  },
  {
   "cell_type": "markdown",
   "metadata": {},
   "source": [
    "https://www.kaggle.com/code/sanabdriss/nlp-extract-skills-from-job-descriptions/notebook    \n",
    "https://medium.com/@Olohireme/job-skills-extraction-from-data-science-job-posts-38fd58b94675   \n"
   ]
  },
  {
   "cell_type": "code",
   "execution_count": 77,
   "metadata": {},
   "outputs": [],
   "source": [
    "# !pip install dtreeviz\n",
    "# from dtreeviz.trees import dtreeviz\n"
   ]
  },
  {
   "cell_type": "code",
   "execution_count": 78,
   "metadata": {},
   "outputs": [],
   "source": [
    "# lab = cv.fit_transform(Y_Train)\n",
    "# lab"
   ]
  },
  {
   "cell_type": "code",
   "execution_count": 79,
   "metadata": {},
   "outputs": [],
   "source": [
    "# vis = dtreeviz(model,X_Train,lab,target_name='job_type')"
   ]
  },
  {
   "cell_type": "code",
   "execution_count": null,
   "metadata": {},
   "outputs": [],
   "source": []
  }
 ],
 "metadata": {
  "kernelspec": {
   "display_name": "Python 3",
   "language": "python",
   "name": "python3"
  },
  "language_info": {
   "codemirror_mode": {
    "name": "ipython",
    "version": 3
   },
   "file_extension": ".py",
   "mimetype": "text/x-python",
   "name": "python",
   "nbconvert_exporter": "python",
   "pygments_lexer": "ipython3",
   "version": "3.8.8"
  }
 },
 "nbformat": 4,
 "nbformat_minor": 4
}
