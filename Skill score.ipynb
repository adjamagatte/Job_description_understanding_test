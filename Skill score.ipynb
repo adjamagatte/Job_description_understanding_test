{
 "cells": [
  {
   "cell_type": "code",
   "execution_count": 8,
   "id": "56f297a6-1658-4a5e-81e0-5e79633948cc",
   "metadata": {},
   "outputs": [],
   "source": [
    "# !pip install streamlit\n",
    "# !streamlit hello"
   ]
  },
  {
   "cell_type": "code",
   "execution_count": 10,
   "id": "3d8544a6-5fdc-443f-b87b-23e4ffeedccd",
   "metadata": {},
   "outputs": [],
   "source": [
    "import streamlit as st\n",
    "header = st.container()\n",
    "with header:\n",
    "    st.title('Skill Extraction with LSTM')\n",
    "    st.text('A machine learning model to extract skills from job descriptions.')\n",
    "    st.text('You can use it by typing a job description or pasting one from your favourite job board.')\n",
    "\n",
    "with st.form(key='my_form'):\n",
    "    desc = st.text_area(label='Enter a Job Description', height=300)\n",
    "    submit = st.form_submit_button(label='Submit')\n",
    "    if submit:\n",
    "        skills = get_predictions(desc)\n",
    "        st.caption(f'Here are your skills')\n",
    "        st.table(skills)"
   ]
  },
  {
   "cell_type": "code",
   "execution_count": null,
   "id": "5ee17bb9-c291-4892-a628-54b91d8c5e56",
   "metadata": {},
   "outputs": [],
   "source": []
  }
 ],
 "metadata": {
  "kernelspec": {
   "display_name": "Python 3",
   "language": "python",
   "name": "python3"
  },
  "language_info": {
   "codemirror_mode": {
    "name": "ipython",
    "version": 3
   },
   "file_extension": ".py",
   "mimetype": "text/x-python",
   "name": "python",
   "nbconvert_exporter": "python",
   "pygments_lexer": "ipython3",
   "version": "3.8.8"
  }
 },
 "nbformat": 4,
 "nbformat_minor": 5
}
