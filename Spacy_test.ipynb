{
 "cells": [
  {
   "cell_type": "markdown",
   "id": "e9f66e4c-a14b-4eed-a549-857c047252ca",
   "metadata": {},
   "source": [
    "# Librairies"
   ]
  },
  {
   "cell_type": "code",
   "execution_count": 1,
   "id": "436b5c1e-3333-478d-8652-69ca285dce20",
   "metadata": {},
   "outputs": [],
   "source": [
    "import pandas as pd\n",
    "import numpy as np\n",
    "import matplotlib.pyplot as plt\n",
    "import seaborn as sns\n",
    "import string\n",
    "from collections import Counter\n",
    "import spacy\n",
    "from spacy import displacy\n",
    "import nltk\n",
    "from nltk.corpus import stopwords\n",
    "from nltk import sent_tokenize \n",
    "from nltk.tokenize import word_tokenize,MWETokenizer \n",
    "\n",
    "from sklearn.feature_extraction.text import CountVectorizer\n",
    "from sklearn.feature_extraction.text import TfidfTransformer\n",
    "from sklearn.model_selection import train_test_split\n",
    "from sklearn.metrics import confusion_matrix, classification_report\n"
   ]
  },
  {
   "cell_type": "code",
   "execution_count": 2,
   "id": "a243f8da-218f-4fc9-bb7b-ac94c6245858",
   "metadata": {},
   "outputs": [],
   "source": [
    "# df=pd.read_csv('data/emails.csv')\n",
    "# # df_class.drop('Unnamed: 0',inplace=True, axis=1)"
   ]
  },
  {
   "cell_type": "code",
   "execution_count": 3,
   "id": "64d54f29-23b7-42fa-8dcf-d47a25842dd5",
   "metadata": {},
   "outputs": [
    {
     "data": {
      "text/html": [
       "<div>\n",
       "<style scoped>\n",
       "    .dataframe tbody tr th:only-of-type {\n",
       "        vertical-align: middle;\n",
       "    }\n",
       "\n",
       "    .dataframe tbody tr th {\n",
       "        vertical-align: top;\n",
       "    }\n",
       "\n",
       "    .dataframe thead th {\n",
       "        text-align: right;\n",
       "    }\n",
       "</style>\n",
       "<table border=\"1\" class=\"dataframe\">\n",
       "  <thead>\n",
       "    <tr style=\"text-align: right;\">\n",
       "      <th></th>\n",
       "      <th>index</th>\n",
       "      <th>Content</th>\n",
       "      <th>source</th>\n",
       "      <th>label1</th>\n",
       "      <th>label2</th>\n",
       "    </tr>\n",
       "  </thead>\n",
       "  <tbody>\n",
       "    <tr>\n",
       "      <th>0</th>\n",
       "      <td>0</td>\n",
       "      <td>Ginko The company\\n\\nAt Ginko, we are Digital ...</td>\n",
       "      <td>indeed</td>\n",
       "      <td>job_opp</td>\n",
       "      <td>data_engineer</td>\n",
       "    </tr>\n",
       "    <tr>\n",
       "      <th>1</th>\n",
       "      <td>1</td>\n",
       "      <td>Nexity Company Description\\n\\n1st platform of ...</td>\n",
       "      <td>indeed</td>\n",
       "      <td>job_opp</td>\n",
       "      <td>data_engineer</td>\n",
       "    </tr>\n",
       "    <tr>\n",
       "      <th>2</th>\n",
       "      <td>2</td>\n",
       "      <td>42c Who are we ?\\nIn agile mode, we provide an...</td>\n",
       "      <td>indeed</td>\n",
       "      <td>job_opp</td>\n",
       "      <td>data_engineer</td>\n",
       "    </tr>\n",
       "    <tr>\n",
       "      <th>3</th>\n",
       "      <td>3</td>\n",
       "      <td>RS2i Who are we ?\\nAt RS2i, we are committed t...</td>\n",
       "      <td>indeed</td>\n",
       "      <td>job_opp</td>\n",
       "      <td>data_engineer</td>\n",
       "    </tr>\n",
       "    <tr>\n",
       "      <th>4</th>\n",
       "      <td>4</td>\n",
       "      <td>McKinsey &amp; Company Who You'll Work With\\nBased...</td>\n",
       "      <td>indeed</td>\n",
       "      <td>job_opp</td>\n",
       "      <td>data_engineer</td>\n",
       "    </tr>\n",
       "  </tbody>\n",
       "</table>\n",
       "</div>"
      ],
      "text/plain": [
       "   index                                            Content  source   label1  \\\n",
       "0      0  Ginko The company\\n\\nAt Ginko, we are Digital ...  indeed  job_opp   \n",
       "1      1  Nexity Company Description\\n\\n1st platform of ...  indeed  job_opp   \n",
       "2      2  42c Who are we ?\\nIn agile mode, we provide an...  indeed  job_opp   \n",
       "3      3  RS2i Who are we ?\\nAt RS2i, we are committed t...  indeed  job_opp   \n",
       "4      4  McKinsey & Company Who You'll Work With\\nBased...  indeed  job_opp   \n",
       "\n",
       "          label2  \n",
       "0  data_engineer  \n",
       "1  data_engineer  \n",
       "2  data_engineer  \n",
       "3  data_engineer  \n",
       "4  data_engineer  "
      ]
     },
     "execution_count": 3,
     "metadata": {},
     "output_type": "execute_result"
    }
   ],
   "source": [
    "df=pd.read_csv('data/job_emails1.csv')\n",
    "df.head()"
   ]
  },
  {
   "cell_type": "markdown",
   "id": "b80fed1a-fa3c-4f35-bb37-1135b4f6e4f8",
   "metadata": {},
   "source": [
    "# Data Cleaning"
   ]
  },
  {
   "cell_type": "code",
   "execution_count": 4,
   "id": "6242ea00-dd5b-4a50-9ce3-11b0638c2f22",
   "metadata": {},
   "outputs": [
    {
     "data": {
      "text/plain": [
       "index       0\n",
       "Content     0\n",
       "source      0\n",
       "label1      0\n",
       "label2     89\n",
       "dtype: int64"
      ]
     },
     "execution_count": 4,
     "metadata": {},
     "output_type": "execute_result"
    }
   ],
   "source": [
    "df[df['source']=='assan'].isnull().sum()"
   ]
  },
  {
   "cell_type": "code",
   "execution_count": 5,
   "id": "3bb2b993-e206-472f-af43-8da5ab625dc5",
   "metadata": {},
   "outputs": [
    {
     "data": {
      "text/plain": [
       "index      0\n",
       "Content    0\n",
       "source     0\n",
       "label1     0\n",
       "label2     0\n",
       "dtype: int64"
      ]
     },
     "execution_count": 5,
     "metadata": {},
     "output_type": "execute_result"
    }
   ],
   "source": [
    "df[df['source']=='indeed'].isnull().sum()"
   ]
  },
  {
   "cell_type": "code",
   "execution_count": 6,
   "id": "8b517fbd-17c3-4d57-b5be-b13597574847",
   "metadata": {},
   "outputs": [
    {
     "data": {
      "text/plain": [
       "index        0\n",
       "Content      0\n",
       "source       0\n",
       "label1     150\n",
       "label2     150\n",
       "dtype: int64"
      ]
     },
     "execution_count": 6,
     "metadata": {},
     "output_type": "execute_result"
    }
   ],
   "source": [
    "df[df['source']=='kaggle'].isnull().sum()"
   ]
  },
  {
   "cell_type": "code",
   "execution_count": 7,
   "id": "14259856-2903-4f06-8701-3ae8781e280f",
   "metadata": {},
   "outputs": [
    {
     "data": {
      "text/plain": [
       "index        0\n",
       "Content      0\n",
       "source       0\n",
       "label1     150\n",
       "label2     239\n",
       "dtype: int64"
      ]
     },
     "execution_count": 7,
     "metadata": {},
     "output_type": "execute_result"
    }
   ],
   "source": [
    "df.isnull().sum()"
   ]
  },
  {
   "cell_type": "code",
   "execution_count": 8,
   "id": "234becd5-b499-4d04-856b-92c693fa2e6f",
   "metadata": {},
   "outputs": [
    {
     "data": {
      "text/html": [
       "<div>\n",
       "<style scoped>\n",
       "    .dataframe tbody tr th:only-of-type {\n",
       "        vertical-align: middle;\n",
       "    }\n",
       "\n",
       "    .dataframe tbody tr th {\n",
       "        vertical-align: top;\n",
       "    }\n",
       "\n",
       "    .dataframe thead th {\n",
       "        text-align: right;\n",
       "    }\n",
       "</style>\n",
       "<table border=\"1\" class=\"dataframe\">\n",
       "  <thead>\n",
       "    <tr style=\"text-align: right;\">\n",
       "      <th></th>\n",
       "      <th>index</th>\n",
       "      <th>Content</th>\n",
       "      <th>source</th>\n",
       "      <th>label1</th>\n",
       "      <th>label2</th>\n",
       "    </tr>\n",
       "  </thead>\n",
       "  <tbody>\n",
       "    <tr>\n",
       "      <th>131</th>\n",
       "      <td>131</td>\n",
       "      <td>Message-ID: &lt;18782981.1075855378110.JavaMail.e...</td>\n",
       "      <td>kaggle</td>\n",
       "      <td>NaN</td>\n",
       "      <td>NaN</td>\n",
       "    </tr>\n",
       "    <tr>\n",
       "      <th>132</th>\n",
       "      <td>132</td>\n",
       "      <td>Message-ID: &lt;15464986.1075855378456.JavaMail.e...</td>\n",
       "      <td>kaggle</td>\n",
       "      <td>NaN</td>\n",
       "      <td>NaN</td>\n",
       "    </tr>\n",
       "    <tr>\n",
       "      <th>133</th>\n",
       "      <td>133</td>\n",
       "      <td>Message-ID: &lt;24216240.1075855687451.JavaMail.e...</td>\n",
       "      <td>kaggle</td>\n",
       "      <td>NaN</td>\n",
       "      <td>NaN</td>\n",
       "    </tr>\n",
       "    <tr>\n",
       "      <th>134</th>\n",
       "      <td>134</td>\n",
       "      <td>Message-ID: &lt;13505866.1075863688222.JavaMail.e...</td>\n",
       "      <td>kaggle</td>\n",
       "      <td>NaN</td>\n",
       "      <td>NaN</td>\n",
       "    </tr>\n",
       "    <tr>\n",
       "      <th>135</th>\n",
       "      <td>135</td>\n",
       "      <td>Message-ID: &lt;30922949.1075863688243.JavaMail.e...</td>\n",
       "      <td>kaggle</td>\n",
       "      <td>NaN</td>\n",
       "      <td>NaN</td>\n",
       "    </tr>\n",
       "    <tr>\n",
       "      <th>...</th>\n",
       "      <td>...</td>\n",
       "      <td>...</td>\n",
       "      <td>...</td>\n",
       "      <td>...</td>\n",
       "      <td>...</td>\n",
       "    </tr>\n",
       "    <tr>\n",
       "      <th>414</th>\n",
       "      <td>414</td>\n",
       "      <td>Subject: Eurofins USA BioPharma Services is hi...</td>\n",
       "      <td>assan</td>\n",
       "      <td>alert</td>\n",
       "      <td>NaN</td>\n",
       "    </tr>\n",
       "    <tr>\n",
       "      <th>415</th>\n",
       "      <td>415</td>\n",
       "      <td>Subject: Your application for Lead Data Scient...</td>\n",
       "      <td>assan</td>\n",
       "      <td>applied</td>\n",
       "      <td>NaN</td>\n",
       "    </tr>\n",
       "    <tr>\n",
       "      <th>417</th>\n",
       "      <td>417</td>\n",
       "      <td>8/24/22, 7:21 PM\\n\\nGmail - Last 100 Seats Rem...</td>\n",
       "      <td>assan</td>\n",
       "      <td>other</td>\n",
       "      <td>NaN</td>\n",
       "    </tr>\n",
       "    <tr>\n",
       "      <th>418</th>\n",
       "      <td>418</td>\n",
       "      <td>Subject: SENIOR DATA SCIENTIST opening at SHOP...</td>\n",
       "      <td>assan</td>\n",
       "      <td>alert</td>\n",
       "      <td>NaN</td>\n",
       "    </tr>\n",
       "    <tr>\n",
       "      <th>419</th>\n",
       "      <td>419</td>\n",
       "      <td>Subject: Handshake Following Up | Assan SANOGO...</td>\n",
       "      <td>assan</td>\n",
       "      <td>other</td>\n",
       "      <td>NaN</td>\n",
       "    </tr>\n",
       "  </tbody>\n",
       "</table>\n",
       "<p>239 rows × 5 columns</p>\n",
       "</div>"
      ],
      "text/plain": [
       "     index                                            Content  source  \\\n",
       "131    131  Message-ID: <18782981.1075855378110.JavaMail.e...  kaggle   \n",
       "132    132  Message-ID: <15464986.1075855378456.JavaMail.e...  kaggle   \n",
       "133    133  Message-ID: <24216240.1075855687451.JavaMail.e...  kaggle   \n",
       "134    134  Message-ID: <13505866.1075863688222.JavaMail.e...  kaggle   \n",
       "135    135  Message-ID: <30922949.1075863688243.JavaMail.e...  kaggle   \n",
       "..     ...                                                ...     ...   \n",
       "414    414  Subject: Eurofins USA BioPharma Services is hi...   assan   \n",
       "415    415  Subject: Your application for Lead Data Scient...   assan   \n",
       "417    417  8/24/22, 7:21 PM\\n\\nGmail - Last 100 Seats Rem...   assan   \n",
       "418    418  Subject: SENIOR DATA SCIENTIST opening at SHOP...   assan   \n",
       "419    419  Subject: Handshake Following Up | Assan SANOGO...   assan   \n",
       "\n",
       "      label1 label2  \n",
       "131      NaN    NaN  \n",
       "132      NaN    NaN  \n",
       "133      NaN    NaN  \n",
       "134      NaN    NaN  \n",
       "135      NaN    NaN  \n",
       "..       ...    ...  \n",
       "414    alert    NaN  \n",
       "415  applied    NaN  \n",
       "417    other    NaN  \n",
       "418    alert    NaN  \n",
       "419    other    NaN  \n",
       "\n",
       "[239 rows x 5 columns]"
      ]
     },
     "execution_count": 8,
     "metadata": {},
     "output_type": "execute_result"
    }
   ],
   "source": [
    "na_values = df[df.isnull().any(axis=1)]\n",
    "na_values"
   ]
  },
  {
   "cell_type": "code",
   "execution_count": 9,
   "id": "52e2e60b-3175-439a-acba-75d70d8f5710",
   "metadata": {},
   "outputs": [
    {
     "name": "stdout",
     "output_type": "stream",
     "text": [
      "150 239\n"
     ]
    }
   ],
   "source": [
    "print(na_values['label1'].isnull().sum(),na_values['label2'].isnull().sum())"
   ]
  },
  {
   "cell_type": "code",
   "execution_count": null,
   "id": "f523bf99-b873-49b3-9d06-dc8032ff6601",
   "metadata": {},
   "outputs": [],
   "source": []
  },
  {
   "cell_type": "code",
   "execution_count": 10,
   "id": "568a2b35-ec0b-4a5f-85ee-8d79e13853fa",
   "metadata": {},
   "outputs": [
    {
     "data": {
      "text/plain": [
       "array(['job_opp', nan, 'alert', 'other', 'missing', 'link', 'applied'],\n",
       "      dtype=object)"
      ]
     },
     "execution_count": 10,
     "metadata": {},
     "output_type": "execute_result"
    }
   ],
   "source": [
    "df['label1'].unique()"
   ]
  },
  {
   "cell_type": "code",
   "execution_count": 11,
   "id": "3804f8d7-8763-4cb4-bfe2-37e504537dce",
   "metadata": {},
   "outputs": [],
   "source": [
    "def process_emails_type(label):\n",
    "#     label = label.lower()\n",
    "    if label =='job_opp':\n",
    "        label = 'job_opp'\n",
    "    elif label == 'alert':\n",
    "        label = 'alert'\n",
    "    else:\n",
    "        label = 'other'\n",
    "    return (label)"
   ]
  },
  {
   "cell_type": "code",
   "execution_count": 12,
   "id": "458d54ab-8926-4a15-8e78-b1098732504a",
   "metadata": {},
   "outputs": [],
   "source": [
    "df['label'] = df['label1'].apply(process_emails_type)"
   ]
  },
  {
   "cell_type": "code",
   "execution_count": 13,
   "id": "657f99dd-75d4-4094-b0e5-453003967f9f",
   "metadata": {},
   "outputs": [
    {
     "data": {
      "text/plain": [
       "other      193\n",
       "job_opp    181\n",
       "alert       47\n",
       "Name: label, dtype: int64"
      ]
     },
     "execution_count": 13,
     "metadata": {},
     "output_type": "execute_result"
    }
   ],
   "source": [
    "df['label'].value_counts()"
   ]
  },
  {
   "cell_type": "code",
   "execution_count": 14,
   "id": "6db583f2-60be-44c9-98b3-deb3b139226e",
   "metadata": {},
   "outputs": [
    {
     "data": {
      "text/plain": [
       "kaggle    150\n",
       "assan     140\n",
       "indeed    131\n",
       "Name: source, dtype: int64"
      ]
     },
     "execution_count": 14,
     "metadata": {},
     "output_type": "execute_result"
    }
   ],
   "source": [
    "df['source'].value_counts()"
   ]
  },
  {
   "cell_type": "markdown",
   "id": "ca074cab-0817-49fe-8822-413bceecbf00",
   "metadata": {},
   "source": [
    "# Remove punctuation and stop words\n",
    "Stopwords include: I, he, she, and, but, was were, being, have, etc, which do not add meaning to the data. So these words must be removed which helps to reduce the features from our data. These are removed after tokenizing the text."
   ]
  },
  {
   "cell_type": "code",
   "execution_count": 16,
   "id": "4ad8683d-d534-4904-8cd3-b604d24ef7ad",
   "metadata": {},
   "outputs": [
    {
     "data": {
      "text/plain": [
       "'!\"#$%&\\'()*+,-./:;<=>?@[\\\\]^_`{|}~'"
      ]
     },
     "execution_count": 16,
     "metadata": {},
     "output_type": "execute_result"
    }
   ],
   "source": [
    "string.punctuation"
   ]
  },
  {
   "cell_type": "code",
   "execution_count": 17,
   "id": "88fb0932-892d-421c-b943-7e74d76e49a4",
   "metadata": {},
   "outputs": [],
   "source": [
    "# text_tok = word_tokenize(df.Body_doc[0])"
   ]
  },
  {
   "cell_type": "code",
   "execution_count": 18,
   "id": "7abbb66e-4ed7-4462-89d0-03362221f5a7",
   "metadata": {},
   "outputs": [],
   "source": [
    "def remove_punct(text):\n",
    "    \"\"\"\n",
    "    Remove punctuation from text\n",
    "    input: text\n",
    "    output: text\n",
    "    \"\"\"\n",
    "    text_tok = word_tokenize(text)\n",
    "    l=[]\n",
    "    for word in text_tok:\n",
    "        if not word in (string.punctuation):\n",
    "            l.append(word)\n",
    "    return l"
   ]
  },
  {
   "cell_type": "code",
   "execution_count": 20,
   "id": "d4a325fc-657a-46f1-80d4-9f46c4664175",
   "metadata": {},
   "outputs": [
    {
     "name": "stderr",
     "output_type": "stream",
     "text": [
      "<ipython-input-20-693afd7c7c57>:1: UserWarning: Pandas doesn't allow columns to be created via a new attribute name - see https://pandas.pydata.org/pandas-docs/stable/indexing.html#attribute-access\n",
      "  df.Body_doc = df.Content.apply(remove_punct)\n"
     ]
    }
   ],
   "source": [
    "df.Body_doc = df.Content.apply(remove_punct)"
   ]
  },
  {
   "cell_type": "code",
   "execution_count": 21,
   "id": "59efd259-4899-404c-88b3-bd87f27cf0c0",
   "metadata": {},
   "outputs": [
    {
     "data": {
      "text/plain": [
       "0      [Ginko, The, company, At, Ginko, we, are, Digi...\n",
       "1      [Nexity, Company, Description, 1st, platform, ...\n",
       "2      [42c, Who, are, we, In, agile, mode, we, provi...\n",
       "3      [RS2i, Who, are, we, At, RS2i, we, are, commit...\n",
       "4      [McKinsey, Company, Who, You, 'll, Work, With,...\n",
       "                             ...                        \n",
       "416    [Subject, Full, stack, Java, Developer, in, At...\n",
       "417    [8/24/22, 7:21, PM, Gmail, Last, 100, Seats, R...\n",
       "418    [Subject, SENIOR, DATA, SCIENTIST, opening, at...\n",
       "419    [Subject, Handshake, Following, Up, Assan, SAN...\n",
       "420    [Subject, Fulltime, Data, Engineer, ||, Dallas...\n",
       "Name: Content, Length: 421, dtype: object"
      ]
     },
     "execution_count": 21,
     "metadata": {},
     "output_type": "execute_result"
    }
   ],
   "source": [
    "df.Body_doc"
   ]
  },
  {
   "cell_type": "code",
   "execution_count": 22,
   "id": "4414dfb9-43ab-40da-a5d4-adf24649b116",
   "metadata": {},
   "outputs": [],
   "source": [
    "def remove_stopword(text):\n",
    "    stop=set(stopwords.words('english'))\n",
    "#     text_tok = word_tokenize(text)\n",
    "    l=[]\n",
    "    for word in text:\n",
    "        if not word in stop:\n",
    "            l.append(word)\n",
    "    resultat=\" \".join(l) \n",
    "    return resultat"
   ]
  },
  {
   "cell_type": "code",
   "execution_count": 23,
   "id": "5b1a71f4-e310-4a78-8a0e-716dec37193b",
   "metadata": {},
   "outputs": [],
   "source": [
    "df.Body_doc = df.Body_doc.apply(remove_stopword)"
   ]
  },
  {
   "cell_type": "code",
   "execution_count": 24,
   "id": "63281e78-4320-42c9-8725-d574c8348709",
   "metadata": {},
   "outputs": [
    {
     "data": {
      "text/plain": [
       "0      Ginko The company At Ginko Digital specialists...\n",
       "1      Nexity Company Description 1st platform real e...\n",
       "2      42c Who In agile mode provide answers expectat...\n",
       "3      RS2i Who At RS2i committed achieving digital t...\n",
       "4      McKinsey Company Who You 'll Work With Based P...\n",
       "                             ...                        \n",
       "416    Subject Full stack Java Developer Atlanta GA| ...\n",
       "417    8/24/22 7:21 PM Gmail Last 100 Seats Remaining...\n",
       "418    Subject SENIOR DATA SCIENTIST opening SHOPIFY ...\n",
       "419    Subject Handshake Following Up Assan SANOGO Fr...\n",
       "420    Subject Fulltime Data Engineer || Dallas TX Re...\n",
       "Name: Content, Length: 421, dtype: object"
      ]
     },
     "execution_count": 24,
     "metadata": {},
     "output_type": "execute_result"
    }
   ],
   "source": [
    "df.Body_doc"
   ]
  },
  {
   "cell_type": "markdown",
   "id": "0146d7bf-78b9-4a3a-be49-f411653d97e7",
   "metadata": {},
   "source": [
    "# Tokenization with  spacy"
   ]
  },
  {
   "cell_type": "code",
   "execution_count": 25,
   "id": "6132c4e6-ac22-4351-91f2-728431dfe80a",
   "metadata": {},
   "outputs": [],
   "source": [
    "nlp = spacy.load('en_core_web_md')\n",
    "# tokens = nlp(words)"
   ]
  },
  {
   "cell_type": "code",
   "execution_count": 26,
   "id": "567ba4bd-d485-4881-861a-7633717f2167",
   "metadata": {},
   "outputs": [],
   "source": [
    "def nlp_spacy(text):\n",
    "    tokens=[]\n",
    "    entities=[]\n",
    "    for sentence in range(len(text)):\n",
    "        resultat=nlp(text[sentence])\n",
    "        entity = resultat.ents\n",
    "        tokens.append(resultat) \n",
    "        entities.append(entity) \n",
    "    \n",
    "    return tokens,entities"
   ]
  },
  {
   "cell_type": "code",
   "execution_count": 27,
   "id": "61c2da08-35ab-4348-8f0d-52adc1190d6e",
   "metadata": {},
   "outputs": [],
   "source": [
    "tokens,entitie = nlp_spacy(df.Body_doc)"
   ]
  },
  {
   "cell_type": "code",
   "execution_count": 36,
   "id": "bd426f93-fa09-4651-9f93-e9b7ac704c80",
   "metadata": {},
   "outputs": [
    {
     "data": {
      "text/plain": [
       "(181, 6)"
      ]
     },
     "execution_count": 36,
     "metadata": {},
     "output_type": "execute_result"
    }
   ],
   "source": [
    "job_description = df[df['label1']== 'job_opp']\n",
    "job_description.shape"
   ]
  },
  {
   "cell_type": "code",
   "execution_count": 40,
   "id": "133385fb-26d2-4e84-89e0-b7caf23ae0e2",
   "metadata": {},
   "outputs": [
    {
     "name": "stdout",
     "output_type": "stream",
     "text": [
      "                   precision    recall  f1-score   support\n",
      "\n",
      "Bigdata Developer       0.00      0.00      0.00         1\n",
      "    data_engineer       0.96      1.00      0.98        43\n",
      "   data_scientist       1.00      0.14      0.25         7\n",
      "             link       0.00      0.00      0.00         0\n",
      "            other       0.38      0.75      0.50         4\n",
      "\n",
      "         accuracy                           0.85        55\n",
      "        macro avg       0.47      0.38      0.35        55\n",
      "     weighted avg       0.90      0.85      0.83        55\n",
      "\n"
     ]
    },
    {
     "name": "stderr",
     "output_type": "stream",
     "text": [
      "C:\\Users\\user\\anaconda3\\lib\\site-packages\\sklearn\\metrics\\_classification.py:1245: UndefinedMetricWarning: Precision and F-score are ill-defined and being set to 0.0 in labels with no predicted samples. Use `zero_division` parameter to control this behavior.\n",
      "  _warn_prf(average, modifier, msg_start, len(result))\n",
      "C:\\Users\\user\\anaconda3\\lib\\site-packages\\sklearn\\metrics\\_classification.py:1245: UndefinedMetricWarning: Recall and F-score are ill-defined and being set to 0.0 in labels with no true samples. Use `zero_division` parameter to control this behavior.\n",
      "  _warn_prf(average, modifier, msg_start, len(result))\n",
      "C:\\Users\\user\\anaconda3\\lib\\site-packages\\sklearn\\metrics\\_classification.py:1245: UndefinedMetricWarning: Precision and F-score are ill-defined and being set to 0.0 in labels with no predicted samples. Use `zero_division` parameter to control this behavior.\n",
      "  _warn_prf(average, modifier, msg_start, len(result))\n",
      "C:\\Users\\user\\anaconda3\\lib\\site-packages\\sklearn\\metrics\\_classification.py:1245: UndefinedMetricWarning: Recall and F-score are ill-defined and being set to 0.0 in labels with no true samples. Use `zero_division` parameter to control this behavior.\n",
      "  _warn_prf(average, modifier, msg_start, len(result))\n",
      "C:\\Users\\user\\anaconda3\\lib\\site-packages\\sklearn\\metrics\\_classification.py:1245: UndefinedMetricWarning: Precision and F-score are ill-defined and being set to 0.0 in labels with no predicted samples. Use `zero_division` parameter to control this behavior.\n",
      "  _warn_prf(average, modifier, msg_start, len(result))\n",
      "C:\\Users\\user\\anaconda3\\lib\\site-packages\\sklearn\\metrics\\_classification.py:1245: UndefinedMetricWarning: Recall and F-score are ill-defined and being set to 0.0 in labels with no true samples. Use `zero_division` parameter to control this behavior.\n",
      "  _warn_prf(average, modifier, msg_start, len(result))\n"
     ]
    }
   ],
   "source": [
    "# X_Data = job_description[\"Content\"]\n",
    "# Y_Data = job_description[\"job_title\"]\n",
    "X_Data = job_description[\"Content\"]\n",
    "Y_Data = job_description[\"label2\"]\n",
    "\n",
    "cv = CountVectorizer()\n",
    "X_Data = cv.fit_transform(X_Data)\n",
    "X_Train, X_Test, Y_Train, Y_Test = train_test_split(X_Data, Y_Data,test_size=0.3,random_state=101)\n",
    "model = tree.DecisionTreeClassifier()\n",
    "model.fit(X_Train,Y_Train)\n",
    "predicted = model.predict(X_Test)\n",
    "print(classification_report(Y_Test, predicted))"
   ]
  },
  {
   "cell_type": "code",
   "execution_count": 43,
   "id": "7364f77f-93bc-4e84-9def-ab0c9db20854",
   "metadata": {},
   "outputs": [],
   "source": [
    "# tree.plot_tree(model)"
   ]
  },
  {
   "cell_type": "code",
   "execution_count": null,
   "id": "1b925dff-e214-4bc3-be8f-d8b8d9918017",
   "metadata": {},
   "outputs": [],
   "source": []
  }
 ],
 "metadata": {
  "kernelspec": {
   "display_name": "Python 3",
   "language": "python",
   "name": "python3"
  },
  "language_info": {
   "codemirror_mode": {
    "name": "ipython",
    "version": 3
   },
   "file_extension": ".py",
   "mimetype": "text/x-python",
   "name": "python",
   "nbconvert_exporter": "python",
   "pygments_lexer": "ipython3",
   "version": "3.8.8"
  }
 },
 "nbformat": 4,
 "nbformat_minor": 5
}
