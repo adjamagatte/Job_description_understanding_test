{
 "cells": [
  {
   "cell_type": "markdown",
   "id": "b38c12c8-06bd-489d-921d-343fe21f01ce",
   "metadata": {},
   "source": [
    "# Preprocessing of Kaggle,Glassdoor and Assan's data"
   ]
  },
  {
   "cell_type": "code",
   "execution_count": 82,
   "id": "6c2662aa-9f28-41ce-b505-42e54e2998e7",
   "metadata": {},
   "outputs": [],
   "source": [
    "import pandas as pd\n",
    "import numpy as np\n",
    "import matplotlib.pyplot as plt\n",
    "import seaborn as sns\n",
    "import re\n",
    "import spacy\n",
    "# initializing Stop words libraries\n",
    "# nltk.download('stopwords')\n",
    "from nltk.corpus import stopwords\n",
    "stop_words = set(stopwords.words('english'))\n",
    "import en_core_web_sm"
   ]
  },
  {
   "cell_type": "markdown",
   "id": "4ee4f8ea-963f-4dd2-8c4b-a743c852fa1f",
   "metadata": {},
   "source": [
    "## Read and print the data"
   ]
  },
  {
   "cell_type": "code",
   "execution_count": 2,
   "id": "acbd8acc-400c-44b7-a78f-0d6eae2507d9",
   "metadata": {},
   "outputs": [],
   "source": [
    "# Function to read and process data from Assan Indeed and Kaggle (job_emails1.csv)\n",
    "def read_data(data):\n",
    "    \"\"\"\n",
    "    Read a csv file, drop the first colonne and return a dataframe\n",
    "    input: csv file\n",
    "    output:dataframe\n",
    "    \"\"\"\n",
    "    df = pd.read_csv(data)\n",
    "    df.drop(df.columns[[0]], axis=1, inplace=True)\n",
    "    df.rename(columns={\"label1\":\"label\",\"label2\":\"job_title\"},inplace=True)\n",
    "    print( \"this dataset is the concatenation of data from Assan, Kaggle and indeed (the source).\")\n",
    "    print(\"It has {} columns and {} rows\".format(df.shape[1],df.shape[0]))\n",
    "    print(\"the {} columns are {}\".format(df.shape[1],df.columns.to_list()))\n",
    "    return df"
   ]
  },
  {
   "cell_type": "code",
   "execution_count": 3,
   "id": "9032da4a-f02b-4881-aaeb-6908b813106a",
   "metadata": {},
   "outputs": [
    {
     "name": "stdout",
     "output_type": "stream",
     "text": [
      "this dataset is the concatenation of data from Assan, Kaggle and indeed (the source).\n",
      "It has 4 columns and 421 rows\n",
      "the 4 columns are ['Content', 'source', 'label', 'job_title']\n"
     ]
    },
    {
     "data": {
      "text/html": [
       "<div>\n",
       "<style scoped>\n",
       "    .dataframe tbody tr th:only-of-type {\n",
       "        vertical-align: middle;\n",
       "    }\n",
       "\n",
       "    .dataframe tbody tr th {\n",
       "        vertical-align: top;\n",
       "    }\n",
       "\n",
       "    .dataframe thead th {\n",
       "        text-align: right;\n",
       "    }\n",
       "</style>\n",
       "<table border=\"1\" class=\"dataframe\">\n",
       "  <thead>\n",
       "    <tr style=\"text-align: right;\">\n",
       "      <th></th>\n",
       "      <th>Content</th>\n",
       "      <th>source</th>\n",
       "      <th>label</th>\n",
       "      <th>job_title</th>\n",
       "    </tr>\n",
       "  </thead>\n",
       "  <tbody>\n",
       "    <tr>\n",
       "      <th>0</th>\n",
       "      <td>Ginko The company\\n\\nAt Ginko, we are Digital ...</td>\n",
       "      <td>indeed</td>\n",
       "      <td>job_opp</td>\n",
       "      <td>data_engineer</td>\n",
       "    </tr>\n",
       "    <tr>\n",
       "      <th>1</th>\n",
       "      <td>Nexity Company Description\\n\\n1st platform of ...</td>\n",
       "      <td>indeed</td>\n",
       "      <td>job_opp</td>\n",
       "      <td>data_engineer</td>\n",
       "    </tr>\n",
       "    <tr>\n",
       "      <th>2</th>\n",
       "      <td>42c Who are we ?\\nIn agile mode, we provide an...</td>\n",
       "      <td>indeed</td>\n",
       "      <td>job_opp</td>\n",
       "      <td>data_engineer</td>\n",
       "    </tr>\n",
       "    <tr>\n",
       "      <th>3</th>\n",
       "      <td>RS2i Who are we ?\\nAt RS2i, we are committed t...</td>\n",
       "      <td>indeed</td>\n",
       "      <td>job_opp</td>\n",
       "      <td>data_engineer</td>\n",
       "    </tr>\n",
       "    <tr>\n",
       "      <th>4</th>\n",
       "      <td>McKinsey &amp; Company Who You'll Work With\\nBased...</td>\n",
       "      <td>indeed</td>\n",
       "      <td>job_opp</td>\n",
       "      <td>data_engineer</td>\n",
       "    </tr>\n",
       "  </tbody>\n",
       "</table>\n",
       "</div>"
      ],
      "text/plain": [
       "                                             Content  source    label  \\\n",
       "0  Ginko The company\\n\\nAt Ginko, we are Digital ...  indeed  job_opp   \n",
       "1  Nexity Company Description\\n\\n1st platform of ...  indeed  job_opp   \n",
       "2  42c Who are we ?\\nIn agile mode, we provide an...  indeed  job_opp   \n",
       "3  RS2i Who are we ?\\nAt RS2i, we are committed t...  indeed  job_opp   \n",
       "4  McKinsey & Company Who You'll Work With\\nBased...  indeed  job_opp   \n",
       "\n",
       "       job_title  \n",
       "0  data_engineer  \n",
       "1  data_engineer  \n",
       "2  data_engineer  \n",
       "3  data_engineer  \n",
       "4  data_engineer  "
      ]
     },
     "execution_count": 3,
     "metadata": {},
     "output_type": "execute_result"
    }
   ],
   "source": [
    "other_data=read_data('data/job_emails1.csv')\n",
    "other_data.head()"
   ]
  },
  {
   "cell_type": "code",
   "execution_count": 4,
   "id": "9aafe09d-7949-45c8-8985-4a6cab37d344",
   "metadata": {},
   "outputs": [],
   "source": [
    "# Function to read and process data from Glassdoor(glassdoor_...csv)\n",
    "def read_label_data(data,job_title,label):\n",
    "    \"\"\"\n",
    "    Read a csv file add columns label and\n",
    "    job_title\n",
    "    input: data\n",
    "    output: dataframe\n",
    "    \"\"\"\n",
    "    df = pd.read_csv(data)\n",
    "    df.drop(df.columns[[0]], axis=1, inplace=True)\n",
    "    df.rename(columns={\"Label\":\"source\"},inplace=True)\n",
    "    df['job_title']=job_title\n",
    "    df['label']= label\n",
    "    print(\"The dataset have {} columns and {} rows\".format(df.shape[1],df.shape[0]))\n",
    "    print(\"the {} columns are {}\".format(df.shape[1],df.columns.to_list()))\n",
    "    return df"
   ]
  },
  {
   "cell_type": "markdown",
   "id": "78c9084a-ed5a-48c4-850a-073cb29c6ae5",
   "metadata": {},
   "source": [
    " Data Scientist data from Glassdoor"
   ]
  },
  {
   "cell_type": "code",
   "execution_count": 5,
   "id": "2c9e236b-2fe4-4f7c-b481-e3d00f90323a",
   "metadata": {},
   "outputs": [
    {
     "name": "stdout",
     "output_type": "stream",
     "text": [
      "The dataset have 4 columns and 550 rows\n",
      "the 4 columns are ['Content', 'source', 'job_title', 'label']\n"
     ]
    },
    {
     "data": {
      "text/html": [
       "<div>\n",
       "<style scoped>\n",
       "    .dataframe tbody tr th:only-of-type {\n",
       "        vertical-align: middle;\n",
       "    }\n",
       "\n",
       "    .dataframe tbody tr th {\n",
       "        vertical-align: top;\n",
       "    }\n",
       "\n",
       "    .dataframe thead th {\n",
       "        text-align: right;\n",
       "    }\n",
       "</style>\n",
       "<table border=\"1\" class=\"dataframe\">\n",
       "  <thead>\n",
       "    <tr style=\"text-align: right;\">\n",
       "      <th></th>\n",
       "      <th>Content</th>\n",
       "      <th>source</th>\n",
       "      <th>job_title</th>\n",
       "      <th>label</th>\n",
       "    </tr>\n",
       "  </thead>\n",
       "  <tbody>\n",
       "    <tr>\n",
       "      <th>0</th>\n",
       "      <td>Infoserv LLC\\nData Scientist\\nRemote\\nEmployer...</td>\n",
       "      <td>glassdoor</td>\n",
       "      <td>Data Scientist</td>\n",
       "      <td>job_description</td>\n",
       "    </tr>\n",
       "    <tr>\n",
       "      <th>1</th>\n",
       "      <td>ExxonMobil\\n3.1\\nData Scientist\\nClinton, NJ\\n...</td>\n",
       "      <td>glassdoor</td>\n",
       "      <td>Data Scientist</td>\n",
       "      <td>job_description</td>\n",
       "    </tr>\n",
       "    <tr>\n",
       "      <th>2</th>\n",
       "      <td>eBay Inc.\\n4.1\\nData Scientist/Applied Researc...</td>\n",
       "      <td>glassdoor</td>\n",
       "      <td>Data Scientist</td>\n",
       "      <td>job_description</td>\n",
       "    </tr>\n",
       "    <tr>\n",
       "      <th>3</th>\n",
       "      <td>TikTok\\n3.7\\nData Scientist, University Gradua...</td>\n",
       "      <td>glassdoor</td>\n",
       "      <td>Data Scientist</td>\n",
       "      <td>job_description</td>\n",
       "    </tr>\n",
       "    <tr>\n",
       "      <th>4</th>\n",
       "      <td>Mastercard\\n4.3\\nData Scientist, AI Services -...</td>\n",
       "      <td>glassdoor</td>\n",
       "      <td>Data Scientist</td>\n",
       "      <td>job_description</td>\n",
       "    </tr>\n",
       "  </tbody>\n",
       "</table>\n",
       "</div>"
      ],
      "text/plain": [
       "                                             Content     source  \\\n",
       "0  Infoserv LLC\\nData Scientist\\nRemote\\nEmployer...  glassdoor   \n",
       "1  ExxonMobil\\n3.1\\nData Scientist\\nClinton, NJ\\n...  glassdoor   \n",
       "2  eBay Inc.\\n4.1\\nData Scientist/Applied Researc...  glassdoor   \n",
       "3  TikTok\\n3.7\\nData Scientist, University Gradua...  glassdoor   \n",
       "4  Mastercard\\n4.3\\nData Scientist, AI Services -...  glassdoor   \n",
       "\n",
       "        job_title            label  \n",
       "0  Data Scientist  job_description  \n",
       "1  Data Scientist  job_description  \n",
       "2  Data Scientist  job_description  \n",
       "3  Data Scientist  job_description  \n",
       "4  Data Scientist  job_description  "
      ]
     },
     "execution_count": 5,
     "metadata": {},
     "output_type": "execute_result"
    }
   ],
   "source": [
    "data_scientist_job=read_label_data('data/glassdoor_data scientist.csv','Data Scientist','job_description')\n",
    "data_scientist_job.head()"
   ]
  },
  {
   "cell_type": "markdown",
   "id": "f6b9e91c-98df-44f1-a927-e9885f9466fb",
   "metadata": {},
   "source": [
    " Data Engineer data from Glassdoor"
   ]
  },
  {
   "cell_type": "code",
   "execution_count": 6,
   "id": "43ef69a6-6116-4e2b-9771-27cccbe2cb25",
   "metadata": {},
   "outputs": [
    {
     "name": "stdout",
     "output_type": "stream",
     "text": [
      "The dataset have 4 columns and 346 rows\n",
      "the 4 columns are ['Content', 'source', 'job_title', 'label']\n"
     ]
    },
    {
     "data": {
      "text/html": [
       "<div>\n",
       "<style scoped>\n",
       "    .dataframe tbody tr th:only-of-type {\n",
       "        vertical-align: middle;\n",
       "    }\n",
       "\n",
       "    .dataframe tbody tr th {\n",
       "        vertical-align: top;\n",
       "    }\n",
       "\n",
       "    .dataframe thead th {\n",
       "        text-align: right;\n",
       "    }\n",
       "</style>\n",
       "<table border=\"1\" class=\"dataframe\">\n",
       "  <thead>\n",
       "    <tr style=\"text-align: right;\">\n",
       "      <th></th>\n",
       "      <th>Content</th>\n",
       "      <th>source</th>\n",
       "      <th>job_title</th>\n",
       "      <th>label</th>\n",
       "    </tr>\n",
       "  </thead>\n",
       "  <tbody>\n",
       "    <tr>\n",
       "      <th>0</th>\n",
       "      <td>Teknic\\nData Engineer\\nRemote\\n\\n Role: Data E...</td>\n",
       "      <td>glassdoor</td>\n",
       "      <td>Data Engineer</td>\n",
       "      <td>job_description</td>\n",
       "    </tr>\n",
       "    <tr>\n",
       "      <th>1</th>\n",
       "      <td>Expression Networks\\n4.4\\nData Engineer\\nRemot...</td>\n",
       "      <td>glassdoor</td>\n",
       "      <td>Data Engineer</td>\n",
       "      <td>job_description</td>\n",
       "    </tr>\n",
       "    <tr>\n",
       "      <th>2</th>\n",
       "      <td>TikTok\\n3.7\\n(HackerRank) Software Engineer, U...</td>\n",
       "      <td>glassdoor</td>\n",
       "      <td>Data Engineer</td>\n",
       "      <td>job_description</td>\n",
       "    </tr>\n",
       "    <tr>\n",
       "      <th>3</th>\n",
       "      <td>Denken Solution's Inc\\nData Engineer\\nCaliforn...</td>\n",
       "      <td>glassdoor</td>\n",
       "      <td>Data Engineer</td>\n",
       "      <td>job_description</td>\n",
       "    </tr>\n",
       "    <tr>\n",
       "      <th>4</th>\n",
       "      <td>Sedna Consulting Group\\n4.1\\nData Engineer\\nRe...</td>\n",
       "      <td>glassdoor</td>\n",
       "      <td>Data Engineer</td>\n",
       "      <td>job_description</td>\n",
       "    </tr>\n",
       "  </tbody>\n",
       "</table>\n",
       "</div>"
      ],
      "text/plain": [
       "                                             Content     source  \\\n",
       "0  Teknic\\nData Engineer\\nRemote\\n\\n Role: Data E...  glassdoor   \n",
       "1  Expression Networks\\n4.4\\nData Engineer\\nRemot...  glassdoor   \n",
       "2  TikTok\\n3.7\\n(HackerRank) Software Engineer, U...  glassdoor   \n",
       "3  Denken Solution's Inc\\nData Engineer\\nCaliforn...  glassdoor   \n",
       "4  Sedna Consulting Group\\n4.1\\nData Engineer\\nRe...  glassdoor   \n",
       "\n",
       "       job_title            label  \n",
       "0  Data Engineer  job_description  \n",
       "1  Data Engineer  job_description  \n",
       "2  Data Engineer  job_description  \n",
       "3  Data Engineer  job_description  \n",
       "4  Data Engineer  job_description  "
      ]
     },
     "execution_count": 6,
     "metadata": {},
     "output_type": "execute_result"
    }
   ],
   "source": [
    "data_engineer_job=read_label_data('data/glassdoor_data engineer.csv','Data Engineer','job_description')\n",
    "data_engineer_job.head()"
   ]
  },
  {
   "cell_type": "markdown",
   "id": "08870c14-d57f-4af5-806b-e342a5ab30d9",
   "metadata": {},
   "source": [
    " Data Analyst data from Glassdoor"
   ]
  },
  {
   "cell_type": "code",
   "execution_count": 7,
   "id": "3a23ec8d-832d-453e-bf09-2347be2ac791",
   "metadata": {},
   "outputs": [
    {
     "name": "stdout",
     "output_type": "stream",
     "text": [
      "The dataset have 4 columns and 550 rows\n",
      "the 4 columns are ['Content', 'source', 'job_title', 'label']\n"
     ]
    },
    {
     "data": {
      "text/html": [
       "<div>\n",
       "<style scoped>\n",
       "    .dataframe tbody tr th:only-of-type {\n",
       "        vertical-align: middle;\n",
       "    }\n",
       "\n",
       "    .dataframe tbody tr th {\n",
       "        vertical-align: top;\n",
       "    }\n",
       "\n",
       "    .dataframe thead th {\n",
       "        text-align: right;\n",
       "    }\n",
       "</style>\n",
       "<table border=\"1\" class=\"dataframe\">\n",
       "  <thead>\n",
       "    <tr style=\"text-align: right;\">\n",
       "      <th></th>\n",
       "      <th>Content</th>\n",
       "      <th>source</th>\n",
       "      <th>job_title</th>\n",
       "      <th>label</th>\n",
       "    </tr>\n",
       "  </thead>\n",
       "  <tbody>\n",
       "    <tr>\n",
       "      <th>0</th>\n",
       "      <td>WeLoveNoCode\\n4.5\\nData Analyst\\nRemote\\nEmplo...</td>\n",
       "      <td>glassdoor</td>\n",
       "      <td>Data Analyst</td>\n",
       "      <td>job_description</td>\n",
       "    </tr>\n",
       "    <tr>\n",
       "      <th>1</th>\n",
       "      <td>Associa\\n4.0\\nData &amp; Reporting Analyst\\nNewark...</td>\n",
       "      <td>glassdoor</td>\n",
       "      <td>Data Analyst</td>\n",
       "      <td>job_description</td>\n",
       "    </tr>\n",
       "    <tr>\n",
       "      <th>2</th>\n",
       "      <td>Net2Aspire\\nJr. Data Analyst\\nRemote\\nEmployer...</td>\n",
       "      <td>glassdoor</td>\n",
       "      <td>Data Analyst</td>\n",
       "      <td>job_description</td>\n",
       "    </tr>\n",
       "    <tr>\n",
       "      <th>3</th>\n",
       "      <td>Siemens\\n4.1\\nData Analyst\\nRemote\\n\\n Positio...</td>\n",
       "      <td>glassdoor</td>\n",
       "      <td>Data Analyst</td>\n",
       "      <td>job_description</td>\n",
       "    </tr>\n",
       "    <tr>\n",
       "      <th>4</th>\n",
       "      <td>Nava\\nData Entry Analyst\\nRemote\\nEmployer Pro...</td>\n",
       "      <td>glassdoor</td>\n",
       "      <td>Data Analyst</td>\n",
       "      <td>job_description</td>\n",
       "    </tr>\n",
       "  </tbody>\n",
       "</table>\n",
       "</div>"
      ],
      "text/plain": [
       "                                             Content     source     job_title  \\\n",
       "0  WeLoveNoCode\\n4.5\\nData Analyst\\nRemote\\nEmplo...  glassdoor  Data Analyst   \n",
       "1  Associa\\n4.0\\nData & Reporting Analyst\\nNewark...  glassdoor  Data Analyst   \n",
       "2  Net2Aspire\\nJr. Data Analyst\\nRemote\\nEmployer...  glassdoor  Data Analyst   \n",
       "3  Siemens\\n4.1\\nData Analyst\\nRemote\\n\\n Positio...  glassdoor  Data Analyst   \n",
       "4  Nava\\nData Entry Analyst\\nRemote\\nEmployer Pro...  glassdoor  Data Analyst   \n",
       "\n",
       "             label  \n",
       "0  job_description  \n",
       "1  job_description  \n",
       "2  job_description  \n",
       "3  job_description  \n",
       "4  job_description  "
      ]
     },
     "execution_count": 7,
     "metadata": {},
     "output_type": "execute_result"
    }
   ],
   "source": [
    "data_analyst_job=read_label_data('data/glassdoor_data analyst.csv','Data Analyst','job_description')\n",
    "data_analyst_job.head()"
   ]
  },
  {
   "cell_type": "markdown",
   "id": "2d3739a1-98e4-405a-a995-b1fb936df56c",
   "metadata": {},
   "source": [
    " Big Data Developer data from Glassdoor"
   ]
  },
  {
   "cell_type": "code",
   "execution_count": 8,
   "id": "246efb45-ec02-4ca7-b1aa-b521ee6c8020",
   "metadata": {},
   "outputs": [
    {
     "name": "stdout",
     "output_type": "stream",
     "text": [
      "The dataset have 4 columns and 550 rows\n",
      "the 4 columns are ['Content', 'source', 'job_title', 'label']\n"
     ]
    },
    {
     "data": {
      "text/html": [
       "<div>\n",
       "<style scoped>\n",
       "    .dataframe tbody tr th:only-of-type {\n",
       "        vertical-align: middle;\n",
       "    }\n",
       "\n",
       "    .dataframe tbody tr th {\n",
       "        vertical-align: top;\n",
       "    }\n",
       "\n",
       "    .dataframe thead th {\n",
       "        text-align: right;\n",
       "    }\n",
       "</style>\n",
       "<table border=\"1\" class=\"dataframe\">\n",
       "  <thead>\n",
       "    <tr style=\"text-align: right;\">\n",
       "      <th></th>\n",
       "      <th>Content</th>\n",
       "      <th>source</th>\n",
       "      <th>job_title</th>\n",
       "      <th>label</th>\n",
       "    </tr>\n",
       "  </thead>\n",
       "  <tbody>\n",
       "    <tr>\n",
       "      <th>0</th>\n",
       "      <td>Datrageekz LLC\\nBig Data Developer\\nRemote\\nEm...</td>\n",
       "      <td>glassdoor</td>\n",
       "      <td>Big Data Developer</td>\n",
       "      <td>job_description</td>\n",
       "    </tr>\n",
       "    <tr>\n",
       "      <th>1</th>\n",
       "      <td>ONE IT CORP\\nBig Data Developer\\nRemote\\nEmplo...</td>\n",
       "      <td>glassdoor</td>\n",
       "      <td>Big Data Developer</td>\n",
       "      <td>job_description</td>\n",
       "    </tr>\n",
       "    <tr>\n",
       "      <th>2</th>\n",
       "      <td>Snappyhires\\n4.7\\nBig Data Developer\\nRemote\\n...</td>\n",
       "      <td>glassdoor</td>\n",
       "      <td>Big Data Developer</td>\n",
       "      <td>job_description</td>\n",
       "    </tr>\n",
       "    <tr>\n",
       "      <th>3</th>\n",
       "      <td>Momentum Recruitment\\nBig Data Engineer\\nRemot...</td>\n",
       "      <td>glassdoor</td>\n",
       "      <td>Big Data Developer</td>\n",
       "      <td>job_description</td>\n",
       "    </tr>\n",
       "    <tr>\n",
       "      <th>4</th>\n",
       "      <td>Brilliant Infotech\\n3.8\\nBig Data Developer\\nR...</td>\n",
       "      <td>glassdoor</td>\n",
       "      <td>Big Data Developer</td>\n",
       "      <td>job_description</td>\n",
       "    </tr>\n",
       "  </tbody>\n",
       "</table>\n",
       "</div>"
      ],
      "text/plain": [
       "                                             Content     source  \\\n",
       "0  Datrageekz LLC\\nBig Data Developer\\nRemote\\nEm...  glassdoor   \n",
       "1  ONE IT CORP\\nBig Data Developer\\nRemote\\nEmplo...  glassdoor   \n",
       "2  Snappyhires\\n4.7\\nBig Data Developer\\nRemote\\n...  glassdoor   \n",
       "3  Momentum Recruitment\\nBig Data Engineer\\nRemot...  glassdoor   \n",
       "4  Brilliant Infotech\\n3.8\\nBig Data Developer\\nR...  glassdoor   \n",
       "\n",
       "            job_title            label  \n",
       "0  Big Data Developer  job_description  \n",
       "1  Big Data Developer  job_description  \n",
       "2  Big Data Developer  job_description  \n",
       "3  Big Data Developer  job_description  \n",
       "4  Big Data Developer  job_description  "
      ]
     },
     "execution_count": 8,
     "metadata": {},
     "output_type": "execute_result"
    }
   ],
   "source": [
    "Big_data_developer_job=read_label_data('data/glassdoor_Big data developer.csv','Big Data Developer','job_description')\n",
    "Big_data_developer_job.head()"
   ]
  },
  {
   "cell_type": "markdown",
   "id": "03702f24-e67e-4798-800a-268f4e769af0",
   "metadata": {},
   "source": [
    "## Preprocessing"
   ]
  },
  {
   "cell_type": "markdown",
   "id": "ec98b2f2-1f41-43ac-8e32-a2bca8c92b9f",
   "metadata": {},
   "source": [
    "### Glassdoor data"
   ]
  },
  {
   "cell_type": "code",
   "execution_count": 9,
   "id": "3cd65a32-cea1-428f-b4db-ec66374b7a49",
   "metadata": {},
   "outputs": [
    {
     "name": "stdout",
     "output_type": "stream",
     "text": [
      "Content      0\n",
      "source       0\n",
      "job_title    0\n",
      "label        0\n",
      "dtype: int64 Content      0\n",
      "source       0\n",
      "job_title    0\n",
      "label        0\n",
      "dtype: int64 Content      0\n",
      "source       0\n",
      "job_title    0\n",
      "label        0\n",
      "dtype: int64 Content      0\n",
      "source       0\n",
      "job_title    0\n",
      "label        0\n",
      "dtype: int64\n"
     ]
    }
   ],
   "source": [
    "print(data_scientist_job.isnull().sum(),\n",
    "      data_engineer_job.isnull().sum(),\n",
    "      data_analyst_job.isnull().sum(),\n",
    "      Big_data_developer_job.isnull().sum())"
   ]
  },
  {
   "cell_type": "markdown",
   "id": "04912d87-bd91-437d-ab9d-a0208c882551",
   "metadata": {},
   "source": [
    "No null values in Glassdoor's data"
   ]
  },
  {
   "cell_type": "code",
   "execution_count": 10,
   "id": "3ead6864-6350-4062-b2e6-d3921a1338a5",
   "metadata": {},
   "outputs": [
    {
     "data": {
      "text/plain": [
       "[['job_description'],\n",
       " ['job_description'],\n",
       " ['job_description'],\n",
       " ['job_description']]"
      ]
     },
     "execution_count": 10,
     "metadata": {},
     "output_type": "execute_result"
    }
   ],
   "source": [
    "[list(data_scientist_job['label'].unique()),\n",
    "list(data_engineer_job['label'].unique()),\n",
    "list( data_analyst_job['label'].unique()),\n",
    "list(Big_data_developer_job['label'].unique())]"
   ]
  },
  {
   "cell_type": "code",
   "execution_count": 11,
   "id": "3f733385-7a3c-4b8b-b73f-7ec722997113",
   "metadata": {},
   "outputs": [
    {
     "data": {
      "text/html": [
       "<div>\n",
       "<style scoped>\n",
       "    .dataframe tbody tr th:only-of-type {\n",
       "        vertical-align: middle;\n",
       "    }\n",
       "\n",
       "    .dataframe tbody tr th {\n",
       "        vertical-align: top;\n",
       "    }\n",
       "\n",
       "    .dataframe thead th {\n",
       "        text-align: right;\n",
       "    }\n",
       "</style>\n",
       "<table border=\"1\" class=\"dataframe\">\n",
       "  <thead>\n",
       "    <tr style=\"text-align: right;\">\n",
       "      <th></th>\n",
       "      <th>Content</th>\n",
       "      <th>source</th>\n",
       "      <th>job_title</th>\n",
       "      <th>label</th>\n",
       "    </tr>\n",
       "  </thead>\n",
       "  <tbody>\n",
       "    <tr>\n",
       "      <th>61</th>\n",
       "      <td>Snapchat\\n4.1\\nData Scientist\\nLos Angeles, CA...</td>\n",
       "      <td>glassdoor</td>\n",
       "      <td>Data Scientist</td>\n",
       "      <td>job_description</td>\n",
       "    </tr>\n",
       "    <tr>\n",
       "      <th>104</th>\n",
       "      <td>MIT\\n4.4\\nData Scientist\\nCambridge, MA\\n$100K...</td>\n",
       "      <td>glassdoor</td>\n",
       "      <td>Data Scientist</td>\n",
       "      <td>job_description</td>\n",
       "    </tr>\n",
       "    <tr>\n",
       "      <th>105</th>\n",
       "      <td>MGA Entertainment\\n2.2\\nData Scientist\\nLos An...</td>\n",
       "      <td>glassdoor</td>\n",
       "      <td>Data Scientist</td>\n",
       "      <td>job_description</td>\n",
       "    </tr>\n",
       "    <tr>\n",
       "      <th>106</th>\n",
       "      <td>The Trade Desk\\n4.2\\nData Scientist I\\nNew Yor...</td>\n",
       "      <td>glassdoor</td>\n",
       "      <td>Data Scientist</td>\n",
       "      <td>job_description</td>\n",
       "    </tr>\n",
       "    <tr>\n",
       "      <th>107</th>\n",
       "      <td>TikTok\\n3.7\\nData Scientist, University Gradua...</td>\n",
       "      <td>glassdoor</td>\n",
       "      <td>Data Scientist</td>\n",
       "      <td>job_description</td>\n",
       "    </tr>\n",
       "    <tr>\n",
       "      <th>...</th>\n",
       "      <td>...</td>\n",
       "      <td>...</td>\n",
       "      <td>...</td>\n",
       "      <td>...</td>\n",
       "    </tr>\n",
       "    <tr>\n",
       "      <th>544</th>\n",
       "      <td>Roku\\n4.4\\nData Scientist, Analytics\\nSan Jose...</td>\n",
       "      <td>glassdoor</td>\n",
       "      <td>Data Scientist</td>\n",
       "      <td>job_description</td>\n",
       "    </tr>\n",
       "    <tr>\n",
       "      <th>545</th>\n",
       "      <td>Williams Sonoma\\n3.2\\nData Scientist, Analytic...</td>\n",
       "      <td>glassdoor</td>\n",
       "      <td>Data Scientist</td>\n",
       "      <td>job_description</td>\n",
       "    </tr>\n",
       "    <tr>\n",
       "      <th>546</th>\n",
       "      <td>Yelp\\n3.5\\nData Scientist (Remote)\\nRemote\\nEm...</td>\n",
       "      <td>glassdoor</td>\n",
       "      <td>Data Scientist</td>\n",
       "      <td>job_description</td>\n",
       "    </tr>\n",
       "    <tr>\n",
       "      <th>547</th>\n",
       "      <td>Kirti Services\\nData Scientist\\nRemote\\nEmploy...</td>\n",
       "      <td>glassdoor</td>\n",
       "      <td>Data Scientist</td>\n",
       "      <td>job_description</td>\n",
       "    </tr>\n",
       "    <tr>\n",
       "      <th>549</th>\n",
       "      <td>Notion\\n4.9\\nData Scientist, Product\\nSan Fran...</td>\n",
       "      <td>glassdoor</td>\n",
       "      <td>Data Scientist</td>\n",
       "      <td>job_description</td>\n",
       "    </tr>\n",
       "  </tbody>\n",
       "</table>\n",
       "<p>388 rows × 4 columns</p>\n",
       "</div>"
      ],
      "text/plain": [
       "                                               Content     source  \\\n",
       "61   Snapchat\\n4.1\\nData Scientist\\nLos Angeles, CA...  glassdoor   \n",
       "104  MIT\\n4.4\\nData Scientist\\nCambridge, MA\\n$100K...  glassdoor   \n",
       "105  MGA Entertainment\\n2.2\\nData Scientist\\nLos An...  glassdoor   \n",
       "106  The Trade Desk\\n4.2\\nData Scientist I\\nNew Yor...  glassdoor   \n",
       "107  TikTok\\n3.7\\nData Scientist, University Gradua...  glassdoor   \n",
       "..                                                 ...        ...   \n",
       "544  Roku\\n4.4\\nData Scientist, Analytics\\nSan Jose...  glassdoor   \n",
       "545  Williams Sonoma\\n3.2\\nData Scientist, Analytic...  glassdoor   \n",
       "546  Yelp\\n3.5\\nData Scientist (Remote)\\nRemote\\nEm...  glassdoor   \n",
       "547  Kirti Services\\nData Scientist\\nRemote\\nEmploy...  glassdoor   \n",
       "549  Notion\\n4.9\\nData Scientist, Product\\nSan Fran...  glassdoor   \n",
       "\n",
       "          job_title            label  \n",
       "61   Data Scientist  job_description  \n",
       "104  Data Scientist  job_description  \n",
       "105  Data Scientist  job_description  \n",
       "106  Data Scientist  job_description  \n",
       "107  Data Scientist  job_description  \n",
       "..              ...              ...  \n",
       "544  Data Scientist  job_description  \n",
       "545  Data Scientist  job_description  \n",
       "546  Data Scientist  job_description  \n",
       "547  Data Scientist  job_description  \n",
       "549  Data Scientist  job_description  \n",
       "\n",
       "[388 rows x 4 columns]"
      ]
     },
     "execution_count": 11,
     "metadata": {},
     "output_type": "execute_result"
    }
   ],
   "source": [
    "data_scientist_job[data_scientist_job.duplicated()]"
   ]
  },
  {
   "cell_type": "markdown",
   "id": "bfb22f56-7deb-4538-9290-a4dbc675b32c",
   "metadata": {},
   "source": [
    "Only Job description data in Glassdoor's data"
   ]
  },
  {
   "cell_type": "markdown",
   "id": "4c0096d9-75b0-4404-946d-27ee3e77458f",
   "metadata": {},
   "source": [
    "### Assan, kaggle and indeed data"
   ]
  },
  {
   "cell_type": "code",
   "execution_count": 12,
   "id": "73a04b5e-eb1c-4cdc-b6fb-c91ee5fe81ec",
   "metadata": {},
   "outputs": [
    {
     "data": {
      "text/plain": [
       "kaggle    150\n",
       "assan     140\n",
       "indeed    131\n",
       "Name: source, dtype: int64"
      ]
     },
     "execution_count": 12,
     "metadata": {},
     "output_type": "execute_result"
    }
   ],
   "source": [
    "other_data['source'].value_counts()"
   ]
  },
  {
   "cell_type": "code",
   "execution_count": 13,
   "id": "74f27b4c-64bc-4f42-95cf-de3c0041056f",
   "metadata": {},
   "outputs": [
    {
     "data": {
      "text/plain": [
       "0"
      ]
     },
     "execution_count": 13,
     "metadata": {},
     "output_type": "execute_result"
    }
   ],
   "source": [
    "other_data['source'].isnull().sum()"
   ]
  },
  {
   "cell_type": "markdown",
   "id": "790de36b-02a5-40e7-8295-cadf875d0a14",
   "metadata": {},
   "source": [
    "For this model, we're only interested on job description data(Assan and indeed)"
   ]
  },
  {
   "cell_type": "markdown",
   "id": "f3eed820-fc28-47e3-bfa1-e9a5750ce0b3",
   "metadata": {},
   "source": [
    "* Label data from Indeed\n",
    "    - we know that: data from indeed are data engineer's job description\n",
    " "
   ]
  },
  {
   "cell_type": "code",
   "execution_count": 14,
   "id": "0a76015c-579b-4236-b9e4-57f5b434ddbf",
   "metadata": {},
   "outputs": [],
   "source": [
    "mask1 = other_data['source']=='indeed'\n",
    "mask1\n",
    "other_data.loc[mask1, 'label'] = 'job_description'\n",
    "other_data.loc[mask1, 'job_title'] = 'Data Engineer'"
   ]
  },
  {
   "cell_type": "code",
   "execution_count": 15,
   "id": "e8b44c65-7041-4e1c-8a11-25a1dd4d1c40",
   "metadata": {},
   "outputs": [
    {
     "name": "stdout",
     "output_type": "stream",
     "text": [
      "Data Engineer    131\n",
      "Name: job_title, dtype: int64 \n",
      "\n",
      " job_description    131\n",
      "Name: label, dtype: int64\n"
     ]
    }
   ],
   "source": [
    "print(other_data.loc[mask1, 'job_title'].value_counts(dropna=False),\"\\n\\n\",\n",
    "other_data.loc[mask1, 'label'].value_counts(dropna=False))"
   ]
  },
  {
   "cell_type": "code",
   "execution_count": 16,
   "id": "5a39be08-0acf-4c13-8f69-1bbba47321b0",
   "metadata": {},
   "outputs": [
    {
     "data": {
      "text/html": [
       "<div>\n",
       "<style scoped>\n",
       "    .dataframe tbody tr th:only-of-type {\n",
       "        vertical-align: middle;\n",
       "    }\n",
       "\n",
       "    .dataframe tbody tr th {\n",
       "        vertical-align: top;\n",
       "    }\n",
       "\n",
       "    .dataframe thead th {\n",
       "        text-align: right;\n",
       "    }\n",
       "</style>\n",
       "<table border=\"1\" class=\"dataframe\">\n",
       "  <thead>\n",
       "    <tr style=\"text-align: right;\">\n",
       "      <th></th>\n",
       "      <th>Content</th>\n",
       "      <th>source</th>\n",
       "      <th>label</th>\n",
       "      <th>job_title</th>\n",
       "    </tr>\n",
       "  </thead>\n",
       "  <tbody>\n",
       "    <tr>\n",
       "      <th>0</th>\n",
       "      <td>Ginko The company\\n\\nAt Ginko, we are Digital ...</td>\n",
       "      <td>indeed</td>\n",
       "      <td>job_description</td>\n",
       "      <td>Data Engineer</td>\n",
       "    </tr>\n",
       "    <tr>\n",
       "      <th>1</th>\n",
       "      <td>Nexity Company Description\\n\\n1st platform of ...</td>\n",
       "      <td>indeed</td>\n",
       "      <td>job_description</td>\n",
       "      <td>Data Engineer</td>\n",
       "    </tr>\n",
       "    <tr>\n",
       "      <th>2</th>\n",
       "      <td>42c Who are we ?\\nIn agile mode, we provide an...</td>\n",
       "      <td>indeed</td>\n",
       "      <td>job_description</td>\n",
       "      <td>Data Engineer</td>\n",
       "    </tr>\n",
       "    <tr>\n",
       "      <th>3</th>\n",
       "      <td>RS2i Who are we ?\\nAt RS2i, we are committed t...</td>\n",
       "      <td>indeed</td>\n",
       "      <td>job_description</td>\n",
       "      <td>Data Engineer</td>\n",
       "    </tr>\n",
       "    <tr>\n",
       "      <th>4</th>\n",
       "      <td>McKinsey &amp; Company Who You'll Work With\\nBased...</td>\n",
       "      <td>indeed</td>\n",
       "      <td>job_description</td>\n",
       "      <td>Data Engineer</td>\n",
       "    </tr>\n",
       "  </tbody>\n",
       "</table>\n",
       "</div>"
      ],
      "text/plain": [
       "                                             Content  source            label  \\\n",
       "0  Ginko The company\\n\\nAt Ginko, we are Digital ...  indeed  job_description   \n",
       "1  Nexity Company Description\\n\\n1st platform of ...  indeed  job_description   \n",
       "2  42c Who are we ?\\nIn agile mode, we provide an...  indeed  job_description   \n",
       "3  RS2i Who are we ?\\nAt RS2i, we are committed t...  indeed  job_description   \n",
       "4  McKinsey & Company Who You'll Work With\\nBased...  indeed  job_description   \n",
       "\n",
       "       job_title  \n",
       "0  Data Engineer  \n",
       "1  Data Engineer  \n",
       "2  Data Engineer  \n",
       "3  Data Engineer  \n",
       "4  Data Engineer  "
      ]
     },
     "execution_count": 16,
     "metadata": {},
     "output_type": "execute_result"
    }
   ],
   "source": [
    "indeed_data = other_data[other_data['source']=='indeed']\n",
    "indeed_data.head()"
   ]
  },
  {
   "cell_type": "code",
   "execution_count": 17,
   "id": "fdb406bd-7797-4fee-91bc-4587916cb536",
   "metadata": {},
   "outputs": [
    {
     "name": "stdout",
     "output_type": "stream",
     "text": [
      "<class 'pandas.core.frame.DataFrame'>\n",
      "Int64Index: 131 entries, 0 to 130\n",
      "Data columns (total 4 columns):\n",
      " #   Column     Non-Null Count  Dtype \n",
      "---  ------     --------------  ----- \n",
      " 0   Content    131 non-null    object\n",
      " 1   source     131 non-null    object\n",
      " 2   label      131 non-null    object\n",
      " 3   job_title  131 non-null    object\n",
      "dtypes: object(4)\n",
      "memory usage: 5.1+ KB\n"
     ]
    }
   ],
   "source": [
    "indeed_data.info()"
   ]
  },
  {
   "cell_type": "markdown",
   "id": "73e4453d-e993-46d4-8c4e-a28b5f437251",
   "metadata": {},
   "source": [
    "* Label data from Assan \n",
    "    - we're only interested on data which have label job_opp    \n",
    "    - All job_opp will become job_description\n",
    "    - we'll process job_title column to have: Data Scientist,Data Engineer,\n",
    "    Big Data Developer and other\n",
    "    "
   ]
  },
  {
   "cell_type": "code",
   "execution_count": 18,
   "id": "5cc2d266-dc20-47af-ae8e-37f5a0b3553e",
   "metadata": {},
   "outputs": [],
   "source": [
    "mask_assan= other_data['source']=='assan'"
   ]
  },
  {
   "cell_type": "code",
   "execution_count": 19,
   "id": "dcfd926b-e8e5-48b2-8722-a87825942079",
   "metadata": {},
   "outputs": [],
   "source": [
    "Assan_data =  other_data.loc[mask_assan]\n",
    "# Assan_data.head()"
   ]
  },
  {
   "cell_type": "code",
   "execution_count": 20,
   "id": "1cb1e63e-484c-4a23-a301-79f9c0f5bac0",
   "metadata": {},
   "outputs": [
    {
     "data": {
      "text/plain": [
       "job_opp    50\n",
       "alert      47\n",
       "other      34\n",
       "missing     7\n",
       "applied     1\n",
       "link        1\n",
       "Name: label, dtype: int64"
      ]
     },
     "execution_count": 20,
     "metadata": {},
     "output_type": "execute_result"
    }
   ],
   "source": [
    "Assan_data['label'].value_counts(dropna=False)"
   ]
  },
  {
   "cell_type": "markdown",
   "id": "3416a921-585f-426e-b74a-8dfdb74a0661",
   "metadata": {},
   "source": [
    "- we're only interested on data which have label job_opp  "
   ]
  },
  {
   "cell_type": "code",
   "execution_count": 21,
   "id": "36df20db-cc84-4788-9a0a-e35c558f9727",
   "metadata": {},
   "outputs": [
    {
     "data": {
      "text/html": [
       "<div>\n",
       "<style scoped>\n",
       "    .dataframe tbody tr th:only-of-type {\n",
       "        vertical-align: middle;\n",
       "    }\n",
       "\n",
       "    .dataframe tbody tr th {\n",
       "        vertical-align: top;\n",
       "    }\n",
       "\n",
       "    .dataframe thead th {\n",
       "        text-align: right;\n",
       "    }\n",
       "</style>\n",
       "<table border=\"1\" class=\"dataframe\">\n",
       "  <thead>\n",
       "    <tr style=\"text-align: right;\">\n",
       "      <th></th>\n",
       "      <th>Content</th>\n",
       "      <th>source</th>\n",
       "      <th>label</th>\n",
       "      <th>job_title</th>\n",
       "    </tr>\n",
       "  </thead>\n",
       "  <tbody>\n",
       "    <tr>\n",
       "      <th>282</th>\n",
       "      <td>Subject: Job Opening: Sr. Data Engineer with G...</td>\n",
       "      <td>assan</td>\n",
       "      <td>job_opp</td>\n",
       "      <td>data_engineer</td>\n",
       "    </tr>\n",
       "    <tr>\n",
       "      <th>284</th>\n",
       "      <td>Subject: Position: Applications Architect | IT...</td>\n",
       "      <td>assan</td>\n",
       "      <td>job_opp</td>\n",
       "      <td>other</td>\n",
       "    </tr>\n",
       "    <tr>\n",
       "      <th>286</th>\n",
       "      <td>Subject: Bigdata Developer in Raleigh , NC (Da...</td>\n",
       "      <td>assan</td>\n",
       "      <td>job_opp</td>\n",
       "      <td>Bigdata Developer</td>\n",
       "    </tr>\n",
       "    <tr>\n",
       "      <th>290</th>\n",
       "      <td>Subject: Direct Hire Sr . Data Scientist oppor...</td>\n",
       "      <td>assan</td>\n",
       "      <td>job_opp</td>\n",
       "      <td>data_scientist</td>\n",
       "    </tr>\n",
       "    <tr>\n",
       "      <th>291</th>\n",
       "      <td>8/24/22, 7:01 PM\\n\\nGmail - Power BI || Purcha...</td>\n",
       "      <td>assan</td>\n",
       "      <td>job_opp</td>\n",
       "      <td>other</td>\n",
       "    </tr>\n",
       "  </tbody>\n",
       "</table>\n",
       "</div>"
      ],
      "text/plain": [
       "                                               Content source    label  \\\n",
       "282  Subject: Job Opening: Sr. Data Engineer with G...  assan  job_opp   \n",
       "284  Subject: Position: Applications Architect | IT...  assan  job_opp   \n",
       "286  Subject: Bigdata Developer in Raleigh , NC (Da...  assan  job_opp   \n",
       "290  Subject: Direct Hire Sr . Data Scientist oppor...  assan  job_opp   \n",
       "291  8/24/22, 7:01 PM\\n\\nGmail - Power BI || Purcha...  assan  job_opp   \n",
       "\n",
       "             job_title  \n",
       "282      data_engineer  \n",
       "284              other  \n",
       "286  Bigdata Developer  \n",
       "290     data_scientist  \n",
       "291              other  "
      ]
     },
     "execution_count": 21,
     "metadata": {},
     "output_type": "execute_result"
    }
   ],
   "source": [
    "\n",
    "Assan_job_description_data = Assan_data[Assan_data['label'] ==\"job_opp\"]\n",
    "Assan_job_description_data.head()"
   ]
  },
  {
   "cell_type": "markdown",
   "id": "6a52797a-4749-438d-adc5-b02fcfc21f09",
   "metadata": {},
   "source": [
    "- All job_opp will become job_description"
   ]
  },
  {
   "cell_type": "code",
   "execution_count": 22,
   "id": "cc01680d-e8bb-47f4-b8bb-8b1faf526366",
   "metadata": {},
   "outputs": [],
   "source": [
    "\n",
    "def label_job_data(label):\n",
    "    \"\"\" Replace label name\n",
    "    input: string label\n",
    "    output: sting new label\n",
    "    \"\"\"\n",
    "    if label=='job_opp':\n",
    "        return 'job_description'\n",
    "    else :\n",
    "        return label"
   ]
  },
  {
   "cell_type": "code",
   "execution_count": 23,
   "id": "b8d2626e-7811-41ee-8b3f-72dfa085acd2",
   "metadata": {},
   "outputs": [
    {
     "name": "stderr",
     "output_type": "stream",
     "text": [
      "<ipython-input-23-87c46ee477a5>:1: SettingWithCopyWarning: \n",
      "A value is trying to be set on a copy of a slice from a DataFrame.\n",
      "Try using .loc[row_indexer,col_indexer] = value instead\n",
      "\n",
      "See the caveats in the documentation: https://pandas.pydata.org/pandas-docs/stable/user_guide/indexing.html#returning-a-view-versus-a-copy\n",
      "  Assan_job_description_data['label'] = Assan_job_description_data['label'].apply(label_job_data)\n"
     ]
    },
    {
     "data": {
      "text/plain": [
       "job_description    50\n",
       "Name: label, dtype: int64"
      ]
     },
     "execution_count": 23,
     "metadata": {},
     "output_type": "execute_result"
    }
   ],
   "source": [
    "Assan_job_description_data['label'] = Assan_job_description_data['label'].apply(label_job_data)\n",
    "Assan_job_description_data['label'].value_counts()"
   ]
  },
  {
   "cell_type": "markdown",
   "id": "b8cff04d-dca0-4594-81f5-fa92ab283ff9",
   "metadata": {},
   "source": [
    "- Process job_title column to have: Data Scientist,Data Engineer,\n",
    "    Big Data Developer and other"
   ]
  },
  {
   "cell_type": "code",
   "execution_count": 24,
   "id": "cfcddf79-db2d-4eb6-aec9-9aa353c7b72a",
   "metadata": {},
   "outputs": [
    {
     "data": {
      "text/plain": [
       "data_scientist       20\n",
       "other                19\n",
       "data_engineer         8\n",
       "link                  2\n",
       "Bigdata Developer     1\n",
       "Name: job_title, dtype: int64"
      ]
     },
     "execution_count": 24,
     "metadata": {},
     "output_type": "execute_result"
    }
   ],
   "source": [
    "Assan_job_description_data['job_title'].value_counts(dropna=False)"
   ]
  },
  {
   "cell_type": "code",
   "execution_count": 25,
   "id": "5d752918-e692-45d7-a0b1-3b7147d94298",
   "metadata": {},
   "outputs": [
    {
     "name": "stderr",
     "output_type": "stream",
     "text": [
      "<ipython-input-25-e81fcbc9608c>:1: SettingWithCopyWarning: \n",
      "A value is trying to be set on a copy of a slice from a DataFrame.\n",
      "Try using .loc[row_indexer,col_indexer] = value instead\n",
      "\n",
      "See the caveats in the documentation: https://pandas.pydata.org/pandas-docs/stable/user_guide/indexing.html#returning-a-view-versus-a-copy\n",
      "  Assan_job_description_data['job_title']=Assan_job_description_data['job_title'].map({\"data_scientist\":\"Data Scientist\",\n"
     ]
    }
   ],
   "source": [
    "Assan_job_description_data['job_title']=Assan_job_description_data['job_title'].map({\"data_scientist\":\"Data Scientist\",\n",
    "                                                                 \"data_engineer\":\"Data Engineer\",\n",
    "                                                                \"Bigdata Developer\":\"Big Data Developer\",\n",
    "                                                                \"link\":\"other\",\"other\":\"other\"})"
   ]
  },
  {
   "cell_type": "code",
   "execution_count": 26,
   "id": "39fee0e1-c1a9-4e99-ba11-29ca4cb993b5",
   "metadata": {},
   "outputs": [
    {
     "data": {
      "text/plain": [
       "other                 21\n",
       "Data Scientist        20\n",
       "Data Engineer          8\n",
       "Big Data Developer     1\n",
       "Name: job_title, dtype: int64"
      ]
     },
     "execution_count": 26,
     "metadata": {},
     "output_type": "execute_result"
    }
   ],
   "source": [
    "Assan_job_description_data['job_title'].value_counts(dropna=False)"
   ]
  },
  {
   "cell_type": "markdown",
   "id": "a2006b9a-5d23-4511-9da6-c22c4bf24632",
   "metadata": {},
   "source": [
    "## Concatanation of  all data"
   ]
  },
  {
   "cell_type": "code",
   "execution_count": 27,
   "id": "ba9aba6e-837e-43b8-9134-78aba7ac6f61",
   "metadata": {},
   "outputs": [
    {
     "name": "stdout",
     "output_type": "stream",
     "text": [
      "Content      0\n",
      "source       0\n",
      "job_title    0\n",
      "label        0\n",
      "dtype: int64 ['Data Scientist' 'Data Engineer']\n"
     ]
    },
    {
     "data": {
      "text/html": [
       "<div>\n",
       "<style scoped>\n",
       "    .dataframe tbody tr th:only-of-type {\n",
       "        vertical-align: middle;\n",
       "    }\n",
       "\n",
       "    .dataframe tbody tr th {\n",
       "        vertical-align: top;\n",
       "    }\n",
       "\n",
       "    .dataframe thead th {\n",
       "        text-align: right;\n",
       "    }\n",
       "</style>\n",
       "<table border=\"1\" class=\"dataframe\">\n",
       "  <thead>\n",
       "    <tr style=\"text-align: right;\">\n",
       "      <th></th>\n",
       "      <th>Content</th>\n",
       "      <th>source</th>\n",
       "      <th>job_title</th>\n",
       "      <th>label</th>\n",
       "    </tr>\n",
       "  </thead>\n",
       "  <tbody>\n",
       "    <tr>\n",
       "      <th>0</th>\n",
       "      <td>Infoserv LLC\\nData Scientist\\nRemote\\nEmployer...</td>\n",
       "      <td>glassdoor</td>\n",
       "      <td>Data Scientist</td>\n",
       "      <td>job_description</td>\n",
       "    </tr>\n",
       "    <tr>\n",
       "      <th>1</th>\n",
       "      <td>ExxonMobil\\n3.1\\nData Scientist\\nClinton, NJ\\n...</td>\n",
       "      <td>glassdoor</td>\n",
       "      <td>Data Scientist</td>\n",
       "      <td>job_description</td>\n",
       "    </tr>\n",
       "    <tr>\n",
       "      <th>2</th>\n",
       "      <td>eBay Inc.\\n4.1\\nData Scientist/Applied Researc...</td>\n",
       "      <td>glassdoor</td>\n",
       "      <td>Data Scientist</td>\n",
       "      <td>job_description</td>\n",
       "    </tr>\n",
       "    <tr>\n",
       "      <th>3</th>\n",
       "      <td>TikTok\\n3.7\\nData Scientist, University Gradua...</td>\n",
       "      <td>glassdoor</td>\n",
       "      <td>Data Scientist</td>\n",
       "      <td>job_description</td>\n",
       "    </tr>\n",
       "    <tr>\n",
       "      <th>4</th>\n",
       "      <td>Mastercard\\n4.3\\nData Scientist, AI Services -...</td>\n",
       "      <td>glassdoor</td>\n",
       "      <td>Data Scientist</td>\n",
       "      <td>job_description</td>\n",
       "    </tr>\n",
       "  </tbody>\n",
       "</table>\n",
       "</div>"
      ],
      "text/plain": [
       "                                             Content     source  \\\n",
       "0  Infoserv LLC\\nData Scientist\\nRemote\\nEmployer...  glassdoor   \n",
       "1  ExxonMobil\\n3.1\\nData Scientist\\nClinton, NJ\\n...  glassdoor   \n",
       "2  eBay Inc.\\n4.1\\nData Scientist/Applied Researc...  glassdoor   \n",
       "3  TikTok\\n3.7\\nData Scientist, University Gradua...  glassdoor   \n",
       "4  Mastercard\\n4.3\\nData Scientist, AI Services -...  glassdoor   \n",
       "\n",
       "        job_title            label  \n",
       "0  Data Scientist  job_description  \n",
       "1  Data Scientist  job_description  \n",
       "2  Data Scientist  job_description  \n",
       "3  Data Scientist  job_description  \n",
       "4  Data Scientist  job_description  "
      ]
     },
     "execution_count": 27,
     "metadata": {},
     "output_type": "execute_result"
    }
   ],
   "source": [
    "glassdoor_data_scientist_enginneer=pd.concat([data_scientist_job,data_engineer_job])\n",
    "print(glassdoor_data_scientist_enginneer.isnull().sum(),glassdoor_data_scientist_enginneer['job_title'].unique())\n",
    "glassdoor_data_scientist_enginneer.head()"
   ]
  },
  {
   "cell_type": "code",
   "execution_count": 28,
   "id": "080badd7-1e40-47ec-98fe-271b17c92dab",
   "metadata": {},
   "outputs": [
    {
     "name": "stdout",
     "output_type": "stream",
     "text": [
      "Content      0\n",
      "source       0\n",
      "job_title    0\n",
      "label        0\n",
      "dtype: int64 ['Data Scientist' 'Data Engineer' 'Data Analyst']\n"
     ]
    },
    {
     "data": {
      "text/html": [
       "<div>\n",
       "<style scoped>\n",
       "    .dataframe tbody tr th:only-of-type {\n",
       "        vertical-align: middle;\n",
       "    }\n",
       "\n",
       "    .dataframe tbody tr th {\n",
       "        vertical-align: top;\n",
       "    }\n",
       "\n",
       "    .dataframe thead th {\n",
       "        text-align: right;\n",
       "    }\n",
       "</style>\n",
       "<table border=\"1\" class=\"dataframe\">\n",
       "  <thead>\n",
       "    <tr style=\"text-align: right;\">\n",
       "      <th></th>\n",
       "      <th>Content</th>\n",
       "      <th>source</th>\n",
       "      <th>job_title</th>\n",
       "      <th>label</th>\n",
       "    </tr>\n",
       "  </thead>\n",
       "  <tbody>\n",
       "    <tr>\n",
       "      <th>0</th>\n",
       "      <td>Infoserv LLC\\nData Scientist\\nRemote\\nEmployer...</td>\n",
       "      <td>glassdoor</td>\n",
       "      <td>Data Scientist</td>\n",
       "      <td>job_description</td>\n",
       "    </tr>\n",
       "    <tr>\n",
       "      <th>1</th>\n",
       "      <td>ExxonMobil\\n3.1\\nData Scientist\\nClinton, NJ\\n...</td>\n",
       "      <td>glassdoor</td>\n",
       "      <td>Data Scientist</td>\n",
       "      <td>job_description</td>\n",
       "    </tr>\n",
       "    <tr>\n",
       "      <th>2</th>\n",
       "      <td>eBay Inc.\\n4.1\\nData Scientist/Applied Researc...</td>\n",
       "      <td>glassdoor</td>\n",
       "      <td>Data Scientist</td>\n",
       "      <td>job_description</td>\n",
       "    </tr>\n",
       "    <tr>\n",
       "      <th>3</th>\n",
       "      <td>TikTok\\n3.7\\nData Scientist, University Gradua...</td>\n",
       "      <td>glassdoor</td>\n",
       "      <td>Data Scientist</td>\n",
       "      <td>job_description</td>\n",
       "    </tr>\n",
       "    <tr>\n",
       "      <th>4</th>\n",
       "      <td>Mastercard\\n4.3\\nData Scientist, AI Services -...</td>\n",
       "      <td>glassdoor</td>\n",
       "      <td>Data Scientist</td>\n",
       "      <td>job_description</td>\n",
       "    </tr>\n",
       "  </tbody>\n",
       "</table>\n",
       "</div>"
      ],
      "text/plain": [
       "                                             Content     source  \\\n",
       "0  Infoserv LLC\\nData Scientist\\nRemote\\nEmployer...  glassdoor   \n",
       "1  ExxonMobil\\n3.1\\nData Scientist\\nClinton, NJ\\n...  glassdoor   \n",
       "2  eBay Inc.\\n4.1\\nData Scientist/Applied Researc...  glassdoor   \n",
       "3  TikTok\\n3.7\\nData Scientist, University Gradua...  glassdoor   \n",
       "4  Mastercard\\n4.3\\nData Scientist, AI Services -...  glassdoor   \n",
       "\n",
       "        job_title            label  \n",
       "0  Data Scientist  job_description  \n",
       "1  Data Scientist  job_description  \n",
       "2  Data Scientist  job_description  \n",
       "3  Data Scientist  job_description  \n",
       "4  Data Scientist  job_description  "
      ]
     },
     "execution_count": 28,
     "metadata": {},
     "output_type": "execute_result"
    }
   ],
   "source": [
    "glassdoor_data_scientist_enginneer_analyst=pd.concat([glassdoor_data_scientist_enginneer,data_analyst_job])\n",
    "print(glassdoor_data_scientist_enginneer_analyst.isnull().sum(),glassdoor_data_scientist_enginneer_analyst['job_title'].unique())\n",
    "glassdoor_data_scientist_enginneer_analyst.head()"
   ]
  },
  {
   "cell_type": "code",
   "execution_count": 29,
   "id": "86925703-97e1-4c72-bb3d-30cb019b19b2",
   "metadata": {},
   "outputs": [
    {
     "name": "stdout",
     "output_type": "stream",
     "text": [
      "Content      0\n",
      "source       0\n",
      "job_title    0\n",
      "label        0\n",
      "dtype: int64 data source:  ['glassdoor'] \n",
      "\n",
      " Job type:  ['Data Scientist' 'Data Engineer' 'Data Analyst' 'Big Data Developer']\n"
     ]
    },
    {
     "data": {
      "text/html": [
       "<div>\n",
       "<style scoped>\n",
       "    .dataframe tbody tr th:only-of-type {\n",
       "        vertical-align: middle;\n",
       "    }\n",
       "\n",
       "    .dataframe tbody tr th {\n",
       "        vertical-align: top;\n",
       "    }\n",
       "\n",
       "    .dataframe thead th {\n",
       "        text-align: right;\n",
       "    }\n",
       "</style>\n",
       "<table border=\"1\" class=\"dataframe\">\n",
       "  <thead>\n",
       "    <tr style=\"text-align: right;\">\n",
       "      <th></th>\n",
       "      <th>Content</th>\n",
       "      <th>source</th>\n",
       "      <th>job_title</th>\n",
       "      <th>label</th>\n",
       "    </tr>\n",
       "  </thead>\n",
       "  <tbody>\n",
       "    <tr>\n",
       "      <th>0</th>\n",
       "      <td>Infoserv LLC\\nData Scientist\\nRemote\\nEmployer...</td>\n",
       "      <td>glassdoor</td>\n",
       "      <td>Data Scientist</td>\n",
       "      <td>job_description</td>\n",
       "    </tr>\n",
       "    <tr>\n",
       "      <th>1</th>\n",
       "      <td>ExxonMobil\\n3.1\\nData Scientist\\nClinton, NJ\\n...</td>\n",
       "      <td>glassdoor</td>\n",
       "      <td>Data Scientist</td>\n",
       "      <td>job_description</td>\n",
       "    </tr>\n",
       "    <tr>\n",
       "      <th>2</th>\n",
       "      <td>eBay Inc.\\n4.1\\nData Scientist/Applied Researc...</td>\n",
       "      <td>glassdoor</td>\n",
       "      <td>Data Scientist</td>\n",
       "      <td>job_description</td>\n",
       "    </tr>\n",
       "    <tr>\n",
       "      <th>3</th>\n",
       "      <td>TikTok\\n3.7\\nData Scientist, University Gradua...</td>\n",
       "      <td>glassdoor</td>\n",
       "      <td>Data Scientist</td>\n",
       "      <td>job_description</td>\n",
       "    </tr>\n",
       "    <tr>\n",
       "      <th>4</th>\n",
       "      <td>Mastercard\\n4.3\\nData Scientist, AI Services -...</td>\n",
       "      <td>glassdoor</td>\n",
       "      <td>Data Scientist</td>\n",
       "      <td>job_description</td>\n",
       "    </tr>\n",
       "  </tbody>\n",
       "</table>\n",
       "</div>"
      ],
      "text/plain": [
       "                                             Content     source  \\\n",
       "0  Infoserv LLC\\nData Scientist\\nRemote\\nEmployer...  glassdoor   \n",
       "1  ExxonMobil\\n3.1\\nData Scientist\\nClinton, NJ\\n...  glassdoor   \n",
       "2  eBay Inc.\\n4.1\\nData Scientist/Applied Researc...  glassdoor   \n",
       "3  TikTok\\n3.7\\nData Scientist, University Gradua...  glassdoor   \n",
       "4  Mastercard\\n4.3\\nData Scientist, AI Services -...  glassdoor   \n",
       "\n",
       "        job_title            label  \n",
       "0  Data Scientist  job_description  \n",
       "1  Data Scientist  job_description  \n",
       "2  Data Scientist  job_description  \n",
       "3  Data Scientist  job_description  \n",
       "4  Data Scientist  job_description  "
      ]
     },
     "execution_count": 29,
     "metadata": {},
     "output_type": "execute_result"
    }
   ],
   "source": [
    "all_glassdoor_data =pd.concat([glassdoor_data_scientist_enginneer_analyst,Big_data_developer_job])\n",
    "print(all_glassdoor_data.isnull().sum(),\"data source: \",all_glassdoor_data.source.unique(),\"\\n\\n\",\n",
    "      \"Job type: \",all_glassdoor_data['job_title'].unique())\n",
    "all_glassdoor_data.head()"
   ]
  },
  {
   "cell_type": "code",
   "execution_count": 30,
   "id": "703a8339-5fcc-4013-9688-4c030479c8c6",
   "metadata": {},
   "outputs": [
    {
     "data": {
      "text/html": [
       "<div>\n",
       "<style scoped>\n",
       "    .dataframe tbody tr th:only-of-type {\n",
       "        vertical-align: middle;\n",
       "    }\n",
       "\n",
       "    .dataframe tbody tr th {\n",
       "        vertical-align: top;\n",
       "    }\n",
       "\n",
       "    .dataframe thead th {\n",
       "        text-align: right;\n",
       "    }\n",
       "</style>\n",
       "<table border=\"1\" class=\"dataframe\">\n",
       "  <thead>\n",
       "    <tr style=\"text-align: right;\">\n",
       "      <th></th>\n",
       "      <th>Content</th>\n",
       "      <th>source</th>\n",
       "      <th>job_title</th>\n",
       "      <th>label</th>\n",
       "    </tr>\n",
       "  </thead>\n",
       "  <tbody>\n",
       "    <tr>\n",
       "      <th>61</th>\n",
       "      <td>Snapchat\\n4.1\\nData Scientist\\nLos Angeles, CA...</td>\n",
       "      <td>glassdoor</td>\n",
       "      <td>Data Scientist</td>\n",
       "      <td>job_description</td>\n",
       "    </tr>\n",
       "    <tr>\n",
       "      <th>104</th>\n",
       "      <td>MIT\\n4.4\\nData Scientist\\nCambridge, MA\\n$100K...</td>\n",
       "      <td>glassdoor</td>\n",
       "      <td>Data Scientist</td>\n",
       "      <td>job_description</td>\n",
       "    </tr>\n",
       "    <tr>\n",
       "      <th>105</th>\n",
       "      <td>MGA Entertainment\\n2.2\\nData Scientist\\nLos An...</td>\n",
       "      <td>glassdoor</td>\n",
       "      <td>Data Scientist</td>\n",
       "      <td>job_description</td>\n",
       "    </tr>\n",
       "    <tr>\n",
       "      <th>106</th>\n",
       "      <td>The Trade Desk\\n4.2\\nData Scientist I\\nNew Yor...</td>\n",
       "      <td>glassdoor</td>\n",
       "      <td>Data Scientist</td>\n",
       "      <td>job_description</td>\n",
       "    </tr>\n",
       "    <tr>\n",
       "      <th>107</th>\n",
       "      <td>TikTok\\n3.7\\nData Scientist, University Gradua...</td>\n",
       "      <td>glassdoor</td>\n",
       "      <td>Data Scientist</td>\n",
       "      <td>job_description</td>\n",
       "    </tr>\n",
       "    <tr>\n",
       "      <th>...</th>\n",
       "      <td>...</td>\n",
       "      <td>...</td>\n",
       "      <td>...</td>\n",
       "      <td>...</td>\n",
       "    </tr>\n",
       "    <tr>\n",
       "      <th>545</th>\n",
       "      <td>Datrageekz LLC\\nBig Data Developer\\nRemote\\nEm...</td>\n",
       "      <td>glassdoor</td>\n",
       "      <td>Big Data Developer</td>\n",
       "      <td>job_description</td>\n",
       "    </tr>\n",
       "    <tr>\n",
       "      <th>546</th>\n",
       "      <td>Aptivacorp\\n4.4\\nPython/Golang Developer (100%...</td>\n",
       "      <td>glassdoor</td>\n",
       "      <td>Big Data Developer</td>\n",
       "      <td>job_description</td>\n",
       "    </tr>\n",
       "    <tr>\n",
       "      <th>547</th>\n",
       "      <td>Zscaler\\n4.5\\nData Engineer\\nSan Jose, CA\\n$93...</td>\n",
       "      <td>glassdoor</td>\n",
       "      <td>Big Data Developer</td>\n",
       "      <td>job_description</td>\n",
       "    </tr>\n",
       "    <tr>\n",
       "      <th>548</th>\n",
       "      <td>Pittsburgh Knights\\nFront End Developer\\nPitts...</td>\n",
       "      <td>glassdoor</td>\n",
       "      <td>Big Data Developer</td>\n",
       "      <td>job_description</td>\n",
       "    </tr>\n",
       "    <tr>\n",
       "      <th>549</th>\n",
       "      <td>TELUS International\\n3.8\\nBig Data Developer\\n...</td>\n",
       "      <td>glassdoor</td>\n",
       "      <td>Big Data Developer</td>\n",
       "      <td>job_description</td>\n",
       "    </tr>\n",
       "  </tbody>\n",
       "</table>\n",
       "<p>1524 rows × 4 columns</p>\n",
       "</div>"
      ],
      "text/plain": [
       "                                               Content     source  \\\n",
       "61   Snapchat\\n4.1\\nData Scientist\\nLos Angeles, CA...  glassdoor   \n",
       "104  MIT\\n4.4\\nData Scientist\\nCambridge, MA\\n$100K...  glassdoor   \n",
       "105  MGA Entertainment\\n2.2\\nData Scientist\\nLos An...  glassdoor   \n",
       "106  The Trade Desk\\n4.2\\nData Scientist I\\nNew Yor...  glassdoor   \n",
       "107  TikTok\\n3.7\\nData Scientist, University Gradua...  glassdoor   \n",
       "..                                                 ...        ...   \n",
       "545  Datrageekz LLC\\nBig Data Developer\\nRemote\\nEm...  glassdoor   \n",
       "546  Aptivacorp\\n4.4\\nPython/Golang Developer (100%...  glassdoor   \n",
       "547  Zscaler\\n4.5\\nData Engineer\\nSan Jose, CA\\n$93...  glassdoor   \n",
       "548  Pittsburgh Knights\\nFront End Developer\\nPitts...  glassdoor   \n",
       "549  TELUS International\\n3.8\\nBig Data Developer\\n...  glassdoor   \n",
       "\n",
       "              job_title            label  \n",
       "61       Data Scientist  job_description  \n",
       "104      Data Scientist  job_description  \n",
       "105      Data Scientist  job_description  \n",
       "106      Data Scientist  job_description  \n",
       "107      Data Scientist  job_description  \n",
       "..                  ...              ...  \n",
       "545  Big Data Developer  job_description  \n",
       "546  Big Data Developer  job_description  \n",
       "547  Big Data Developer  job_description  \n",
       "548  Big Data Developer  job_description  \n",
       "549  Big Data Developer  job_description  \n",
       "\n",
       "[1524 rows x 4 columns]"
      ]
     },
     "execution_count": 30,
     "metadata": {},
     "output_type": "execute_result"
    }
   ],
   "source": [
    "all_glassdoor_data[all_glassdoor_data.duplicated()]"
   ]
  },
  {
   "cell_type": "code",
   "execution_count": 31,
   "id": "05df83ca-6cf0-412e-95bd-019b7bfcae2c",
   "metadata": {},
   "outputs": [],
   "source": [
    "# all_glassdoor_data.to_csv(\"data/glassdoor.csv\",index=False)"
   ]
  },
  {
   "cell_type": "code",
   "execution_count": 32,
   "id": "cde8a1ff-9686-4af4-87c8-f93828a34cdb",
   "metadata": {},
   "outputs": [
    {
     "name": "stdout",
     "output_type": "stream",
     "text": [
      "Content      0\n",
      "source       0\n",
      "job_title    0\n",
      "label        0\n",
      "dtype: int64 data source:  ['glassdoor' 'indeed'] \n",
      "\n",
      " Job type:  ['Data Scientist' 'Data Engineer' 'Data Analyst' 'Big Data Developer']\n"
     ]
    },
    {
     "data": {
      "text/html": [
       "<div>\n",
       "<style scoped>\n",
       "    .dataframe tbody tr th:only-of-type {\n",
       "        vertical-align: middle;\n",
       "    }\n",
       "\n",
       "    .dataframe tbody tr th {\n",
       "        vertical-align: top;\n",
       "    }\n",
       "\n",
       "    .dataframe thead th {\n",
       "        text-align: right;\n",
       "    }\n",
       "</style>\n",
       "<table border=\"1\" class=\"dataframe\">\n",
       "  <thead>\n",
       "    <tr style=\"text-align: right;\">\n",
       "      <th></th>\n",
       "      <th>Content</th>\n",
       "      <th>source</th>\n",
       "      <th>job_title</th>\n",
       "      <th>label</th>\n",
       "    </tr>\n",
       "  </thead>\n",
       "  <tbody>\n",
       "    <tr>\n",
       "      <th>0</th>\n",
       "      <td>Infoserv LLC\\nData Scientist\\nRemote\\nEmployer...</td>\n",
       "      <td>glassdoor</td>\n",
       "      <td>Data Scientist</td>\n",
       "      <td>job_description</td>\n",
       "    </tr>\n",
       "    <tr>\n",
       "      <th>1</th>\n",
       "      <td>ExxonMobil\\n3.1\\nData Scientist\\nClinton, NJ\\n...</td>\n",
       "      <td>glassdoor</td>\n",
       "      <td>Data Scientist</td>\n",
       "      <td>job_description</td>\n",
       "    </tr>\n",
       "    <tr>\n",
       "      <th>2</th>\n",
       "      <td>eBay Inc.\\n4.1\\nData Scientist/Applied Researc...</td>\n",
       "      <td>glassdoor</td>\n",
       "      <td>Data Scientist</td>\n",
       "      <td>job_description</td>\n",
       "    </tr>\n",
       "    <tr>\n",
       "      <th>3</th>\n",
       "      <td>TikTok\\n3.7\\nData Scientist, University Gradua...</td>\n",
       "      <td>glassdoor</td>\n",
       "      <td>Data Scientist</td>\n",
       "      <td>job_description</td>\n",
       "    </tr>\n",
       "    <tr>\n",
       "      <th>4</th>\n",
       "      <td>Mastercard\\n4.3\\nData Scientist, AI Services -...</td>\n",
       "      <td>glassdoor</td>\n",
       "      <td>Data Scientist</td>\n",
       "      <td>job_description</td>\n",
       "    </tr>\n",
       "  </tbody>\n",
       "</table>\n",
       "</div>"
      ],
      "text/plain": [
       "                                             Content     source  \\\n",
       "0  Infoserv LLC\\nData Scientist\\nRemote\\nEmployer...  glassdoor   \n",
       "1  ExxonMobil\\n3.1\\nData Scientist\\nClinton, NJ\\n...  glassdoor   \n",
       "2  eBay Inc.\\n4.1\\nData Scientist/Applied Researc...  glassdoor   \n",
       "3  TikTok\\n3.7\\nData Scientist, University Gradua...  glassdoor   \n",
       "4  Mastercard\\n4.3\\nData Scientist, AI Services -...  glassdoor   \n",
       "\n",
       "        job_title            label  \n",
       "0  Data Scientist  job_description  \n",
       "1  Data Scientist  job_description  \n",
       "2  Data Scientist  job_description  \n",
       "3  Data Scientist  job_description  \n",
       "4  Data Scientist  job_description  "
      ]
     },
     "execution_count": 32,
     "metadata": {},
     "output_type": "execute_result"
    }
   ],
   "source": [
    "glassdoor_indeed =pd.concat([all_glassdoor_data,indeed_data])\n",
    "print(glassdoor_indeed.isnull().sum(),\n",
    "      \"data source: \",glassdoor_indeed.source.unique(),\"\\n\\n\",\n",
    "      \"Job type: \",\n",
    "      glassdoor_indeed['job_title'].unique())\n",
    "glassdoor_indeed.head()"
   ]
  },
  {
   "cell_type": "code",
   "execution_count": 33,
   "id": "4e5b5e02-543e-44e8-b429-e719073e4f52",
   "metadata": {},
   "outputs": [
    {
     "name": "stdout",
     "output_type": "stream",
     "text": [
      "null values: \n",
      " Content      0\n",
      "source       0\n",
      "job_title    0\n",
      "label        0\n",
      "dtype: int64 \n",
      "\n",
      " different jobs: \n",
      " ['Data Scientist' 'Data Engineer' 'Data Analyst' 'Big Data Developer'\n",
      " 'other'] \n",
      "\n",
      " different label: \n",
      " ['job_description'] \n",
      "\n",
      " different source: \n",
      " ['glassdoor' 'indeed' 'assan']\n"
     ]
    },
    {
     "data": {
      "text/html": [
       "<div>\n",
       "<style scoped>\n",
       "    .dataframe tbody tr th:only-of-type {\n",
       "        vertical-align: middle;\n",
       "    }\n",
       "\n",
       "    .dataframe tbody tr th {\n",
       "        vertical-align: top;\n",
       "    }\n",
       "\n",
       "    .dataframe thead th {\n",
       "        text-align: right;\n",
       "    }\n",
       "</style>\n",
       "<table border=\"1\" class=\"dataframe\">\n",
       "  <thead>\n",
       "    <tr style=\"text-align: right;\">\n",
       "      <th></th>\n",
       "      <th>Content</th>\n",
       "      <th>source</th>\n",
       "      <th>job_title</th>\n",
       "      <th>label</th>\n",
       "    </tr>\n",
       "  </thead>\n",
       "  <tbody>\n",
       "    <tr>\n",
       "      <th>0</th>\n",
       "      <td>Infoserv LLC\\nData Scientist\\nRemote\\nEmployer...</td>\n",
       "      <td>glassdoor</td>\n",
       "      <td>Data Scientist</td>\n",
       "      <td>job_description</td>\n",
       "    </tr>\n",
       "    <tr>\n",
       "      <th>1</th>\n",
       "      <td>ExxonMobil\\n3.1\\nData Scientist\\nClinton, NJ\\n...</td>\n",
       "      <td>glassdoor</td>\n",
       "      <td>Data Scientist</td>\n",
       "      <td>job_description</td>\n",
       "    </tr>\n",
       "    <tr>\n",
       "      <th>2</th>\n",
       "      <td>eBay Inc.\\n4.1\\nData Scientist/Applied Researc...</td>\n",
       "      <td>glassdoor</td>\n",
       "      <td>Data Scientist</td>\n",
       "      <td>job_description</td>\n",
       "    </tr>\n",
       "    <tr>\n",
       "      <th>3</th>\n",
       "      <td>TikTok\\n3.7\\nData Scientist, University Gradua...</td>\n",
       "      <td>glassdoor</td>\n",
       "      <td>Data Scientist</td>\n",
       "      <td>job_description</td>\n",
       "    </tr>\n",
       "    <tr>\n",
       "      <th>4</th>\n",
       "      <td>Mastercard\\n4.3\\nData Scientist, AI Services -...</td>\n",
       "      <td>glassdoor</td>\n",
       "      <td>Data Scientist</td>\n",
       "      <td>job_description</td>\n",
       "    </tr>\n",
       "  </tbody>\n",
       "</table>\n",
       "</div>"
      ],
      "text/plain": [
       "                                             Content     source  \\\n",
       "0  Infoserv LLC\\nData Scientist\\nRemote\\nEmployer...  glassdoor   \n",
       "1  ExxonMobil\\n3.1\\nData Scientist\\nClinton, NJ\\n...  glassdoor   \n",
       "2  eBay Inc.\\n4.1\\nData Scientist/Applied Researc...  glassdoor   \n",
       "3  TikTok\\n3.7\\nData Scientist, University Gradua...  glassdoor   \n",
       "4  Mastercard\\n4.3\\nData Scientist, AI Services -...  glassdoor   \n",
       "\n",
       "        job_title            label  \n",
       "0  Data Scientist  job_description  \n",
       "1  Data Scientist  job_description  \n",
       "2  Data Scientist  job_description  \n",
       "3  Data Scientist  job_description  \n",
       "4  Data Scientist  job_description  "
      ]
     },
     "execution_count": 33,
     "metadata": {},
     "output_type": "execute_result"
    }
   ],
   "source": [
    "all_job_description_data = pd.concat([glassdoor_indeed,Assan_job_description_data])\n",
    "print(\"null values: \\n\",all_job_description_data.isnull().sum(),\"\\n\\n\",\"different jobs: \\n\",all_job_description_data['job_title'].unique(),\n",
    "      \"\\n\\n\",\"different label: \\n\",all_job_description_data['label'].unique(),\n",
    "     \"\\n\\n\",\"different source: \\n\",all_job_description_data['source'].unique())\n",
    "all_job_description_data.head()"
   ]
  },
  {
   "cell_type": "code",
   "execution_count": 34,
   "id": "983b5ca5-663b-42e1-90f1-3b956ec9b555",
   "metadata": {},
   "outputs": [
    {
     "data": {
      "text/html": [
       "<div>\n",
       "<style scoped>\n",
       "    .dataframe tbody tr th:only-of-type {\n",
       "        vertical-align: middle;\n",
       "    }\n",
       "\n",
       "    .dataframe tbody tr th {\n",
       "        vertical-align: top;\n",
       "    }\n",
       "\n",
       "    .dataframe thead th {\n",
       "        text-align: right;\n",
       "    }\n",
       "</style>\n",
       "<table border=\"1\" class=\"dataframe\">\n",
       "  <thead>\n",
       "    <tr style=\"text-align: right;\">\n",
       "      <th></th>\n",
       "      <th>Content</th>\n",
       "      <th>source</th>\n",
       "      <th>job_title</th>\n",
       "      <th>label</th>\n",
       "    </tr>\n",
       "  </thead>\n",
       "  <tbody>\n",
       "    <tr>\n",
       "      <th>61</th>\n",
       "      <td>Snapchat\\n4.1\\nData Scientist\\nLos Angeles, CA...</td>\n",
       "      <td>glassdoor</td>\n",
       "      <td>Data Scientist</td>\n",
       "      <td>job_description</td>\n",
       "    </tr>\n",
       "    <tr>\n",
       "      <th>104</th>\n",
       "      <td>MIT\\n4.4\\nData Scientist\\nCambridge, MA\\n$100K...</td>\n",
       "      <td>glassdoor</td>\n",
       "      <td>Data Scientist</td>\n",
       "      <td>job_description</td>\n",
       "    </tr>\n",
       "    <tr>\n",
       "      <th>105</th>\n",
       "      <td>MGA Entertainment\\n2.2\\nData Scientist\\nLos An...</td>\n",
       "      <td>glassdoor</td>\n",
       "      <td>Data Scientist</td>\n",
       "      <td>job_description</td>\n",
       "    </tr>\n",
       "    <tr>\n",
       "      <th>106</th>\n",
       "      <td>The Trade Desk\\n4.2\\nData Scientist I\\nNew Yor...</td>\n",
       "      <td>glassdoor</td>\n",
       "      <td>Data Scientist</td>\n",
       "      <td>job_description</td>\n",
       "    </tr>\n",
       "    <tr>\n",
       "      <th>107</th>\n",
       "      <td>TikTok\\n3.7\\nData Scientist, University Gradua...</td>\n",
       "      <td>glassdoor</td>\n",
       "      <td>Data Scientist</td>\n",
       "      <td>job_description</td>\n",
       "    </tr>\n",
       "    <tr>\n",
       "      <th>...</th>\n",
       "      <td>...</td>\n",
       "      <td>...</td>\n",
       "      <td>...</td>\n",
       "      <td>...</td>\n",
       "    </tr>\n",
       "    <tr>\n",
       "      <th>110</th>\n",
       "      <td>Data Recrutement Offer published on 20-06-2022...</td>\n",
       "      <td>indeed</td>\n",
       "      <td>Data Engineer</td>\n",
       "      <td>job_description</td>\n",
       "    </tr>\n",
       "    <tr>\n",
       "      <th>111</th>\n",
       "      <td>wefox wefox is the world’s leading Insurtech t...</td>\n",
       "      <td>indeed</td>\n",
       "      <td>Data Engineer</td>\n",
       "      <td>job_description</td>\n",
       "    </tr>\n",
       "    <tr>\n",
       "      <th>114</th>\n",
       "      <td>EDF Description of the offer\\nThe Project Supp...</td>\n",
       "      <td>indeed</td>\n",
       "      <td>Data Engineer</td>\n",
       "      <td>job_description</td>\n",
       "    </tr>\n",
       "    <tr>\n",
       "      <th>121</th>\n",
       "      <td>CENOVA THE COMPANY: CENOVA\\nEnter our universe...</td>\n",
       "      <td>indeed</td>\n",
       "      <td>Data Engineer</td>\n",
       "      <td>job_description</td>\n",
       "    </tr>\n",
       "    <tr>\n",
       "      <th>122</th>\n",
       "      <td>CleverConnect Company Description\\n\\nCreated b...</td>\n",
       "      <td>indeed</td>\n",
       "      <td>Data Engineer</td>\n",
       "      <td>job_description</td>\n",
       "    </tr>\n",
       "  </tbody>\n",
       "</table>\n",
       "<p>1544 rows × 4 columns</p>\n",
       "</div>"
      ],
      "text/plain": [
       "                                               Content     source  \\\n",
       "61   Snapchat\\n4.1\\nData Scientist\\nLos Angeles, CA...  glassdoor   \n",
       "104  MIT\\n4.4\\nData Scientist\\nCambridge, MA\\n$100K...  glassdoor   \n",
       "105  MGA Entertainment\\n2.2\\nData Scientist\\nLos An...  glassdoor   \n",
       "106  The Trade Desk\\n4.2\\nData Scientist I\\nNew Yor...  glassdoor   \n",
       "107  TikTok\\n3.7\\nData Scientist, University Gradua...  glassdoor   \n",
       "..                                                 ...        ...   \n",
       "110  Data Recrutement Offer published on 20-06-2022...     indeed   \n",
       "111  wefox wefox is the world’s leading Insurtech t...     indeed   \n",
       "114  EDF Description of the offer\\nThe Project Supp...     indeed   \n",
       "121  CENOVA THE COMPANY: CENOVA\\nEnter our universe...     indeed   \n",
       "122  CleverConnect Company Description\\n\\nCreated b...     indeed   \n",
       "\n",
       "          job_title            label  \n",
       "61   Data Scientist  job_description  \n",
       "104  Data Scientist  job_description  \n",
       "105  Data Scientist  job_description  \n",
       "106  Data Scientist  job_description  \n",
       "107  Data Scientist  job_description  \n",
       "..              ...              ...  \n",
       "110   Data Engineer  job_description  \n",
       "111   Data Engineer  job_description  \n",
       "114   Data Engineer  job_description  \n",
       "121   Data Engineer  job_description  \n",
       "122   Data Engineer  job_description  \n",
       "\n",
       "[1544 rows x 4 columns]"
      ]
     },
     "execution_count": 34,
     "metadata": {},
     "output_type": "execute_result"
    }
   ],
   "source": [
    "all_job_description_data[all_job_description_data.duplicated(subset='Content')]"
   ]
  },
  {
   "cell_type": "code",
   "execution_count": 35,
   "id": "b5631112-88be-4881-b782-a62ab3f7ef3e",
   "metadata": {},
   "outputs": [],
   "source": [
    "all_job_description_data.drop_duplicates(inplace=True)"
   ]
  },
  {
   "cell_type": "code",
   "execution_count": 36,
   "id": "4d630a49-b866-4212-ad0e-28176b06cf02",
   "metadata": {},
   "outputs": [],
   "source": [
    "# all_job_description_data.to_csv('data/Job_description.csv',index=False)"
   ]
  },
  {
   "cell_type": "code",
   "execution_count": 37,
   "id": "b32b843b-9179-4c10-82ee-67e713315ce2",
   "metadata": {},
   "outputs": [
    {
     "data": {
      "image/png": "[encoded data removed]",
      "text/plain": [
       "<Figure size 1080x720 with 1 Axes>"
      ]
     },
     "metadata": {
      "needs_background": "light"
     },
     "output_type": "display_data"
    }
   ],
   "source": [
    "plt.figure(figsize=(15,10))\n",
    "label = [i for i in all_job_description_data['job_title'].value_counts().to_list()]\n",
    "ax = sns.countplot(x=\"job_title\",data=all_job_description_data,label=label)\n",
    "plt.title(\"Number of job per job type\")\n",
    "plt.legend()\n",
    "plt.show()"
   ]
  },
  {
   "cell_type": "code",
   "execution_count": 38,
   "id": "f5ac39d9-bbf1-4506-8959-5a579751fe7b",
   "metadata": {},
   "outputs": [
    {
     "data": {
      "text/plain": [
       "Data Engineer         232\n",
       "Data Scientist        182\n",
       "Big Data Developer    106\n",
       "Data Analyst          101\n",
       "other                  21\n",
       "Name: job_title, dtype: int64"
      ]
     },
     "execution_count": 38,
     "metadata": {},
     "output_type": "execute_result"
    }
   ],
   "source": [
    "all_job_description_data['job_title'].value_counts()"
   ]
  },
  {
   "cell_type": "markdown",
   "id": "47e0f4fb-abee-42dc-b89f-13e396a9ded1",
   "metadata": {},
   "source": [
    "We can see that our data are balance and it will pervert our model. So we'll add data to solve this problem. We'll add:\n",
    "\n",
    "    * Big Data Developer   \n",
    "    * Data Analyst  \n",
    "    * Data Engineer \n",
    "    * other(mix of other types of job) "
   ]
  },
  {
   "cell_type": "markdown",
   "id": "605abf8d-8617-434f-a636-e6a9a6a9f7ea",
   "metadata": {},
   "source": [
    "## Preprocessing of additionnal job description data from kaggle to suppress the imbalanced classes on our initial data\n",
    "https://github.com/RemeAjayi/ds-job-detective/blob/main/glassdoor_jobs.csv"
   ]
  },
  {
   "cell_type": "code",
   "execution_count": 39,
   "id": "17819c94-62ec-4cdf-9a3d-79049f477702",
   "metadata": {},
   "outputs": [
    {
     "data": {
      "text/html": [
       "<div>\n",
       "<style scoped>\n",
       "    .dataframe tbody tr th:only-of-type {\n",
       "        vertical-align: middle;\n",
       "    }\n",
       "\n",
       "    .dataframe tbody tr th {\n",
       "        vertical-align: top;\n",
       "    }\n",
       "\n",
       "    .dataframe thead th {\n",
       "        text-align: right;\n",
       "    }\n",
       "</style>\n",
       "<table border=\"1\" class=\"dataframe\">\n",
       "  <thead>\n",
       "    <tr style=\"text-align: right;\">\n",
       "      <th></th>\n",
       "      <th>Unnamed: 0</th>\n",
       "      <th>Job Title</th>\n",
       "      <th>Job Description</th>\n",
       "      <th>Company Name</th>\n",
       "      <th>Location</th>\n",
       "    </tr>\n",
       "  </thead>\n",
       "  <tbody>\n",
       "    <tr>\n",
       "      <th>0</th>\n",
       "      <td>0</td>\n",
       "      <td>Data Scientist (Remote)</td>\n",
       "      <td>As a critical member of the Stream Systems’ te...</td>\n",
       "      <td>Cadre\\n5.0</td>\n",
       "      <td>Calgary</td>\n",
       "    </tr>\n",
       "    <tr>\n",
       "      <th>1</th>\n",
       "      <td>1</td>\n",
       "      <td>Data Scientist (Remote)</td>\n",
       "      <td>As a critical member of the Stream Systems’ te...</td>\n",
       "      <td>Cadre\\n5.0</td>\n",
       "      <td>Calgary</td>\n",
       "    </tr>\n",
       "    <tr>\n",
       "      <th>2</th>\n",
       "      <td>2</td>\n",
       "      <td>Sr. Data Analyst</td>\n",
       "      <td>Numerator is a data and tech company bringing ...</td>\n",
       "      <td>Numerator\\n4.1</td>\n",
       "      <td>Remote</td>\n",
       "    </tr>\n",
       "    <tr>\n",
       "      <th>3</th>\n",
       "      <td>3</td>\n",
       "      <td>Radar E/W Scientists</td>\n",
       "      <td>RadarE/W Scientists, Ottawa Canada\\n\\nRemote w...</td>\n",
       "      <td>Leonardo Canada - Electronics (TTI - Tactical ...</td>\n",
       "      <td>Ottawa</td>\n",
       "    </tr>\n",
       "    <tr>\n",
       "      <th>4</th>\n",
       "      <td>4</td>\n",
       "      <td>Radar E/W Scientists</td>\n",
       "      <td>RadarE/W Scientists, Ottawa Canada\\n\\nRemote w...</td>\n",
       "      <td>Leonardo Canada - Electronics (TTI - Tactical ...</td>\n",
       "      <td>Ottawa</td>\n",
       "    </tr>\n",
       "  </tbody>\n",
       "</table>\n",
       "</div>"
      ],
      "text/plain": [
       "   Unnamed: 0                Job Title  \\\n",
       "0           0  Data Scientist (Remote)   \n",
       "1           1  Data Scientist (Remote)   \n",
       "2           2         Sr. Data Analyst   \n",
       "3           3     Radar E/W Scientists   \n",
       "4           4     Radar E/W Scientists   \n",
       "\n",
       "                                     Job Description  \\\n",
       "0  As a critical member of the Stream Systems’ te...   \n",
       "1  As a critical member of the Stream Systems’ te...   \n",
       "2  Numerator is a data and tech company bringing ...   \n",
       "3  RadarE/W Scientists, Ottawa Canada\\n\\nRemote w...   \n",
       "4  RadarE/W Scientists, Ottawa Canada\\n\\nRemote w...   \n",
       "\n",
       "                                        Company Name Location  \n",
       "0                                         Cadre\\n5.0  Calgary  \n",
       "1                                         Cadre\\n5.0  Calgary  \n",
       "2                                     Numerator\\n4.1   Remote  \n",
       "3  Leonardo Canada - Electronics (TTI - Tactical ...   Ottawa  \n",
       "4  Leonardo Canada - Electronics (TTI - Tactical ...   Ottawa  "
      ]
     },
     "execution_count": 39,
     "metadata": {},
     "output_type": "execute_result"
    }
   ],
   "source": [
    "new_glassdoor = pd.read_csv(\"data/glassdoor_jobs.csv\")\n",
    "new_glassdoor.head()"
   ]
  },
  {
   "cell_type": "code",
   "execution_count": 40,
   "id": "9bc35374-23f9-46c1-87b4-0ced0deb01fd",
   "metadata": {},
   "outputs": [],
   "source": [
    "new_glassdoor = new_glassdoor[['Job Title','Job Description']]\n",
    "new_glassdoor.rename(columns={\"Job Title\":\"job_title\",\"Job Description\":\"Content\"},inplace=True)\n",
    "new_glassdoor['source'] = 'Kaggle'\n",
    "new_glassdoor['label'] = 'job_description'\n"
   ]
  },
  {
   "cell_type": "code",
   "execution_count": 41,
   "id": "32bfcad6-086c-4bb9-8359-49971392a32d",
   "metadata": {},
   "outputs": [
    {
     "data": {
      "text/plain": [
       "Data Engineer                                                                 133\n",
       "Data Scientist                                                                 85\n",
       "Senior Data Scientist                                                          37\n",
       "Senior Data Engineer                                                           11\n",
       "Big Data Engineer                                                               9\n",
       "Cloud Data Engineer                                                             9\n",
       "Data Science Instructor                                                         6\n",
       "Lead Data Scientist                                                             6\n",
       "Data Engineer, Analytics and Business Planning - Canadian Business Banking      6\n",
       "Intermediate Data Engineer                                                      5\n",
       "Name: job_title, dtype: int64"
      ]
     },
     "execution_count": 41,
     "metadata": {},
     "output_type": "execute_result"
    }
   ],
   "source": [
    "new_glassdoor['job_title'].value_counts()[:10]"
   ]
  },
  {
   "cell_type": "markdown",
   "id": "ad4d19ba-310a-4845-ba2c-faf02af16687",
   "metadata": {},
   "source": [
    "* add 50 Data Scientist job to have as much as Data Engineer job job: 85"
   ]
  },
  {
   "cell_type": "code",
   "execution_count": 42,
   "id": "f239c3c6-af57-4c44-b687-2645581d41c5",
   "metadata": {},
   "outputs": [
    {
     "name": "stdout",
     "output_type": "stream",
     "text": [
      "(85, 4)\n"
     ]
    },
    {
     "data": {
      "text/html": [
       "<div>\n",
       "<style scoped>\n",
       "    .dataframe tbody tr th:only-of-type {\n",
       "        vertical-align: middle;\n",
       "    }\n",
       "\n",
       "    .dataframe tbody tr th {\n",
       "        vertical-align: top;\n",
       "    }\n",
       "\n",
       "    .dataframe thead th {\n",
       "        text-align: right;\n",
       "    }\n",
       "</style>\n",
       "<table border=\"1\" class=\"dataframe\">\n",
       "  <thead>\n",
       "    <tr style=\"text-align: right;\">\n",
       "      <th></th>\n",
       "      <th>job_title</th>\n",
       "      <th>Content</th>\n",
       "      <th>source</th>\n",
       "      <th>label</th>\n",
       "    </tr>\n",
       "  </thead>\n",
       "  <tbody>\n",
       "    <tr>\n",
       "      <th>23</th>\n",
       "      <td>Data Scientist</td>\n",
       "      <td>Reporting to the Technical Manager, Digital Pr...</td>\n",
       "      <td>Kaggle</td>\n",
       "      <td>job_description</td>\n",
       "    </tr>\n",
       "    <tr>\n",
       "      <th>24</th>\n",
       "      <td>Data Scientist</td>\n",
       "      <td>Spare is looking for a Data Scientist to join ...</td>\n",
       "      <td>Kaggle</td>\n",
       "      <td>job_description</td>\n",
       "    </tr>\n",
       "    <tr>\n",
       "      <th>27</th>\n",
       "      <td>Data Scientist</td>\n",
       "      <td>Our research team’s core mission is protecting...</td>\n",
       "      <td>Kaggle</td>\n",
       "      <td>job_description</td>\n",
       "    </tr>\n",
       "    <tr>\n",
       "      <th>28</th>\n",
       "      <td>Data Scientist</td>\n",
       "      <td>Our research team’s core mission is protecting...</td>\n",
       "      <td>Kaggle</td>\n",
       "      <td>job_description</td>\n",
       "    </tr>\n",
       "    <tr>\n",
       "      <th>30</th>\n",
       "      <td>Data Scientist</td>\n",
       "      <td>At Canada Drives, we believe the experience of...</td>\n",
       "      <td>Kaggle</td>\n",
       "      <td>job_description</td>\n",
       "    </tr>\n",
       "  </tbody>\n",
       "</table>\n",
       "</div>"
      ],
      "text/plain": [
       "         job_title                                            Content  source  \\\n",
       "23  Data Scientist  Reporting to the Technical Manager, Digital Pr...  Kaggle   \n",
       "24  Data Scientist  Spare is looking for a Data Scientist to join ...  Kaggle   \n",
       "27  Data Scientist  Our research team’s core mission is protecting...  Kaggle   \n",
       "28  Data Scientist  Our research team’s core mission is protecting...  Kaggle   \n",
       "30  Data Scientist  At Canada Drives, we believe the experience of...  Kaggle   \n",
       "\n",
       "              label  \n",
       "23  job_description  \n",
       "24  job_description  \n",
       "27  job_description  \n",
       "28  job_description  \n",
       "30  job_description  "
      ]
     },
     "execution_count": 42,
     "metadata": {},
     "output_type": "execute_result"
    }
   ],
   "source": [
    "add_data_scientist = new_glassdoor[new_glassdoor['job_title']==\"Data Scientist\"]\n",
    "print(add_data_scientist.shape)\n",
    "add_data_scientist.head()"
   ]
  },
  {
   "cell_type": "code",
   "execution_count": 43,
   "id": "9e35de5f-ab14-435d-a15f-7f245f0039f0",
   "metadata": {},
   "outputs": [],
   "source": [
    "all_job_description_data = all_job_description_data.append(add_data_scientist,ignore_index=True)"
   ]
  },
  {
   "cell_type": "code",
   "execution_count": 44,
   "id": "19a268e1-f7b6-4bcf-8627-61df86c9641d",
   "metadata": {},
   "outputs": [
    {
     "data": {
      "text/plain": [
       "Data Scientist        267\n",
       "Data Engineer         232\n",
       "Big Data Developer    106\n",
       "Data Analyst          101\n",
       "other                  21\n",
       "Name: job_title, dtype: int64"
      ]
     },
     "execution_count": 44,
     "metadata": {},
     "output_type": "execute_result"
    }
   ],
   "source": [
    "all_job_description_data['job_title'].value_counts()"
   ]
  },
  {
   "cell_type": "code",
   "execution_count": 45,
   "id": "f58ced30-0854-4a92-8713-d2745f1875da",
   "metadata": {},
   "outputs": [
    {
     "data": {
      "text/html": [
       "<div>\n",
       "<style scoped>\n",
       "    .dataframe tbody tr th:only-of-type {\n",
       "        vertical-align: middle;\n",
       "    }\n",
       "\n",
       "    .dataframe tbody tr th {\n",
       "        vertical-align: top;\n",
       "    }\n",
       "\n",
       "    .dataframe thead th {\n",
       "        text-align: right;\n",
       "    }\n",
       "</style>\n",
       "<table border=\"1\" class=\"dataframe\">\n",
       "  <thead>\n",
       "    <tr style=\"text-align: right;\">\n",
       "      <th></th>\n",
       "      <th>Content</th>\n",
       "      <th>source</th>\n",
       "      <th>job_title</th>\n",
       "      <th>label</th>\n",
       "    </tr>\n",
       "  </thead>\n",
       "  <tbody>\n",
       "    <tr>\n",
       "      <th>645</th>\n",
       "      <td>Our research team’s core mission is protecting...</td>\n",
       "      <td>Kaggle</td>\n",
       "      <td>Data Scientist</td>\n",
       "      <td>job_description</td>\n",
       "    </tr>\n",
       "    <tr>\n",
       "      <th>650</th>\n",
       "      <td>Job Description\\n\\n\\nOur Precima team helps re...</td>\n",
       "      <td>Kaggle</td>\n",
       "      <td>Data Scientist</td>\n",
       "      <td>job_description</td>\n",
       "    </tr>\n",
       "    <tr>\n",
       "      <th>652</th>\n",
       "      <td>Our world relies on AI more and more each day....</td>\n",
       "      <td>Kaggle</td>\n",
       "      <td>Data Scientist</td>\n",
       "      <td>job_description</td>\n",
       "    </tr>\n",
       "    <tr>\n",
       "      <th>654</th>\n",
       "      <td>Type: Full-Time\\nPrimary Location: Canada\\nEdu...</td>\n",
       "      <td>Kaggle</td>\n",
       "      <td>Data Scientist</td>\n",
       "      <td>job_description</td>\n",
       "    </tr>\n",
       "    <tr>\n",
       "      <th>667</th>\n",
       "      <td>OPENTEXT - THE INFORMATION COMPANY\\n\\nAs the I...</td>\n",
       "      <td>Kaggle</td>\n",
       "      <td>Data Scientist</td>\n",
       "      <td>job_description</td>\n",
       "    </tr>\n",
       "    <tr>\n",
       "      <th>668</th>\n",
       "      <td>Bachelor's Degree\\n3+ years of experience with...</td>\n",
       "      <td>Kaggle</td>\n",
       "      <td>Data Scientist</td>\n",
       "      <td>job_description</td>\n",
       "    </tr>\n",
       "    <tr>\n",
       "      <th>672</th>\n",
       "      <td>Ready to create innovative solutions and best ...</td>\n",
       "      <td>Kaggle</td>\n",
       "      <td>Data Scientist</td>\n",
       "      <td>job_description</td>\n",
       "    </tr>\n",
       "    <tr>\n",
       "      <th>674</th>\n",
       "      <td>The CTC Personalization &amp; Customer Analytics t...</td>\n",
       "      <td>Kaggle</td>\n",
       "      <td>Data Scientist</td>\n",
       "      <td>job_description</td>\n",
       "    </tr>\n",
       "    <tr>\n",
       "      <th>677</th>\n",
       "      <td>Data Scientist\\n\\nSequence Bio is a dedicated ...</td>\n",
       "      <td>Kaggle</td>\n",
       "      <td>Data Scientist</td>\n",
       "      <td>job_description</td>\n",
       "    </tr>\n",
       "    <tr>\n",
       "      <th>682</th>\n",
       "      <td>The Company You’ll Join\\n\\nAt Carta we create ...</td>\n",
       "      <td>Kaggle</td>\n",
       "      <td>Data Scientist</td>\n",
       "      <td>job_description</td>\n",
       "    </tr>\n",
       "    <tr>\n",
       "      <th>685</th>\n",
       "      <td>Dawn InfoTek Inc. is a professional IT consult...</td>\n",
       "      <td>Kaggle</td>\n",
       "      <td>Data Scientist</td>\n",
       "      <td>job_description</td>\n",
       "    </tr>\n",
       "    <tr>\n",
       "      <th>691</th>\n",
       "      <td>Job Overview\\n\\n\\nSomaDetect is a high-growth ...</td>\n",
       "      <td>Kaggle</td>\n",
       "      <td>Data Scientist</td>\n",
       "      <td>job_description</td>\n",
       "    </tr>\n",
       "    <tr>\n",
       "      <th>698</th>\n",
       "      <td>Company Information\\n\\n\\nName of Hiring Compan...</td>\n",
       "      <td>Kaggle</td>\n",
       "      <td>Data Scientist</td>\n",
       "      <td>job_description</td>\n",
       "    </tr>\n",
       "    <tr>\n",
       "      <th>704</th>\n",
       "      <td>Transforming the Future with the Convergence o...</td>\n",
       "      <td>Kaggle</td>\n",
       "      <td>Data Scientist</td>\n",
       "      <td>job_description</td>\n",
       "    </tr>\n",
       "    <tr>\n",
       "      <th>707</th>\n",
       "      <td>We are looking for a great Data Scientist to j...</td>\n",
       "      <td>Kaggle</td>\n",
       "      <td>Data Scientist</td>\n",
       "      <td>job_description</td>\n",
       "    </tr>\n",
       "    <tr>\n",
       "      <th>709</th>\n",
       "      <td>About Guestlogix:\\n\\nWe take the stress out of...</td>\n",
       "      <td>Kaggle</td>\n",
       "      <td>Data Scientist</td>\n",
       "      <td>job_description</td>\n",
       "    </tr>\n",
       "    <tr>\n",
       "      <th>712</th>\n",
       "      <td>Company Description\\n\\n\\nAt thinking Capital, ...</td>\n",
       "      <td>Kaggle</td>\n",
       "      <td>Data Scientist</td>\n",
       "      <td>job_description</td>\n",
       "    </tr>\n",
       "    <tr>\n",
       "      <th>717</th>\n",
       "      <td>Duties/Responsibilities:\\n\\nIdentify valuable ...</td>\n",
       "      <td>Kaggle</td>\n",
       "      <td>Data Scientist</td>\n",
       "      <td>job_description</td>\n",
       "    </tr>\n",
       "    <tr>\n",
       "      <th>718</th>\n",
       "      <td>Duties/Responsibilities:\\n\\nIdentify valuable ...</td>\n",
       "      <td>Kaggle</td>\n",
       "      <td>Data Scientist</td>\n",
       "      <td>job_description</td>\n",
       "    </tr>\n",
       "  </tbody>\n",
       "</table>\n",
       "</div>"
      ],
      "text/plain": [
       "                                               Content  source  \\\n",
       "645  Our research team’s core mission is protecting...  Kaggle   \n",
       "650  Job Description\\n\\n\\nOur Precima team helps re...  Kaggle   \n",
       "652  Our world relies on AI more and more each day....  Kaggle   \n",
       "654  Type: Full-Time\\nPrimary Location: Canada\\nEdu...  Kaggle   \n",
       "667  OPENTEXT - THE INFORMATION COMPANY\\n\\nAs the I...  Kaggle   \n",
       "668  Bachelor's Degree\\n3+ years of experience with...  Kaggle   \n",
       "672  Ready to create innovative solutions and best ...  Kaggle   \n",
       "674  The CTC Personalization & Customer Analytics t...  Kaggle   \n",
       "677  Data Scientist\\n\\nSequence Bio is a dedicated ...  Kaggle   \n",
       "682  The Company You’ll Join\\n\\nAt Carta we create ...  Kaggle   \n",
       "685  Dawn InfoTek Inc. is a professional IT consult...  Kaggle   \n",
       "691  Job Overview\\n\\n\\nSomaDetect is a high-growth ...  Kaggle   \n",
       "698  Company Information\\n\\n\\nName of Hiring Compan...  Kaggle   \n",
       "704  Transforming the Future with the Convergence o...  Kaggle   \n",
       "707  We are looking for a great Data Scientist to j...  Kaggle   \n",
       "709  About Guestlogix:\\n\\nWe take the stress out of...  Kaggle   \n",
       "712  Company Description\\n\\n\\nAt thinking Capital, ...  Kaggle   \n",
       "717  Duties/Responsibilities:\\n\\nIdentify valuable ...  Kaggle   \n",
       "718  Duties/Responsibilities:\\n\\nIdentify valuable ...  Kaggle   \n",
       "\n",
       "          job_title            label  \n",
       "645  Data Scientist  job_description  \n",
       "650  Data Scientist  job_description  \n",
       "652  Data Scientist  job_description  \n",
       "654  Data Scientist  job_description  \n",
       "667  Data Scientist  job_description  \n",
       "668  Data Scientist  job_description  \n",
       "672  Data Scientist  job_description  \n",
       "674  Data Scientist  job_description  \n",
       "677  Data Scientist  job_description  \n",
       "682  Data Scientist  job_description  \n",
       "685  Data Scientist  job_description  \n",
       "691  Data Scientist  job_description  \n",
       "698  Data Scientist  job_description  \n",
       "704  Data Scientist  job_description  \n",
       "707  Data Scientist  job_description  \n",
       "709  Data Scientist  job_description  \n",
       "712  Data Scientist  job_description  \n",
       "717  Data Scientist  job_description  \n",
       "718  Data Scientist  job_description  "
      ]
     },
     "execution_count": 45,
     "metadata": {},
     "output_type": "execute_result"
    }
   ],
   "source": [
    "all_job_description_data[all_job_description_data.duplicated()]"
   ]
  },
  {
   "cell_type": "code",
   "execution_count": 46,
   "id": "d84fa983-d0a7-437f-8618-d98805fd9ec6",
   "metadata": {},
   "outputs": [],
   "source": [
    "all_job_description_data.drop_duplicates(inplace=True)"
   ]
  },
  {
   "cell_type": "code",
   "execution_count": 47,
   "id": "82f082b2-f124-4719-9cd1-a1268e5cccab",
   "metadata": {},
   "outputs": [
    {
     "data": {
      "text/plain": [
       "Data Scientist        248\n",
       "Data Engineer         232\n",
       "Big Data Developer    106\n",
       "Data Analyst          101\n",
       "other                  21\n",
       "Name: job_title, dtype: int64"
      ]
     },
     "execution_count": 47,
     "metadata": {},
     "output_type": "execute_result"
    }
   ],
   "source": [
    "all_job_description_data['job_title'].value_counts()"
   ]
  },
  {
   "cell_type": "markdown",
   "id": "48740a31-953a-4f4a-b297-86f2acd42e5a",
   "metadata": {},
   "source": [
    "## New Kaggle data\n",
    "https://www.kaggle.com/code/chadalee/text-analytics-explained-job-description-data/data"
   ]
  },
  {
   "cell_type": "code",
   "execution_count": 48,
   "id": "c8ca4243-c911-4cbe-8606-7545bd2ce57d",
   "metadata": {},
   "outputs": [
    {
     "data": {
      "text/html": [
       "<div>\n",
       "<style scoped>\n",
       "    .dataframe tbody tr th:only-of-type {\n",
       "        vertical-align: middle;\n",
       "    }\n",
       "\n",
       "    .dataframe tbody tr th {\n",
       "        vertical-align: top;\n",
       "    }\n",
       "\n",
       "    .dataframe thead th {\n",
       "        text-align: right;\n",
       "    }\n",
       "</style>\n",
       "<table border=\"1\" class=\"dataframe\">\n",
       "  <thead>\n",
       "    <tr style=\"text-align: right;\">\n",
       "      <th></th>\n",
       "      <th>Id</th>\n",
       "      <th>Title</th>\n",
       "      <th>FullDescription</th>\n",
       "      <th>LocationRaw</th>\n",
       "      <th>LocationNormalized</th>\n",
       "      <th>ContractType</th>\n",
       "      <th>ContractTime</th>\n",
       "      <th>Company</th>\n",
       "      <th>Category</th>\n",
       "      <th>SalaryRaw</th>\n",
       "      <th>SalaryNormalized</th>\n",
       "      <th>SourceName</th>\n",
       "    </tr>\n",
       "  </thead>\n",
       "  <tbody>\n",
       "    <tr>\n",
       "      <th>0</th>\n",
       "      <td>12612628</td>\n",
       "      <td>Engineering Systems Analyst</td>\n",
       "      <td>Engineering Systems Analyst Dorking Surrey Sal...</td>\n",
       "      <td>Dorking, Surrey, Surrey</td>\n",
       "      <td>Dorking</td>\n",
       "      <td>NaN</td>\n",
       "      <td>permanent</td>\n",
       "      <td>Gregory Martin International</td>\n",
       "      <td>Engineering Jobs</td>\n",
       "      <td>20000 - 30000/annum 20-30K</td>\n",
       "      <td>25000</td>\n",
       "      <td>cv-library.co.uk</td>\n",
       "    </tr>\n",
       "    <tr>\n",
       "      <th>1</th>\n",
       "      <td>12612830</td>\n",
       "      <td>Stress Engineer Glasgow</td>\n",
       "      <td>Stress Engineer Glasgow Salary **** to **** We...</td>\n",
       "      <td>Glasgow, Scotland, Scotland</td>\n",
       "      <td>Glasgow</td>\n",
       "      <td>NaN</td>\n",
       "      <td>permanent</td>\n",
       "      <td>Gregory Martin International</td>\n",
       "      <td>Engineering Jobs</td>\n",
       "      <td>25000 - 35000/annum 25-35K</td>\n",
       "      <td>30000</td>\n",
       "      <td>cv-library.co.uk</td>\n",
       "    </tr>\n",
       "    <tr>\n",
       "      <th>2</th>\n",
       "      <td>12612844</td>\n",
       "      <td>Modelling and simulation analyst</td>\n",
       "      <td>Mathematical Modeller / Simulation Analyst / O...</td>\n",
       "      <td>Hampshire, South East, South East</td>\n",
       "      <td>Hampshire</td>\n",
       "      <td>NaN</td>\n",
       "      <td>permanent</td>\n",
       "      <td>Gregory Martin International</td>\n",
       "      <td>Engineering Jobs</td>\n",
       "      <td>20000 - 40000/annum 20-40K</td>\n",
       "      <td>30000</td>\n",
       "      <td>cv-library.co.uk</td>\n",
       "    </tr>\n",
       "    <tr>\n",
       "      <th>3</th>\n",
       "      <td>12613049</td>\n",
       "      <td>Engineering Systems Analyst / Mathematical Mod...</td>\n",
       "      <td>Engineering Systems Analyst / Mathematical Mod...</td>\n",
       "      <td>Surrey, South East, South East</td>\n",
       "      <td>Surrey</td>\n",
       "      <td>NaN</td>\n",
       "      <td>permanent</td>\n",
       "      <td>Gregory Martin International</td>\n",
       "      <td>Engineering Jobs</td>\n",
       "      <td>25000 - 30000/annum 25K-30K negotiable</td>\n",
       "      <td>27500</td>\n",
       "      <td>cv-library.co.uk</td>\n",
       "    </tr>\n",
       "    <tr>\n",
       "      <th>4</th>\n",
       "      <td>12613647</td>\n",
       "      <td>Pioneer, Miser Engineering Systems Analyst</td>\n",
       "      <td>Pioneer, Miser  Engineering Systems Analyst Do...</td>\n",
       "      <td>Surrey, South East, South East</td>\n",
       "      <td>Surrey</td>\n",
       "      <td>NaN</td>\n",
       "      <td>permanent</td>\n",
       "      <td>Gregory Martin International</td>\n",
       "      <td>Engineering Jobs</td>\n",
       "      <td>20000 - 30000/annum 20-30K</td>\n",
       "      <td>25000</td>\n",
       "      <td>cv-library.co.uk</td>\n",
       "    </tr>\n",
       "  </tbody>\n",
       "</table>\n",
       "</div>"
      ],
      "text/plain": [
       "         Id                                              Title  \\\n",
       "0  12612628                        Engineering Systems Analyst   \n",
       "1  12612830                            Stress Engineer Glasgow   \n",
       "2  12612844                   Modelling and simulation analyst   \n",
       "3  12613049  Engineering Systems Analyst / Mathematical Mod...   \n",
       "4  12613647         Pioneer, Miser Engineering Systems Analyst   \n",
       "\n",
       "                                     FullDescription  \\\n",
       "0  Engineering Systems Analyst Dorking Surrey Sal...   \n",
       "1  Stress Engineer Glasgow Salary **** to **** We...   \n",
       "2  Mathematical Modeller / Simulation Analyst / O...   \n",
       "3  Engineering Systems Analyst / Mathematical Mod...   \n",
       "4  Pioneer, Miser  Engineering Systems Analyst Do...   \n",
       "\n",
       "                         LocationRaw LocationNormalized ContractType  \\\n",
       "0            Dorking, Surrey, Surrey            Dorking          NaN   \n",
       "1        Glasgow, Scotland, Scotland            Glasgow          NaN   \n",
       "2  Hampshire, South East, South East          Hampshire          NaN   \n",
       "3     Surrey, South East, South East             Surrey          NaN   \n",
       "4     Surrey, South East, South East             Surrey          NaN   \n",
       "\n",
       "  ContractTime                       Company          Category  \\\n",
       "0    permanent  Gregory Martin International  Engineering Jobs   \n",
       "1    permanent  Gregory Martin International  Engineering Jobs   \n",
       "2    permanent  Gregory Martin International  Engineering Jobs   \n",
       "3    permanent  Gregory Martin International  Engineering Jobs   \n",
       "4    permanent  Gregory Martin International  Engineering Jobs   \n",
       "\n",
       "                                SalaryRaw  SalaryNormalized        SourceName  \n",
       "0              20000 - 30000/annum 20-30K             25000  cv-library.co.uk  \n",
       "1              25000 - 35000/annum 25-35K             30000  cv-library.co.uk  \n",
       "2              20000 - 40000/annum 20-40K             30000  cv-library.co.uk  \n",
       "3  25000 - 30000/annum 25K-30K negotiable             27500  cv-library.co.uk  \n",
       "4              20000 - 30000/annum 20-30K             25000  cv-library.co.uk  "
      ]
     },
     "execution_count": 48,
     "metadata": {},
     "output_type": "execute_result"
    }
   ],
   "source": [
    "df = pd.read_csv('data/Train_rev1.csv')\n",
    "df.head()\n"
   ]
  },
  {
   "cell_type": "code",
   "execution_count": 49,
   "id": "216a423d-ae5d-4dfe-9b92-3278170b3e2a",
   "metadata": {},
   "outputs": [
    {
     "data": {
      "text/plain": [
       "Id                         0\n",
       "Title                      1\n",
       "FullDescription            0\n",
       "LocationRaw                0\n",
       "LocationNormalized         0\n",
       "ContractType          179326\n",
       "ContractTime           63905\n",
       "Company                32430\n",
       "Category                   0\n",
       "SalaryRaw                  0\n",
       "SalaryNormalized           0\n",
       "SourceName                 1\n",
       "dtype: int64"
      ]
     },
     "execution_count": 49,
     "metadata": {},
     "output_type": "execute_result"
    }
   ],
   "source": [
    "df.isnull().sum()"
   ]
  },
  {
   "cell_type": "code",
   "execution_count": 50,
   "id": "cc6b17ae-9522-43a1-b090-08cca4a3d766",
   "metadata": {},
   "outputs": [
    {
     "data": {
      "text/html": [
       "<div>\n",
       "<style scoped>\n",
       "    .dataframe tbody tr th:only-of-type {\n",
       "        vertical-align: middle;\n",
       "    }\n",
       "\n",
       "    .dataframe tbody tr th {\n",
       "        vertical-align: top;\n",
       "    }\n",
       "\n",
       "    .dataframe thead th {\n",
       "        text-align: right;\n",
       "    }\n",
       "</style>\n",
       "<table border=\"1\" class=\"dataframe\">\n",
       "  <thead>\n",
       "    <tr style=\"text-align: right;\">\n",
       "      <th></th>\n",
       "      <th>job_title</th>\n",
       "      <th>Content</th>\n",
       "      <th>source</th>\n",
       "      <th>label</th>\n",
       "    </tr>\n",
       "  </thead>\n",
       "  <tbody>\n",
       "    <tr>\n",
       "      <th>0</th>\n",
       "      <td>Engineering Systems Analyst</td>\n",
       "      <td>Engineering Systems Analyst Dorking Surrey Sal...</td>\n",
       "      <td>Kaggle</td>\n",
       "      <td>job_description</td>\n",
       "    </tr>\n",
       "    <tr>\n",
       "      <th>1</th>\n",
       "      <td>Stress Engineer Glasgow</td>\n",
       "      <td>Stress Engineer Glasgow Salary **** to **** We...</td>\n",
       "      <td>Kaggle</td>\n",
       "      <td>job_description</td>\n",
       "    </tr>\n",
       "    <tr>\n",
       "      <th>2</th>\n",
       "      <td>Modelling and simulation analyst</td>\n",
       "      <td>Mathematical Modeller / Simulation Analyst / O...</td>\n",
       "      <td>Kaggle</td>\n",
       "      <td>job_description</td>\n",
       "    </tr>\n",
       "    <tr>\n",
       "      <th>3</th>\n",
       "      <td>Engineering Systems Analyst / Mathematical Mod...</td>\n",
       "      <td>Engineering Systems Analyst / Mathematical Mod...</td>\n",
       "      <td>Kaggle</td>\n",
       "      <td>job_description</td>\n",
       "    </tr>\n",
       "    <tr>\n",
       "      <th>4</th>\n",
       "      <td>Pioneer, Miser Engineering Systems Analyst</td>\n",
       "      <td>Pioneer, Miser  Engineering Systems Analyst Do...</td>\n",
       "      <td>Kaggle</td>\n",
       "      <td>job_description</td>\n",
       "    </tr>\n",
       "  </tbody>\n",
       "</table>\n",
       "</div>"
      ],
      "text/plain": [
       "                                           job_title  \\\n",
       "0                        Engineering Systems Analyst   \n",
       "1                            Stress Engineer Glasgow   \n",
       "2                   Modelling and simulation analyst   \n",
       "3  Engineering Systems Analyst / Mathematical Mod...   \n",
       "4         Pioneer, Miser Engineering Systems Analyst   \n",
       "\n",
       "                                             Content  source            label  \n",
       "0  Engineering Systems Analyst Dorking Surrey Sal...  Kaggle  job_description  \n",
       "1  Stress Engineer Glasgow Salary **** to **** We...  Kaggle  job_description  \n",
       "2  Mathematical Modeller / Simulation Analyst / O...  Kaggle  job_description  \n",
       "3  Engineering Systems Analyst / Mathematical Mod...  Kaggle  job_description  \n",
       "4  Pioneer, Miser  Engineering Systems Analyst Do...  Kaggle  job_description  "
      ]
     },
     "execution_count": 50,
     "metadata": {},
     "output_type": "execute_result"
    }
   ],
   "source": [
    "df = df[['Title','FullDescription']]\n",
    "df.rename(columns={\"Title\":\"job_title\",\"FullDescription\":\"Content\"},inplace=True)\n",
    "df['source'] = 'Kaggle'\n",
    "df['label'] = 'job_description'\n",
    "df.head()"
   ]
  },
  {
   "cell_type": "code",
   "execution_count": 51,
   "id": "e470a214-a0ac-4062-b52b-b168ba84b585",
   "metadata": {},
   "outputs": [],
   "source": [
    "df.dropna(inplace=True)"
   ]
  },
  {
   "cell_type": "code",
   "execution_count": 52,
   "id": "75cf0b6e-27a2-4804-b39a-99d5c994b906",
   "metadata": {},
   "outputs": [],
   "source": [
    "df.drop_duplicates(inplace=True)"
   ]
  },
  {
   "cell_type": "code",
   "execution_count": 53,
   "id": "1c00999a-6528-4d1c-a01c-2dce201b1135",
   "metadata": {},
   "outputs": [
    {
     "data": {
      "text/plain": [
       "Business Development Manager    916\n",
       "Project Manager                 747\n",
       "Management Accountant           658\n",
       "Sales Executive                 602\n",
       "Account Manager                 538\n",
       "Finance Manager                 456\n",
       "Mechanical Design Engineer      455\n",
       "Credit Controller               438\n",
       "Cleaner                         435\n",
       "Accounts Assistant              434\n",
       "Administrator                   428\n",
       "Recruitment Consultant          423\n",
       "Assistant Manager               392\n",
       "Financial Controller            387\n",
       "Sales Manager                   356\n",
       "Name: job_title, dtype: int64"
      ]
     },
     "execution_count": 53,
     "metadata": {},
     "output_type": "execute_result"
    }
   ],
   "source": [
    " df['job_title'].value_counts() [:15]"
   ]
  },
  {
   "cell_type": "markdown",
   "id": "80f2a4ea-7651-44d2-9b96-47ac6e33ecba",
   "metadata": {},
   "source": [
    "* Other(mix of several types of job) "
   ]
  },
  {
   "cell_type": "markdown",
   "id": "60dcf411-004d-4b37-bd2e-a314234ecc07",
   "metadata": {},
   "source": [
    "We need 232 raw data of job descritpion with jo title = Other, I'll create a function to take a mix of 232-21= 211 data among the 15 most represented JOB of df"
   ]
  },
  {
   "cell_type": "code",
   "execution_count": 54,
   "id": "0709bb81-5611-48c4-8407-78f396d52721",
   "metadata": {},
   "outputs": [],
   "source": [
    "def new_job_data(df):\n",
    "    new_job_title = df['job_title'].value_counts() [:15].index\n",
    "    new_job_title = new_job_title.to_list()\n",
    "    new_data = pd.DataFrame()\n",
    "    for i in range (len(new_job_title)):\n",
    "        new_job = df[df[\"job_title\"]==new_job_title[i]][:14] # to have 14*15 = 210\n",
    "        new_data = new_data.append(new_job,ignore_index=True)\n",
    "    new_data[\"job_title\"] = \"other\"\n",
    "    print(new_data.shape)\n",
    "    return(new_data)\n"
   ]
  },
  {
   "cell_type": "code",
   "execution_count": 55,
   "id": "f67bf0ba-1e82-40e0-b1bd-aa8060d051cc",
   "metadata": {},
   "outputs": [
    {
     "name": "stdout",
     "output_type": "stream",
     "text": [
      "(210, 4)\n"
     ]
    },
    {
     "data": {
      "text/html": [
       "<div>\n",
       "<style scoped>\n",
       "    .dataframe tbody tr th:only-of-type {\n",
       "        vertical-align: middle;\n",
       "    }\n",
       "\n",
       "    .dataframe tbody tr th {\n",
       "        vertical-align: top;\n",
       "    }\n",
       "\n",
       "    .dataframe thead th {\n",
       "        text-align: right;\n",
       "    }\n",
       "</style>\n",
       "<table border=\"1\" class=\"dataframe\">\n",
       "  <thead>\n",
       "    <tr style=\"text-align: right;\">\n",
       "      <th></th>\n",
       "      <th>job_title</th>\n",
       "      <th>Content</th>\n",
       "      <th>source</th>\n",
       "      <th>label</th>\n",
       "    </tr>\n",
       "  </thead>\n",
       "  <tbody>\n",
       "    <tr>\n",
       "      <th>0</th>\n",
       "      <td>other</td>\n",
       "      <td>The Company: Our client are a full service, cr...</td>\n",
       "      <td>Kaggle</td>\n",
       "      <td>job_description</td>\n",
       "    </tr>\n",
       "    <tr>\n",
       "      <th>1</th>\n",
       "      <td>other</td>\n",
       "      <td>Business Development Manager Hays Facilities M...</td>\n",
       "      <td>Kaggle</td>\n",
       "      <td>job_description</td>\n",
       "    </tr>\n",
       "    <tr>\n",
       "      <th>2</th>\n",
       "      <td>other</td>\n",
       "      <td>Business Development Manager to win new busine...</td>\n",
       "      <td>Kaggle</td>\n",
       "      <td>job_description</td>\n",
       "    </tr>\n",
       "    <tr>\n",
       "      <th>3</th>\n",
       "      <td>other</td>\n",
       "      <td>This is a work from home opportunity with an a...</td>\n",
       "      <td>Kaggle</td>\n",
       "      <td>job_description</td>\n",
       "    </tr>\n",
       "    <tr>\n",
       "      <th>4</th>\n",
       "      <td>other</td>\n",
       "      <td>Our client, a UK international law firm, is se...</td>\n",
       "      <td>Kaggle</td>\n",
       "      <td>job_description</td>\n",
       "    </tr>\n",
       "  </tbody>\n",
       "</table>\n",
       "</div>"
      ],
      "text/plain": [
       "  job_title                                            Content  source  \\\n",
       "0     other  The Company: Our client are a full service, cr...  Kaggle   \n",
       "1     other  Business Development Manager Hays Facilities M...  Kaggle   \n",
       "2     other  Business Development Manager to win new busine...  Kaggle   \n",
       "3     other  This is a work from home opportunity with an a...  Kaggle   \n",
       "4     other  Our client, a UK international law firm, is se...  Kaggle   \n",
       "\n",
       "             label  \n",
       "0  job_description  \n",
       "1  job_description  \n",
       "2  job_description  \n",
       "3  job_description  \n",
       "4  job_description  "
      ]
     },
     "execution_count": 55,
     "metadata": {},
     "output_type": "execute_result"
    }
   ],
   "source": [
    "mix_job = new_job_data(df)\n",
    "mix_job.head()\n"
   ]
  },
  {
   "cell_type": "code",
   "execution_count": 56,
   "id": "a2964725-06e6-4f7d-93fa-5943893a27d8",
   "metadata": {},
   "outputs": [
    {
     "data": {
      "text/plain": [
       "Data Scientist        248\n",
       "Data Engineer         232\n",
       "other                 231\n",
       "Big Data Developer    106\n",
       "Data Analyst          101\n",
       "Name: job_title, dtype: int64"
      ]
     },
     "execution_count": 56,
     "metadata": {},
     "output_type": "execute_result"
    }
   ],
   "source": [
    "all_job_description_data = all_job_description_data.append(mix_job,ignore_index=True)\n",
    "all_job_description_data['job_title'].value_counts()"
   ]
  },
  {
   "cell_type": "markdown",
   "id": "65e7c2f6-1d32-451d-b238-4bcc2f721e98",
   "metadata": {},
   "source": [
    "* Big Data Developer job:  19 "
   ]
  },
  {
   "cell_type": "code",
   "execution_count": 57,
   "id": "052bdafd-0759-4f34-973c-5c7983c877d0",
   "metadata": {},
   "outputs": [
    {
     "name": "stdout",
     "output_type": "stream",
     "text": [
      "(19, 4)\n"
     ]
    },
    {
     "name": "stderr",
     "output_type": "stream",
     "text": [
      "C:\\Users\\user\\anaconda3\\lib\\site-packages\\pandas\\core\\frame.py:4308: SettingWithCopyWarning: \n",
      "A value is trying to be set on a copy of a slice from a DataFrame\n",
      "\n",
      "See the caveats in the documentation: https://pandas.pydata.org/pandas-docs/stable/user_guide/indexing.html#returning-a-view-versus-a-copy\n",
      "  return super().drop(\n",
      "<ipython-input-57-dd90cce2b0bb>:3: SettingWithCopyWarning: \n",
      "A value is trying to be set on a copy of a slice from a DataFrame.\n",
      "Try using .loc[row_indexer,col_indexer] = value instead\n",
      "\n",
      "See the caveats in the documentation: https://pandas.pydata.org/pandas-docs/stable/user_guide/indexing.html#returning-a-view-versus-a-copy\n",
      "  add_Big_Data_Developer[\"job_title\"] = \"Big Data Developer\"\n"
     ]
    },
    {
     "data": {
      "text/html": [
       "<div>\n",
       "<style scoped>\n",
       "    .dataframe tbody tr th:only-of-type {\n",
       "        vertical-align: middle;\n",
       "    }\n",
       "\n",
       "    .dataframe tbody tr th {\n",
       "        vertical-align: top;\n",
       "    }\n",
       "\n",
       "    .dataframe thead th {\n",
       "        text-align: right;\n",
       "    }\n",
       "</style>\n",
       "<table border=\"1\" class=\"dataframe\">\n",
       "  <thead>\n",
       "    <tr style=\"text-align: right;\">\n",
       "      <th></th>\n",
       "      <th>job_title</th>\n",
       "      <th>Content</th>\n",
       "      <th>source</th>\n",
       "      <th>label</th>\n",
       "    </tr>\n",
       "  </thead>\n",
       "  <tbody>\n",
       "    <tr>\n",
       "      <th>38905</th>\n",
       "      <td>Big Data Developer</td>\n",
       "      <td>Java Developer with experience of some of Spri...</td>\n",
       "      <td>Kaggle</td>\n",
       "      <td>job_description</td>\n",
       "    </tr>\n",
       "    <tr>\n",
       "      <th>39067</th>\n",
       "      <td>Big Data Developer</td>\n",
       "      <td>Software Developer / Software Engineer (.Net) ...</td>\n",
       "      <td>Kaggle</td>\n",
       "      <td>job_description</td>\n",
       "    </tr>\n",
       "    <tr>\n",
       "      <th>64578</th>\n",
       "      <td>Big Data Developer</td>\n",
       "      <td>Software Developer / Software Engineer (.Net) ...</td>\n",
       "      <td>Kaggle</td>\n",
       "      <td>job_description</td>\n",
       "    </tr>\n",
       "    <tr>\n",
       "      <th>81850</th>\n",
       "      <td>Big Data Developer</td>\n",
       "      <td>PHP Developer in Big Data / NoSQL environment ...</td>\n",
       "      <td>Kaggle</td>\n",
       "      <td>job_description</td>\n",
       "    </tr>\n",
       "    <tr>\n",
       "      <th>112946</th>\n",
       "      <td>Big Data Developer</td>\n",
       "      <td>Quantitative Developer Core Java, Matlab, AGIL...</td>\n",
       "      <td>Kaggle</td>\n",
       "      <td>job_description</td>\n",
       "    </tr>\n",
       "  </tbody>\n",
       "</table>\n",
       "</div>"
      ],
      "text/plain": [
       "                 job_title                                            Content  \\\n",
       "38905   Big Data Developer  Java Developer with experience of some of Spri...   \n",
       "39067   Big Data Developer  Software Developer / Software Engineer (.Net) ...   \n",
       "64578   Big Data Developer  Software Developer / Software Engineer (.Net) ...   \n",
       "81850   Big Data Developer  PHP Developer in Big Data / NoSQL environment ...   \n",
       "112946  Big Data Developer  Quantitative Developer Core Java, Matlab, AGIL...   \n",
       "\n",
       "        source            label  \n",
       "38905   Kaggle  job_description  \n",
       "39067   Kaggle  job_description  \n",
       "64578   Kaggle  job_description  \n",
       "81850   Kaggle  job_description  \n",
       "112946  Kaggle  job_description  "
      ]
     },
     "execution_count": 57,
     "metadata": {},
     "output_type": "execute_result"
    }
   ],
   "source": [
    "add_Big_Data_Developer = df[df.job_title.str.contains(\" Developer .* Big Data\")]\n",
    "add_Big_Data_Developer.drop([17377,33578],inplace=True)\n",
    "add_Big_Data_Developer[\"job_title\"] = \"Big Data Developer\"\n",
    "print(add_Big_Data_Developer.shape)\n",
    "add_Big_Data_Developer.head()"
   ]
  },
  {
   "cell_type": "code",
   "execution_count": 58,
   "id": "1d22a005-fa7b-4fdd-9d8e-e22492b3d6a3",
   "metadata": {},
   "outputs": [
    {
     "data": {
      "text/plain": [
       "Data Scientist        248\n",
       "Data Engineer         232\n",
       "other                 231\n",
       "Big Data Developer    125\n",
       "Data Analyst          101\n",
       "Name: job_title, dtype: int64"
      ]
     },
     "execution_count": 58,
     "metadata": {},
     "output_type": "execute_result"
    }
   ],
   "source": [
    "all_job_description_data = all_job_description_data.append(add_Big_Data_Developer,ignore_index=True)\n",
    "all_job_description_data['job_title'].value_counts()"
   ]
  },
  {
   "cell_type": "markdown",
   "id": "847bc911-7dbe-40c0-b354-a3ac44fac9bb",
   "metadata": {},
   "source": [
    "* Data Analyst  job: 20"
   ]
  },
  {
   "cell_type": "code",
   "execution_count": 59,
   "id": "291985b9-a69c-4c8d-b03a-c1b4d7adac09",
   "metadata": {},
   "outputs": [
    {
     "name": "stdout",
     "output_type": "stream",
     "text": [
      "(99, 4)\n"
     ]
    },
    {
     "data": {
      "text/html": [
       "<div>\n",
       "<style scoped>\n",
       "    .dataframe tbody tr th:only-of-type {\n",
       "        vertical-align: middle;\n",
       "    }\n",
       "\n",
       "    .dataframe tbody tr th {\n",
       "        vertical-align: top;\n",
       "    }\n",
       "\n",
       "    .dataframe thead th {\n",
       "        text-align: right;\n",
       "    }\n",
       "</style>\n",
       "<table border=\"1\" class=\"dataframe\">\n",
       "  <thead>\n",
       "    <tr style=\"text-align: right;\">\n",
       "      <th></th>\n",
       "      <th>job_title</th>\n",
       "      <th>Content</th>\n",
       "      <th>source</th>\n",
       "      <th>label</th>\n",
       "    </tr>\n",
       "  </thead>\n",
       "  <tbody>\n",
       "    <tr>\n",
       "      <th>8740</th>\n",
       "      <td>Data Analyst</td>\n",
       "      <td>Data Analyst  Data Controls London Permanent U...</td>\n",
       "      <td>Kaggle</td>\n",
       "      <td>job_description</td>\n",
       "    </tr>\n",
       "    <tr>\n",
       "      <th>10944</th>\n",
       "      <td>Data Analyst</td>\n",
       "      <td>Global Market Leader Business Analyst / Data A...</td>\n",
       "      <td>Kaggle</td>\n",
       "      <td>job_description</td>\n",
       "    </tr>\n",
       "    <tr>\n",
       "      <th>12706</th>\n",
       "      <td>Data Analyst</td>\n",
       "      <td>Data Analyst ****K We have a great opportunity...</td>\n",
       "      <td>Kaggle</td>\n",
       "      <td>job_description</td>\n",
       "    </tr>\n",
       "    <tr>\n",
       "      <th>17528</th>\n",
       "      <td>Data Analyst</td>\n",
       "      <td>Data Analyst s to aid strategic decisions and ...</td>\n",
       "      <td>Kaggle</td>\n",
       "      <td>job_description</td>\n",
       "    </tr>\n",
       "    <tr>\n",
       "      <th>17621</th>\n",
       "      <td>Data Analyst</td>\n",
       "      <td>London Borough of Croydon Data Analyst Contrac...</td>\n",
       "      <td>Kaggle</td>\n",
       "      <td>job_description</td>\n",
       "    </tr>\n",
       "  </tbody>\n",
       "</table>\n",
       "</div>"
      ],
      "text/plain": [
       "          job_title                                            Content  \\\n",
       "8740   Data Analyst  Data Analyst  Data Controls London Permanent U...   \n",
       "10944  Data Analyst  Global Market Leader Business Analyst / Data A...   \n",
       "12706  Data Analyst  Data Analyst ****K We have a great opportunity...   \n",
       "17528  Data Analyst  Data Analyst s to aid strategic decisions and ...   \n",
       "17621  Data Analyst  London Borough of Croydon Data Analyst Contrac...   \n",
       "\n",
       "       source            label  \n",
       "8740   Kaggle  job_description  \n",
       "10944  Kaggle  job_description  \n",
       "12706  Kaggle  job_description  \n",
       "17528  Kaggle  job_description  \n",
       "17621  Kaggle  job_description  "
      ]
     },
     "execution_count": 59,
     "metadata": {},
     "output_type": "execute_result"
    }
   ],
   "source": [
    "add_data_analyst = df[df['job_title']==\"Data Analyst\"]\n",
    "print(add_data_analyst.shape)\n",
    "add_data_analyst.head()"
   ]
  },
  {
   "cell_type": "markdown",
   "id": "76f941e4-352f-40bd-8ace-ed007bfa89d9",
   "metadata": {},
   "source": [
    "final dataset"
   ]
  },
  {
   "cell_type": "code",
   "execution_count": 60,
   "id": "ec870e76-0a0f-4587-ad47-697937ab1765",
   "metadata": {},
   "outputs": [
    {
     "data": {
      "text/plain": [
       "Data Scientist        248\n",
       "Data Engineer         232\n",
       "other                 231\n",
       "Data Analyst          200\n",
       "Big Data Developer    125\n",
       "Name: job_title, dtype: int64"
      ]
     },
     "execution_count": 60,
     "metadata": {},
     "output_type": "execute_result"
    }
   ],
   "source": [
    "final_data = pd.concat([all_job_description_data,add_data_analyst],axis=0)\n",
    "final_data['job_title'].value_counts()"
   ]
  },
  {
   "cell_type": "code",
   "execution_count": 61,
   "id": "6ea578c4-e987-47d9-b3d0-81f8c8139188",
   "metadata": {},
   "outputs": [
    {
     "data": {
      "text/html": [
       "<div>\n",
       "<style scoped>\n",
       "    .dataframe tbody tr th:only-of-type {\n",
       "        vertical-align: middle;\n",
       "    }\n",
       "\n",
       "    .dataframe tbody tr th {\n",
       "        vertical-align: top;\n",
       "    }\n",
       "\n",
       "    .dataframe thead th {\n",
       "        text-align: right;\n",
       "    }\n",
       "</style>\n",
       "<table border=\"1\" class=\"dataframe\">\n",
       "  <thead>\n",
       "    <tr style=\"text-align: right;\">\n",
       "      <th></th>\n",
       "      <th>Content</th>\n",
       "      <th>source</th>\n",
       "      <th>job_title</th>\n",
       "      <th>label</th>\n",
       "    </tr>\n",
       "  </thead>\n",
       "  <tbody>\n",
       "  </tbody>\n",
       "</table>\n",
       "</div>"
      ],
      "text/plain": [
       "Empty DataFrame\n",
       "Columns: [Content, source, job_title, label]\n",
       "Index: []"
      ]
     },
     "execution_count": 61,
     "metadata": {},
     "output_type": "execute_result"
    }
   ],
   "source": [
    "final_data[final_data.duplicated()]"
   ]
  },
  {
   "cell_type": "code",
   "execution_count": 62,
   "id": "e6e14b09-0bc0-4294-8115-2ec22d87b206",
   "metadata": {},
   "outputs": [
    {
     "data": {
      "image/png": "[encoded data removed]",
      "text/plain": [
       "<Figure size 1080x720 with 1 Axes>"
      ]
     },
     "metadata": {
      "needs_background": "light"
     },
     "output_type": "display_data"
    }
   ],
   "source": [
    "plt.figure(figsize=(15,10))\n",
    "# label = [i for i in all_job_description_data['job_title'].value_counts().to_list()]\n",
    "ax = sns.countplot(x=\"job_title\",data=final_data)\n",
    "plt.title(\"Number of job per job type\")\n",
    "# plt.legend()\n",
    "plt.show()"
   ]
  },
  {
   "cell_type": "code",
   "execution_count": 63,
   "id": "84513b5f-32d2-4535-9c47-9439a1eb2d8b",
   "metadata": {},
   "outputs": [],
   "source": [
    "# final_data.to_csv('data/unbalanced.csv',index=False)"
   ]
  },
  {
   "cell_type": "markdown",
   "id": "ba0bb609-9a49-43ef-8b99-dfa3e455c756",
   "metadata": {},
   "source": [
    "## Text reprocessing"
   ]
  },
  {
   "cell_type": "code",
   "execution_count": 83,
   "id": "21fc88ad-dc9b-4dab-a60a-ca40dc6ee929",
   "metadata": {},
   "outputs": [
    {
     "data": {
      "image/png": "[encoded data removed]",
      "text/plain": [
       "<Figure size 720x720 with 1 Axes>"
      ]
     },
     "metadata": {
      "needs_background": "light"
     },
     "output_type": "display_data"
    }
   ],
   "source": [
    "import seaborn as sns\n",
    "from collections import  Counter\n",
    "\n",
    "def plot_top_non_stopwords_barchart(text):\n",
    "    stop=set(stopwords.words('english'))\n",
    "    \n",
    "    new= text.str.split()\n",
    "    new=new.values.tolist()\n",
    "    corpus=[word for i in new for word in i]\n",
    "\n",
    "    counter=Counter(corpus)\n",
    "    most=counter.most_common()\n",
    "    x, y=[], []\n",
    "    for word,count in most[:50]:\n",
    "        if (word not in stop):\n",
    "            x.append(word)\n",
    "            y.append(count)\n",
    "    plt.figure(figsize=(10,10))\n",
    "    sns.barplot(x=y,y=x)\n",
    "\n",
    "plot_top_non_stopwords_barchart(df['Content'])"
   ]
  }
 ],
 "metadata": {
  "kernelspec": {
   "display_name": "Python 3",
   "language": "python",
   "name": "python3"
  },
  "language_info": {
   "codemirror_mode": {
    "name": "ipython",
    "version": 3
   },
   "file_extension": ".py",
   "mimetype": "text/x-python",
   "name": "python",
   "nbconvert_exporter": "python",
   "pygments_lexer": "ipython3",
   "version": "3.8.8"
  }
 },
 "nbformat": 4,
 "nbformat_minor": 5
}
